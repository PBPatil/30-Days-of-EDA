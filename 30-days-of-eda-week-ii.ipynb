{
 "cells": [
  {
   "cell_type": "markdown",
   "id": "2bce0bcc",
   "metadata": {
    "papermill": {
     "duration": 0.009564,
     "end_time": "2023-10-10T17:09:21.536685",
     "exception": false,
     "start_time": "2023-10-10T17:09:21.527121",
     "status": "completed"
    },
    "tags": []
   },
   "source": [
    "<div style=\"border-radius:10px;border:#254E58 solid;padding: 15px;background-color:white;font-size:110%;text-align:left\">\n",
    "    \n",
    "This kernel is the continuation of **[30 Days of EDA](https://www.kaggle.com/discussions/general/442602)** learning series.If you are new here, you might want to check out the **[30 days of EDA - Week I](https://www.kaggle.com/code/prasad22/30-days-of-eda-week-i)**. Key focus would be towards Text oriented \n",
    "exploration and preprocessing ideas in this notebook.\n",
    "    \n",
    "<h1 align=\"left\"><font color=orange> Table of Contents</font></h1>\n",
    "\n",
    "<h2 align=\"left\"><font color=violet> Week II</font></h2>\n",
    "\n",
    "- [Day 8 : Basic Text data preprocessing](#Day-8-:-Basic-Text-data-preprocessing)\n",
    "- [Day 9 : Engineering New Text Features](#Day-9-:-Engineering-New-Text-Features)\n",
    "- [Day 10 : Masked Wordcloud](#Day-10-:-Masked-Wordcloud)\n",
    "- [Day 11 : Sentiment Analysis](#Day-11-:-Sentiment-Analysis)\n",
    "- [Day 12 : Feature Extraction Using Regular Expressions](#Day-12-:-Feature-Extraction-Using-Regular-Expressions)\n",
    "- [Day 13 : Feature Extraction Using POS Tagging](#Day-13-:-Feature-Extraction-Using-POS-Tagging)\n",
    "- [Day 14 : Finding Textual Similarity](#Day-14-:-Finding-Textual-Similarity)    "
   ]
  },
  {
   "cell_type": "code",
   "execution_count": 1,
   "id": "b15262bb",
   "metadata": {
    "execution": {
     "iopub.execute_input": "2023-10-10T17:09:21.556535Z",
     "iopub.status.busy": "2023-10-10T17:09:21.556102Z",
     "iopub.status.idle": "2023-10-10T17:09:33.162750Z",
     "shell.execute_reply": "2023-10-10T17:09:33.161634Z"
    },
    "papermill": {
     "duration": 11.619113,
     "end_time": "2023-10-10T17:09:33.164958",
     "exception": false,
     "start_time": "2023-10-10T17:09:21.545845",
     "status": "completed"
    },
    "tags": []
   },
   "outputs": [
    {
     "name": "stdout",
     "output_type": "stream",
     "text": [
      "Collecting contractions\r\n",
      "  Downloading contractions-0.1.73-py2.py3-none-any.whl (8.7 kB)\r\n",
      "Collecting textsearch>=0.0.21 (from contractions)\r\n",
      "  Downloading textsearch-0.0.24-py2.py3-none-any.whl (7.6 kB)\r\n",
      "Collecting anyascii (from textsearch>=0.0.21->contractions)\r\n",
      "  Downloading anyascii-0.3.2-py3-none-any.whl (289 kB)\r\n",
      "\u001b[2K     \u001b[90m━━━━━━━━━━━━━━━━━━━━━━━━━━━━━━━━━━━━━━━\u001b[0m \u001b[32m289.9/289.9 kB\u001b[0m \u001b[31m5.4 MB/s\u001b[0m eta \u001b[36m0:00:00\u001b[0m\r\n",
      "\u001b[?25hCollecting pyahocorasick (from textsearch>=0.0.21->contractions)\r\n",
      "  Downloading pyahocorasick-2.0.0-cp310-cp310-manylinux_2_5_x86_64.manylinux1_x86_64.manylinux_2_12_x86_64.manylinux2010_x86_64.whl (110 kB)\r\n",
      "\u001b[2K     \u001b[90m━━━━━━━━━━━━━━━━━━━━━━━━━━━━━━━━━━━━━━\u001b[0m \u001b[32m110.8/110.8 kB\u001b[0m \u001b[31m10.9 MB/s\u001b[0m eta \u001b[36m0:00:00\u001b[0m\r\n",
      "\u001b[?25hInstalling collected packages: pyahocorasick, anyascii, textsearch, contractions\r\n",
      "Successfully installed anyascii-0.3.2 contractions-0.1.73 pyahocorasick-2.0.0 textsearch-0.0.24\r\n"
     ]
    }
   ],
   "source": [
    "#Dependencies\n",
    "# !pip install nltk\n",
    "!pip install contractions"
   ]
  },
  {
   "cell_type": "markdown",
   "id": "e8e82bcf",
   "metadata": {
    "papermill": {
     "duration": 0.009556,
     "end_time": "2023-10-10T17:09:33.184551",
     "exception": false,
     "start_time": "2023-10-10T17:09:33.174995",
     "status": "completed"
    },
    "tags": []
   },
   "source": [
    "# **<span style='color:skyblue'>Day 8 </span><span style='color:violet'><b>:</b></span><span style='color:lightgreen'> Basic Text data preprocessing</span>**"
   ]
  },
  {
   "cell_type": "markdown",
   "id": "8b7f34c8",
   "metadata": {
    "papermill": {
     "duration": 0.009451,
     "end_time": "2023-10-10T17:09:33.203598",
     "exception": false,
     "start_time": "2023-10-10T17:09:33.194147",
     "status": "completed"
    },
    "tags": []
   },
   "source": [
    "<div style=\"border-radius:10px;border:#254E58 solid;padding: 15px;background-color:white;font-size:110%;text-align:left\">\n",
    "\n",
    "Text data preprocessing is an essential step in natural language processing (NLP) tasks. Here's a simple Python function that performs basic text data preprocessing using the popular NLTK library. This function includes common preprocessing steps such as lowercasing, tokenization, removing stopwords, and stemming:"
   ]
  },
  {
   "cell_type": "code",
   "execution_count": 2,
   "id": "b6c05f29",
   "metadata": {
    "execution": {
     "iopub.execute_input": "2023-10-10T17:09:33.225274Z",
     "iopub.status.busy": "2023-10-10T17:09:33.224122Z",
     "iopub.status.idle": "2023-10-10T17:09:49.329374Z",
     "shell.execute_reply": "2023-10-10T17:09:49.328377Z"
    },
    "papermill": {
     "duration": 16.11871,
     "end_time": "2023-10-10T17:09:49.331820",
     "exception": false,
     "start_time": "2023-10-10T17:09:33.213110",
     "status": "completed"
    },
    "tags": []
   },
   "outputs": [
    {
     "name": "stdout",
     "output_type": "stream",
     "text": [
      "[nltk_data] Downloading package punkt to /usr/share/nltk_data...\n",
      "[nltk_data]   Package punkt is already up-to-date!\n"
     ]
    }
   ],
   "source": [
    "import warnings\n",
    "warnings.filterwarnings('ignore')\n",
    "\n",
    "import pandas as pd\n",
    "import nltk\n",
    "import spacy\n",
    "from nltk.corpus import stopwords\n",
    "from nltk.tokenize import word_tokenize\n",
    "from bs4 import BeautifulSoup\n",
    "\n",
    "import contractions\n",
    "import re\n",
    "\n",
    "nltk.download('punkt')\n",
    "\n",
    "pd.set_option(\"display.max_columns\",None)\n",
    "\n",
    "# Load the spaCy English model\n",
    "nlp = spacy.load(\"en_core_web_sm\")\n",
    "\n",
    "def preprocess_text(text):\n",
    "    # Convert text to lowercase\n",
    "    text = text.lower()\n",
    "    \n",
    "    # Remove HTML tags\n",
    "    text = BeautifulSoup(text, 'html.parser').get_text()\n",
    "    \n",
    "    # Expand contractions\n",
    "    text = contractions.fix(text)\n",
    "    \n",
    "    # Remove punctuation\n",
    "    text = ''.join([char for char in text if char.isalnum() or char.isspace()])\n",
    "    \n",
    "    # Tokenize the text\n",
    "    words = word_tokenize(text)\n",
    "    \n",
    "    # Remove stopwords\n",
    "    stop_words = set(stopwords.words('english'))\n",
    "    words = [word for word in words if word not in stop_words]\n",
    "    \n",
    "    # Lemmatize the words using spaCy\n",
    "    doc = nlp(\" \".join(words))\n",
    "    lemmatized_words = [token.lemma_ for token in doc]\n",
    "    \n",
    "    # Join the lemmatized words back into a single string\n",
    "    preprocessed_text = ' '.join(lemmatized_words)\n",
    "    \n",
    "    return preprocessed_text"
   ]
  },
  {
   "cell_type": "code",
   "execution_count": 3,
   "id": "499a6085",
   "metadata": {
    "execution": {
     "iopub.execute_input": "2023-10-10T17:09:49.353491Z",
     "iopub.status.busy": "2023-10-10T17:09:49.352856Z",
     "iopub.status.idle": "2023-10-10T17:09:50.313089Z",
     "shell.execute_reply": "2023-10-10T17:09:50.312001Z"
    },
    "papermill": {
     "duration": 0.973401,
     "end_time": "2023-10-10T17:09:50.315307",
     "exception": false,
     "start_time": "2023-10-10T17:09:49.341906",
     "status": "completed"
    },
    "tags": []
   },
   "outputs": [
    {
     "data": {
      "text/html": [
       "<div>\n",
       "<style scoped>\n",
       "    .dataframe tbody tr th:only-of-type {\n",
       "        vertical-align: middle;\n",
       "    }\n",
       "\n",
       "    .dataframe tbody tr th {\n",
       "        vertical-align: top;\n",
       "    }\n",
       "\n",
       "    .dataframe thead th {\n",
       "        text-align: right;\n",
       "    }\n",
       "</style>\n",
       "<table border=\"1\" class=\"dataframe\">\n",
       "  <thead>\n",
       "    <tr style=\"text-align: right;\">\n",
       "      <th></th>\n",
       "      <th>Reference ID</th>\n",
       "      <th>Report Year</th>\n",
       "      <th>Diagnosis Category</th>\n",
       "      <th>Diagnosis Sub Category</th>\n",
       "      <th>Treatment Category</th>\n",
       "      <th>Treatment Sub Category</th>\n",
       "      <th>Determination</th>\n",
       "      <th>Type</th>\n",
       "      <th>Age Range</th>\n",
       "      <th>Patient Gender</th>\n",
       "      <th>Findings</th>\n",
       "    </tr>\n",
       "  </thead>\n",
       "  <tbody>\n",
       "    <tr>\n",
       "      <th>0</th>\n",
       "      <td>MN16-22639</td>\n",
       "      <td>2016</td>\n",
       "      <td>Infectious</td>\n",
       "      <td>Hepatitis</td>\n",
       "      <td>Pharmacy/Prescription Drugs</td>\n",
       "      <td>Anti-virals</td>\n",
       "      <td>Overturned Decision of Health Plan</td>\n",
       "      <td>Medical Necessity</td>\n",
       "      <td>41-50</td>\n",
       "      <td>Male</td>\n",
       "      <td>Nature of Statutory Criteria/Case Summary: An ...</td>\n",
       "    </tr>\n",
       "    <tr>\n",
       "      <th>1</th>\n",
       "      <td>MN16-22638</td>\n",
       "      <td>2016</td>\n",
       "      <td>Mental</td>\n",
       "      <td>Eating Disorder</td>\n",
       "      <td>Mental Health Treatment</td>\n",
       "      <td>Residential Treatment Center - Admission</td>\n",
       "      <td>Upheld Decision of Health Plan</td>\n",
       "      <td>Medical Necessity</td>\n",
       "      <td>21-30</td>\n",
       "      <td>Female</td>\n",
       "      <td>Nature of Statutory Criteria/Case Summary:  An...</td>\n",
       "    </tr>\n",
       "    <tr>\n",
       "      <th>2</th>\n",
       "      <td>MN16-22637</td>\n",
       "      <td>2016</td>\n",
       "      <td>Autism Spectrum</td>\n",
       "      <td>Autism-PDD-NOS</td>\n",
       "      <td>Autism Related Treatment</td>\n",
       "      <td>Speech Therapy</td>\n",
       "      <td>Upheld Decision of Health Plan</td>\n",
       "      <td>Medical Necessity</td>\n",
       "      <td>0-10</td>\n",
       "      <td>Female</td>\n",
       "      <td>Nature of Statutory Criteria/Case Summary:  Th...</td>\n",
       "    </tr>\n",
       "    <tr>\n",
       "      <th>3</th>\n",
       "      <td>EI16-22636</td>\n",
       "      <td>2016</td>\n",
       "      <td>Prevention/Good Health</td>\n",
       "      <td>NaN</td>\n",
       "      <td>Diagnostic Imaging, Screening and Testing</td>\n",
       "      <td>Mammography</td>\n",
       "      <td>Overturned Decision of Health Plan</td>\n",
       "      <td>Experimental/Investigational</td>\n",
       "      <td>65+</td>\n",
       "      <td>Female</td>\n",
       "      <td>Nature of Statutory Criteria/Case Summary: An ...</td>\n",
       "    </tr>\n",
       "    <tr>\n",
       "      <th>4</th>\n",
       "      <td>EI06-5319</td>\n",
       "      <td>2006</td>\n",
       "      <td>Cardiac/Circulatory</td>\n",
       "      <td>NaN</td>\n",
       "      <td>Cardio Vascular</td>\n",
       "      <td>NaN</td>\n",
       "      <td>Upheld Decision of Health Plan</td>\n",
       "      <td>Experimental/Investigational</td>\n",
       "      <td>51-64</td>\n",
       "      <td>Male</td>\n",
       "      <td>Physician 1: The patient is a 62-year-old male...</td>\n",
       "    </tr>\n",
       "  </tbody>\n",
       "</table>\n",
       "</div>"
      ],
      "text/plain": [
       "  Reference ID  Report Year      Diagnosis Category Diagnosis Sub Category  \\\n",
       "0   MN16-22639         2016              Infectious              Hepatitis   \n",
       "1   MN16-22638         2016                  Mental        Eating Disorder   \n",
       "2   MN16-22637         2016         Autism Spectrum         Autism-PDD-NOS   \n",
       "3   EI16-22636         2016  Prevention/Good Health                    NaN   \n",
       "4    EI06-5319         2006     Cardiac/Circulatory                    NaN   \n",
       "\n",
       "                          Treatment Category  \\\n",
       "0                Pharmacy/Prescription Drugs   \n",
       "1                    Mental Health Treatment   \n",
       "2                   Autism Related Treatment   \n",
       "3  Diagnostic Imaging, Screening and Testing   \n",
       "4                            Cardio Vascular   \n",
       "\n",
       "                     Treatment Sub Category  \\\n",
       "0                               Anti-virals   \n",
       "1  Residential Treatment Center - Admission   \n",
       "2                            Speech Therapy   \n",
       "3                               Mammography   \n",
       "4                                       NaN   \n",
       "\n",
       "                        Determination                          Type Age Range  \\\n",
       "0  Overturned Decision of Health Plan             Medical Necessity     41-50   \n",
       "1      Upheld Decision of Health Plan             Medical Necessity     21-30   \n",
       "2      Upheld Decision of Health Plan             Medical Necessity      0-10   \n",
       "3  Overturned Decision of Health Plan  Experimental/Investigational       65+   \n",
       "4      Upheld Decision of Health Plan  Experimental/Investigational     51-64   \n",
       "\n",
       "  Patient Gender                                           Findings  \n",
       "0           Male  Nature of Statutory Criteria/Case Summary: An ...  \n",
       "1         Female  Nature of Statutory Criteria/Case Summary:  An...  \n",
       "2         Female  Nature of Statutory Criteria/Case Summary:  Th...  \n",
       "3         Female  Nature of Statutory Criteria/Case Summary: An ...  \n",
       "4           Male  Physician 1: The patient is a 62-year-old male...  "
      ]
     },
     "execution_count": 3,
     "metadata": {},
     "output_type": "execute_result"
    }
   ],
   "source": [
    "#Applying it on a NLP/Text Dataset Ex. California Independent Medical Review Dataset\n",
    "ca_med_rev = pd.read_csv(\"/kaggle/input/ca-independent-medical-review/Independent_Medical_Review__IMR__Determinations__Trend.csv\")\n",
    "ca_med_rev.head()"
   ]
  },
  {
   "cell_type": "code",
   "execution_count": 4,
   "id": "e1ff6bfa",
   "metadata": {
    "execution": {
     "iopub.execute_input": "2023-10-10T17:09:50.336841Z",
     "iopub.status.busy": "2023-10-10T17:09:50.336504Z",
     "iopub.status.idle": "2023-10-10T17:09:50.342556Z",
     "shell.execute_reply": "2023-10-10T17:09:50.341550Z"
    },
    "papermill": {
     "duration": 0.018814,
     "end_time": "2023-10-10T17:09:50.344347",
     "exception": false,
     "start_time": "2023-10-10T17:09:50.325533",
     "status": "completed"
    },
    "tags": []
   },
   "outputs": [
    {
     "data": {
      "text/plain": [
       "'Nature of Statutory Criteria/Case Summary: An enrollee has requested breast tomosynthesis for evaluation of her medical condition.   Findings:  Two physician reviewers found that in the peer-reviewed medical literature, Skaane and colleagues found that the addition of three dimensional digital breast tomosynthesis to two dimensional full field digital mammography “resulted in a significantly higher cancer detection rate and enabled the detection of more invasive cancers.” Thus, although additional studies are needed to confirm these findings, there is adequate data to support the utility of three dimensional digital breast tomosynthesis in this clinical setting. In this case, an additional study was indicated to confirm the abnormal findings seen on a previous study. For these reasons, breast tomosynthesis on both dates in question were likely to be more beneficial for evaluation of this patient’s medical condition than any available standard therapy. Final Result: Two reviewers determined that the diagnostic procedures at issue were likely to be more beneficial for evaluation of the patient’s medical condition than any available standard therapy. Therefore, the Health Plan’s denial should be overturned.  Credentials/Qualifications:  All three reviewers are board certified in diagnostic radiology and are actively practicing. All three reviewers are experts in the treatment of the enrollee’s medical condition and knowledgeable about the proposed treatment through recent or current actual clinical experience treating those with the same or a similar medical condition.'"
      ]
     },
     "execution_count": 4,
     "metadata": {},
     "output_type": "execute_result"
    }
   ],
   "source": [
    "#Original Text\n",
    "ca_med_rev[\"Findings\"][22]"
   ]
  },
  {
   "cell_type": "code",
   "execution_count": 5,
   "id": "f5bb3071",
   "metadata": {
    "execution": {
     "iopub.execute_input": "2023-10-10T17:09:50.367251Z",
     "iopub.status.busy": "2023-10-10T17:09:50.366875Z",
     "iopub.status.idle": "2023-10-10T17:09:50.441131Z",
     "shell.execute_reply": "2023-10-10T17:09:50.439896Z"
    },
    "papermill": {
     "duration": 0.087727,
     "end_time": "2023-10-10T17:09:50.443095",
     "exception": false,
     "start_time": "2023-10-10T17:09:50.355368",
     "status": "completed"
    },
    "tags": []
   },
   "outputs": [
    {
     "name": "stdout",
     "output_type": "stream",
     "text": [
      "nature statutory criteriacase summary enrollee request breast tomosynthesis evaluation medical condition finding two physician reviewer find peerreviewe medical literature skaane colleague find addition three dimensional digital breast tomosynthesis two dimensional full field digital mammography result significantly high cancer detection rate enable detection invasive cancer thus although additional study need confirm finding adequate datum support utility three dimensional digital breast tomosynthesis clinical setting case additional study indicate confirm abnormal finding see previous study reason breast tomosynthesis date question likely beneficial evaluation patient medical condition available standard therapy final result two reviewer determine diagnostic procedure issue likely beneficial evaluation patient medical condition available standard therapy therefore health plan denial overturn credentialsqualification three reviewer board certify diagnostic radiology actively practice three reviewer expert treatment enrollee medical condition knowledgeable propose treatment recent current actual clinical experience treat similar medical condition\n"
     ]
    }
   ],
   "source": [
    "#Preprocessed text\n",
    "preprocessed_text = preprocess_text(ca_med_rev[\"Findings\"][22])\n",
    "print(preprocessed_text)"
   ]
  },
  {
   "cell_type": "markdown",
   "id": "5c8fbd90",
   "metadata": {
    "papermill": {
     "duration": 0.010351,
     "end_time": "2023-10-10T17:09:50.463924",
     "exception": false,
     "start_time": "2023-10-10T17:09:50.453573",
     "status": "completed"
    },
    "tags": []
   },
   "source": [
    "<div style=\"border-radius:10px;border:#254E58 solid;padding: 15px;background-color:white;font-size:110%;text-align:left\">\n",
    "    \n",
    "    \n",
    "This function first converts the input text to lowercase, tokenizes it into words, removes common English stopwords, and then stems the remaining words using the Porter Stemmer algorithm. The preprocessed text is then returned as a single string.\n",
    "\n",
    "You can modify this function or add additional preprocessing steps depending on your specific NLP task and requirements."
   ]
  },
  {
   "cell_type": "markdown",
   "id": "84508342",
   "metadata": {
    "papermill": {
     "duration": 0.009914,
     "end_time": "2023-10-10T17:09:50.484062",
     "exception": false,
     "start_time": "2023-10-10T17:09:50.474148",
     "status": "completed"
    },
    "tags": []
   },
   "source": [
    "([Table of Contents](#-Table-of-Contents))"
   ]
  },
  {
   "cell_type": "markdown",
   "id": "af2b7f66",
   "metadata": {
    "papermill": {
     "duration": 0.009905,
     "end_time": "2023-10-10T17:09:50.504108",
     "exception": false,
     "start_time": "2023-10-10T17:09:50.494203",
     "status": "completed"
    },
    "tags": []
   },
   "source": [
    "# **<span style='color:skyblue'>Day 9 </span><span style='color:violet'><b>:</b></span><span style='color:lightgreen'> Engineering New Text Features</span>**"
   ]
  },
  {
   "cell_type": "code",
   "execution_count": 6,
   "id": "52380eec",
   "metadata": {
    "execution": {
     "iopub.execute_input": "2023-10-10T17:09:50.527409Z",
     "iopub.status.busy": "2023-10-10T17:09:50.527037Z",
     "iopub.status.idle": "2023-10-10T17:09:51.707795Z",
     "shell.execute_reply": "2023-10-10T17:09:51.706557Z"
    },
    "papermill": {
     "duration": 1.195883,
     "end_time": "2023-10-10T17:09:51.710093",
     "exception": false,
     "start_time": "2023-10-10T17:09:50.514210",
     "status": "completed"
    },
    "tags": []
   },
   "outputs": [
    {
     "name": "stdout",
     "output_type": "stream",
     "text": [
      "<class 'pandas.core.frame.DataFrame'>\n",
      "RangeIndex: 50000 entries, 0 to 49999\n",
      "Data columns (total 13 columns):\n",
      " #   Column            Non-Null Count  Dtype \n",
      "---  ------            --------------  ----- \n",
      " 0   ID                50000 non-null  int64 \n",
      " 1   Timestamp         50000 non-null  object\n",
      " 2   User              50000 non-null  object\n",
      " 3   Text              50000 non-null  object\n",
      " 4   Hashtag           40684 non-null  object\n",
      " 5   Retweets          50000 non-null  int64 \n",
      " 6   Likes             50000 non-null  int64 \n",
      " 7   Replies           50000 non-null  int64 \n",
      " 8   Source            50000 non-null  object\n",
      " 9   Location          44011 non-null  object\n",
      " 10  Verified_Account  50000 non-null  bool  \n",
      " 11  Followers         50000 non-null  int64 \n",
      " 12  Following         50000 non-null  int64 \n",
      "dtypes: bool(1), int64(6), object(6)\n",
      "memory usage: 4.6+ MB\n"
     ]
    }
   ],
   "source": [
    "import seaborn as sns\n",
    "sns.set_style('white')\n",
    "\n",
    "#Loading Dataset - Job Vacancy Tweets Dataset\n",
    "job_tweets = pd.read_csv('/kaggle/input/job-vacancy-tweets/Job_Tweets.csv')\n",
    "job_tweets.info()"
   ]
  },
  {
   "cell_type": "code",
   "execution_count": 7,
   "id": "19823753",
   "metadata": {
    "execution": {
     "iopub.execute_input": "2023-10-10T17:09:51.793720Z",
     "iopub.status.busy": "2023-10-10T17:09:51.793104Z",
     "iopub.status.idle": "2023-10-10T17:09:51.802317Z",
     "shell.execute_reply": "2023-10-10T17:09:51.801259Z"
    },
    "papermill": {
     "duration": 0.023102,
     "end_time": "2023-10-10T17:09:51.804160",
     "exception": false,
     "start_time": "2023-10-10T17:09:51.781058",
     "status": "completed"
    },
    "tags": []
   },
   "outputs": [],
   "source": [
    "import pandas as pd\n",
    "from sklearn.feature_extraction.text import TfidfVectorizer\n",
    "from sklearn.feature_extraction import text \n",
    "\n",
    "def text_feature_engineering(df,column_name):\n",
    "    # Calculate word count\n",
    "    df['word_count'] = df[column_name].apply(lambda x: len(str(x).split(\" \")))\n",
    "\n",
    "    # Calculate character count\n",
    "    df['char_count'] = df[column_name].str.len()\n",
    "\n",
    "    # Define a function to calculate average word length\n",
    "    def avg_word(sentence):\n",
    "        words = sentence.split()\n",
    "        return (sum(len(word) for word in words) / max(len(words), 1))\n",
    "\n",
    "    # Calculate average word length\n",
    "    df['avg_word'] = df[column_name].apply(lambda x: avg_word(x))\n",
    "\n",
    "    # Load stopwords and calculate the number of stopwords\n",
    "    stop = text.ENGLISH_STOP_WORDS\n",
    "    df['stopwords'] = df[column_name].apply(lambda x: len([x for x in x.split() if x in stop]))\n",
    "\n",
    "    # Calculate the number of hashtags\n",
    "    df['hashtags'] = df[column_name].apply(lambda x: len([x for x in x.split() if x.startswith('#')]))\n",
    "\n",
    "    # Calculate the number of numeric words\n",
    "    df['numerics'] = df[column_name].apply(lambda x: len([x for x in x.split() if x.isdigit()]))\n",
    "\n",
    "    # Calculate the number of uppercase words\n",
    "    df['upper'] = df[column_name].apply(lambda x: len([x for x in x.split() if x.isupper()]))\n",
    "\n",
    "    return df"
   ]
  },
  {
   "cell_type": "code",
   "execution_count": 8,
   "id": "61d7fd13",
   "metadata": {
    "execution": {
     "iopub.execute_input": "2023-10-10T17:09:51.827105Z",
     "iopub.status.busy": "2023-10-10T17:09:51.826217Z",
     "iopub.status.idle": "2023-10-10T17:09:52.957550Z",
     "shell.execute_reply": "2023-10-10T17:09:52.956432Z"
    },
    "papermill": {
     "duration": 1.144884,
     "end_time": "2023-10-10T17:09:52.959521",
     "exception": false,
     "start_time": "2023-10-10T17:09:51.814637",
     "status": "completed"
    },
    "tags": []
   },
   "outputs": [
    {
     "data": {
      "text/plain": [
       "(50000, 20)"
      ]
     },
     "execution_count": 8,
     "metadata": {},
     "output_type": "execute_result"
    }
   ],
   "source": [
    "job_tweets = text_feature_engineering(job_tweets,column_name=\"Text\")\n",
    "job_tweets.shape"
   ]
  },
  {
   "cell_type": "code",
   "execution_count": 9,
   "id": "aca5aebd",
   "metadata": {
    "execution": {
     "iopub.execute_input": "2023-10-10T17:09:52.982007Z",
     "iopub.status.busy": "2023-10-10T17:09:52.981640Z",
     "iopub.status.idle": "2023-10-10T17:09:53.002090Z",
     "shell.execute_reply": "2023-10-10T17:09:53.001067Z"
    },
    "papermill": {
     "duration": 0.034024,
     "end_time": "2023-10-10T17:09:53.004122",
     "exception": false,
     "start_time": "2023-10-10T17:09:52.970098",
     "status": "completed"
    },
    "tags": []
   },
   "outputs": [
    {
     "data": {
      "text/html": [
       "<div>\n",
       "<style scoped>\n",
       "    .dataframe tbody tr th:only-of-type {\n",
       "        vertical-align: middle;\n",
       "    }\n",
       "\n",
       "    .dataframe tbody tr th {\n",
       "        vertical-align: top;\n",
       "    }\n",
       "\n",
       "    .dataframe thead th {\n",
       "        text-align: right;\n",
       "    }\n",
       "</style>\n",
       "<table border=\"1\" class=\"dataframe\">\n",
       "  <thead>\n",
       "    <tr style=\"text-align: right;\">\n",
       "      <th></th>\n",
       "      <th>ID</th>\n",
       "      <th>Timestamp</th>\n",
       "      <th>User</th>\n",
       "      <th>Text</th>\n",
       "      <th>Hashtag</th>\n",
       "      <th>Retweets</th>\n",
       "      <th>Likes</th>\n",
       "      <th>Replies</th>\n",
       "      <th>Source</th>\n",
       "      <th>Location</th>\n",
       "      <th>Verified_Account</th>\n",
       "      <th>Followers</th>\n",
       "      <th>Following</th>\n",
       "      <th>word_count</th>\n",
       "      <th>char_count</th>\n",
       "      <th>avg_word</th>\n",
       "      <th>stopwords</th>\n",
       "      <th>hashtags</th>\n",
       "      <th>numerics</th>\n",
       "      <th>upper</th>\n",
       "    </tr>\n",
       "  </thead>\n",
       "  <tbody>\n",
       "    <tr>\n",
       "      <th>22628</th>\n",
       "      <td>1473358483848314884</td>\n",
       "      <td>2021-12-21 18:23:30+00:00</td>\n",
       "      <td>ExtraSpaceJob</td>\n",
       "      <td>We are #hiring Assistant Store Manager in Hyat...</td>\n",
       "      <td>['hiring', 'jobs', 'Hyattsville']</td>\n",
       "      <td>0</td>\n",
       "      <td>0</td>\n",
       "      <td>0</td>\n",
       "      <td>&lt;a href=\"http://www.ziprecruiter.com\" rel=\"nof...</td>\n",
       "      <td>Salt Lake City, UT</td>\n",
       "      <td>False</td>\n",
       "      <td>51</td>\n",
       "      <td>23</td>\n",
       "      <td>12</td>\n",
       "      <td>100</td>\n",
       "      <td>7.416667</td>\n",
       "      <td>2</td>\n",
       "      <td>3</td>\n",
       "      <td>0</td>\n",
       "      <td>1</td>\n",
       "    </tr>\n",
       "  </tbody>\n",
       "</table>\n",
       "</div>"
      ],
      "text/plain": [
       "                        ID                  Timestamp           User  \\\n",
       "22628  1473358483848314884  2021-12-21 18:23:30+00:00  ExtraSpaceJob   \n",
       "\n",
       "                                                    Text  \\\n",
       "22628  We are #hiring Assistant Store Manager in Hyat...   \n",
       "\n",
       "                                 Hashtag  Retweets  Likes  Replies  \\\n",
       "22628  ['hiring', 'jobs', 'Hyattsville']         0      0        0   \n",
       "\n",
       "                                                  Source            Location  \\\n",
       "22628  <a href=\"http://www.ziprecruiter.com\" rel=\"nof...  Salt Lake City, UT   \n",
       "\n",
       "       Verified_Account  Followers  Following  word_count  char_count  \\\n",
       "22628             False         51         23          12         100   \n",
       "\n",
       "       avg_word  stopwords  hashtags  numerics  upper  \n",
       "22628  7.416667          2         3         0      1  "
      ]
     },
     "execution_count": 9,
     "metadata": {},
     "output_type": "execute_result"
    }
   ],
   "source": [
    "job_tweets.sample()"
   ]
  },
  {
   "cell_type": "markdown",
   "id": "4a6c2af2",
   "metadata": {
    "papermill": {
     "duration": 0.010446,
     "end_time": "2023-10-10T17:09:53.025449",
     "exception": false,
     "start_time": "2023-10-10T17:09:53.015003",
     "status": "completed"
    },
    "tags": []
   },
   "source": [
    "<div style=\"border-radius:10px;border:#254E58 solid;padding: 15px;background-color:white;font-size:110%;text-align:left\">\n",
    "    \n",
    "We have added 7 basic and commonly drawn features from text data. As an assignment you can try calculating TF-IDF for each datapoint which would be another insightful feature to have.    "
   ]
  },
  {
   "cell_type": "markdown",
   "id": "30552a04",
   "metadata": {
    "papermill": {
     "duration": 0.010522,
     "end_time": "2023-10-10T17:09:53.046763",
     "exception": false,
     "start_time": "2023-10-10T17:09:53.036241",
     "status": "completed"
    },
    "tags": []
   },
   "source": [
    "([Table of Contents](#-Table-of-Contents))"
   ]
  },
  {
   "cell_type": "markdown",
   "id": "cfdf5d1b",
   "metadata": {
    "papermill": {
     "duration": 0.010028,
     "end_time": "2023-10-10T17:09:53.067113",
     "exception": false,
     "start_time": "2023-10-10T17:09:53.057085",
     "status": "completed"
    },
    "tags": []
   },
   "source": [
    "# **<span style='color:skyblue'>Day 10 </span><span style='color:violet'><b>:</b></span><span style='color:lightgreen'> Masked Wordcloud</span>**"
   ]
  },
  {
   "cell_type": "markdown",
   "id": "8264b523",
   "metadata": {
    "papermill": {
     "duration": 0.010317,
     "end_time": "2023-10-10T17:09:53.088306",
     "exception": false,
     "start_time": "2023-10-10T17:09:53.077989",
     "status": "completed"
    },
    "tags": []
   },
   "source": [
    "<div style=\"border-radius:10px;border:#254E58 solid;padding: 15px;background-color:white;font-size:110%;text-align:left\">\n",
    "\n",
    "A `\"masked word cloud\"` is a type of word cloud visualization where the words are displayed within the contours or boundaries of a specific shape or image, instead of the traditional rectangular or cloud-shaped word cloud. This technique allows you to create more visually appealing and contextually relevant word clouds by arranging words in a predefined pattern or shape.\n",
    "\n",
    "Here's why you might want to create a masked word cloud:\n",
    "\n",
    "**Visual Appeal**: Masked word clouds can be more visually appealing and engaging compared to traditional word clouds. By using custom shapes and images, you can make your word cloud more aesthetically pleasing.\n",
    "\n",
    "**Contextual Relevance**: When you use a specific shape or image as a mask, you can make the word cloud relevant to a particular topic or concept. For example, if you're analyzing customer reviews of a restaurant, you can create a word cloud in the shape of a plate or fork to emphasize food-related terms."
   ]
  },
  {
   "cell_type": "code",
   "execution_count": 10,
   "id": "362a4334",
   "metadata": {
    "execution": {
     "iopub.execute_input": "2023-10-10T17:09:53.111720Z",
     "iopub.status.busy": "2023-10-10T17:09:53.110994Z",
     "iopub.status.idle": "2023-10-10T17:09:53.172735Z",
     "shell.execute_reply": "2023-10-10T17:09:53.171737Z"
    },
    "papermill": {
     "duration": 0.076185,
     "end_time": "2023-10-10T17:09:53.175197",
     "exception": false,
     "start_time": "2023-10-10T17:09:53.099012",
     "status": "completed"
    },
    "tags": []
   },
   "outputs": [],
   "source": [
    "import numpy as np\n",
    "from wordcloud import WordCloud, STOPWORDS\n",
    "from PIL import Image\n",
    "import matplotlib.pyplot as plt\n",
    "\n",
    "def generate_masked_wordcloud(text_data, mask_image_path, stopwords=None):\n",
    "    # Load the mask image\n",
    "    background = np.array(Image.open(mask_image_path))\n",
    "\n",
    "    # Define stopwords\n",
    "    if stopwords is None:\n",
    "        stopwords = set(STOPWORDS)\n",
    "\n",
    "    # Generate the word cloud\n",
    "    wordcloud = WordCloud(\n",
    "        stopwords=stopwords,\n",
    "        collocations=False,\n",
    "        background_color='white',\n",
    "        min_font_size=0.1,\n",
    "        mask=background\n",
    "    ).generate(text_data)\n",
    "\n",
    "    # Display the word cloud\n",
    "    plt.figure(figsize=(5,5))\n",
    "    plt.clf()\n",
    "    plt.imshow(wordcloud)\n",
    "    plt.axis('off')\n",
    "    plt.show()\n"
   ]
  },
  {
   "cell_type": "code",
   "execution_count": 11,
   "id": "3be2663e",
   "metadata": {
    "execution": {
     "iopub.execute_input": "2023-10-10T17:09:53.200068Z",
     "iopub.status.busy": "2023-10-10T17:09:53.199315Z",
     "iopub.status.idle": "2023-10-10T17:09:54.469349Z",
     "shell.execute_reply": "2023-10-10T17:09:54.468262Z"
    },
    "papermill": {
     "duration": 1.285282,
     "end_time": "2023-10-10T17:09:54.471550",
     "exception": false,
     "start_time": "2023-10-10T17:09:53.186268",
     "status": "completed"
    },
    "tags": []
   },
   "outputs": [
    {
     "data": {
      "text/html": [
       "<div>\n",
       "<style scoped>\n",
       "    .dataframe tbody tr th:only-of-type {\n",
       "        vertical-align: middle;\n",
       "    }\n",
       "\n",
       "    .dataframe tbody tr th {\n",
       "        vertical-align: top;\n",
       "    }\n",
       "\n",
       "    .dataframe thead th {\n",
       "        text-align: right;\n",
       "    }\n",
       "</style>\n",
       "<table border=\"1\" class=\"dataframe\">\n",
       "  <thead>\n",
       "    <tr style=\"text-align: right;\">\n",
       "      <th></th>\n",
       "      <th>ID</th>\n",
       "      <th>Timestamp</th>\n",
       "      <th>User</th>\n",
       "      <th>Text</th>\n",
       "      <th>Hashtag</th>\n",
       "      <th>Retweets</th>\n",
       "      <th>Likes</th>\n",
       "      <th>Replies</th>\n",
       "      <th>Source</th>\n",
       "      <th>Location</th>\n",
       "      <th>Verified_Account</th>\n",
       "      <th>Followers</th>\n",
       "      <th>Following</th>\n",
       "    </tr>\n",
       "  </thead>\n",
       "  <tbody>\n",
       "    <tr>\n",
       "      <th>0</th>\n",
       "      <td>2.855350e+17</td>\n",
       "      <td>2012-12-30 23:56:11+00:00</td>\n",
       "      <td>AmythLFC</td>\n",
       "      <td>I scored 75 points in Gameweek 20 on Fantasy P...</td>\n",
       "      <td>NaN</td>\n",
       "      <td>0</td>\n",
       "      <td>0</td>\n",
       "      <td>0</td>\n",
       "      <td>&lt;a href=\"https://dev.twitter.com/docs/tfw\" rel...</td>\n",
       "      <td>NaN</td>\n",
       "      <td>False</td>\n",
       "      <td>559</td>\n",
       "      <td>812</td>\n",
       "    </tr>\n",
       "    <tr>\n",
       "      <th>1</th>\n",
       "      <td>2.855290e+17</td>\n",
       "      <td>2012-12-30 23:31:55+00:00</td>\n",
       "      <td>BenBoutwood</td>\n",
       "      <td>110,525 have transferred Walcott into fantasy ...</td>\n",
       "      <td>NaN</td>\n",
       "      <td>0</td>\n",
       "      <td>0</td>\n",
       "      <td>0</td>\n",
       "      <td>&lt;a href=\"http://twitter.com\" rel=\"nofollow\"&gt;Tw...</td>\n",
       "      <td>NaN</td>\n",
       "      <td>False</td>\n",
       "      <td>267</td>\n",
       "      <td>351</td>\n",
       "    </tr>\n",
       "    <tr>\n",
       "      <th>2</th>\n",
       "      <td>2.855270e+17</td>\n",
       "      <td>2012-12-30 23:24:56+00:00</td>\n",
       "      <td>ddreid88</td>\n",
       "      <td>I scored 61 points in Gameweek 20 on Fantasy P...</td>\n",
       "      <td>NaN</td>\n",
       "      <td>0</td>\n",
       "      <td>0</td>\n",
       "      <td>0</td>\n",
       "      <td>&lt;a href=\"http://twitter.com/download/android\" ...</td>\n",
       "      <td>Essex</td>\n",
       "      <td>False</td>\n",
       "      <td>7</td>\n",
       "      <td>64</td>\n",
       "    </tr>\n",
       "    <tr>\n",
       "      <th>3</th>\n",
       "      <td>2.855270e+17</td>\n",
       "      <td>2012-12-30 23:23:26+00:00</td>\n",
       "      <td>ahmedkungora16</td>\n",
       "      <td>I scored 71 points in Gameweek 20 on Fantasy P...</td>\n",
       "      <td>NaN</td>\n",
       "      <td>0</td>\n",
       "      <td>0</td>\n",
       "      <td>0</td>\n",
       "      <td>&lt;a href=\"https://dev.twitter.com/docs/tfw\" rel...</td>\n",
       "      <td>NaN</td>\n",
       "      <td>False</td>\n",
       "      <td>132</td>\n",
       "      <td>1100</td>\n",
       "    </tr>\n",
       "    <tr>\n",
       "      <th>4</th>\n",
       "      <td>2.855260e+17</td>\n",
       "      <td>2012-12-30 23:20:13+00:00</td>\n",
       "      <td>murray_rankin</td>\n",
       "      <td>My life's ambition is to one week be the highe...</td>\n",
       "      <td>['fpl', 'aiminghigh']</td>\n",
       "      <td>0</td>\n",
       "      <td>0</td>\n",
       "      <td>0</td>\n",
       "      <td>&lt;a href=\"http://twitter.com\" rel=\"nofollow\"&gt;Tw...</td>\n",
       "      <td>Glasgow, Scotland</td>\n",
       "      <td>False</td>\n",
       "      <td>133</td>\n",
       "      <td>453</td>\n",
       "    </tr>\n",
       "  </tbody>\n",
       "</table>\n",
       "</div>"
      ],
      "text/plain": [
       "             ID                  Timestamp            User  \\\n",
       "0  2.855350e+17  2012-12-30 23:56:11+00:00        AmythLFC   \n",
       "1  2.855290e+17  2012-12-30 23:31:55+00:00     BenBoutwood   \n",
       "2  2.855270e+17  2012-12-30 23:24:56+00:00        ddreid88   \n",
       "3  2.855270e+17  2012-12-30 23:23:26+00:00  ahmedkungora16   \n",
       "4  2.855260e+17  2012-12-30 23:20:13+00:00   murray_rankin   \n",
       "\n",
       "                                                Text                Hashtag  \\\n",
       "0  I scored 75 points in Gameweek 20 on Fantasy P...                    NaN   \n",
       "1  110,525 have transferred Walcott into fantasy ...                    NaN   \n",
       "2  I scored 61 points in Gameweek 20 on Fantasy P...                    NaN   \n",
       "3  I scored 71 points in Gameweek 20 on Fantasy P...                    NaN   \n",
       "4  My life's ambition is to one week be the highe...  ['fpl', 'aiminghigh']   \n",
       "\n",
       "   Retweets  Likes  Replies  \\\n",
       "0         0      0        0   \n",
       "1         0      0        0   \n",
       "2         0      0        0   \n",
       "3         0      0        0   \n",
       "4         0      0        0   \n",
       "\n",
       "                                              Source           Location  \\\n",
       "0  <a href=\"https://dev.twitter.com/docs/tfw\" rel...                NaN   \n",
       "1  <a href=\"http://twitter.com\" rel=\"nofollow\">Tw...                NaN   \n",
       "2  <a href=\"http://twitter.com/download/android\" ...              Essex   \n",
       "3  <a href=\"https://dev.twitter.com/docs/tfw\" rel...                NaN   \n",
       "4  <a href=\"http://twitter.com\" rel=\"nofollow\">Tw...  Glasgow, Scotland   \n",
       "\n",
       "   Verified_Account  Followers  Following  \n",
       "0             False        559        812  \n",
       "1             False        267        351  \n",
       "2             False          7         64  \n",
       "3             False        132       1100  \n",
       "4             False        133        453  "
      ]
     },
     "execution_count": 11,
     "metadata": {},
     "output_type": "execute_result"
    }
   ],
   "source": [
    "# Applying it on FPL Tweets Dataset\n",
    "fpl_tweets = pd.read_csv(\"/kaggle/input/fpl-tweets-dataset/FPL_tweets.csv\")\n",
    "fpl_tweets.head()"
   ]
  },
  {
   "cell_type": "code",
   "execution_count": 12,
   "id": "6da59ec0",
   "metadata": {
    "execution": {
     "iopub.execute_input": "2023-10-10T17:09:54.498019Z",
     "iopub.status.busy": "2023-10-10T17:09:54.497691Z",
     "iopub.status.idle": "2023-10-10T17:09:58.735997Z",
     "shell.execute_reply": "2023-10-10T17:09:58.735064Z"
    },
    "papermill": {
     "duration": 4.254275,
     "end_time": "2023-10-10T17:09:58.738430",
     "exception": false,
     "start_time": "2023-10-10T17:09:54.484155",
     "status": "completed"
    },
    "tags": []
   },
   "outputs": [
    {
     "data": {
      "image/png": "[encoded data removed]",
      "text/plain": [
       "<Figure size 500x500 with 1 Axes>"
      ]
     },
     "metadata": {},
     "output_type": "display_data"
    }
   ],
   "source": [
    "word_string = ' '.join(fpl_tweets['Text'].astype(\"str\").values)\n",
    "generate_masked_wordcloud(word_string, '/kaggle/input/twittermask/twitter_mask3.jpg')"
   ]
  },
  {
   "cell_type": "markdown",
   "id": "de03b729",
   "metadata": {
    "papermill": {
     "duration": 0.012785,
     "end_time": "2023-10-10T17:09:58.764570",
     "exception": false,
     "start_time": "2023-10-10T17:09:58.751785",
     "status": "completed"
    },
    "tags": []
   },
   "source": [
    "<div style=\"border-radius:10px;border:#254E58 solid;padding: 15px;background-color:white;font-size:110%;text-align:left\">\n",
    "\n",
    "This example demonstrates how to create a basic masked word cloud. You can further customize it by adjusting the parameters and styles to match your preferences and the specific context of your data."
   ]
  },
  {
   "cell_type": "markdown",
   "id": "f8186cfb",
   "metadata": {
    "papermill": {
     "duration": 0.012775,
     "end_time": "2023-10-10T17:09:58.790010",
     "exception": false,
     "start_time": "2023-10-10T17:09:58.777235",
     "status": "completed"
    },
    "tags": []
   },
   "source": [
    "([Table of Contents](#-Table-of-Contents))"
   ]
  },
  {
   "cell_type": "markdown",
   "id": "0bfc953a",
   "metadata": {
    "papermill": {
     "duration": 0.012246,
     "end_time": "2023-10-10T17:09:58.815008",
     "exception": false,
     "start_time": "2023-10-10T17:09:58.802762",
     "status": "completed"
    },
    "tags": []
   },
   "source": [
    "# **<span style='color:skyblue'>Day 11 </span><span style='color:violet'><b>:</b></span><span style='color:lightgreen'> Sentiment Analysis</span>**"
   ]
  },
  {
   "cell_type": "markdown",
   "id": "bffcf830",
   "metadata": {
    "papermill": {
     "duration": 0.012388,
     "end_time": "2023-10-10T17:09:58.839796",
     "exception": false,
     "start_time": "2023-10-10T17:09:58.827408",
     "status": "completed"
    },
    "tags": []
   },
   "source": [
    "<div style=\"border-radius:10px;border:#254E58 solid;padding: 15px;background-color:white;font-size:110%;text-align:left\">\n",
    "    \n",
    "Writing a function to read text from a DataFrame column and create a new column based on sentiment analysis using the **`VADER (Valence Aware Dictionary and sEntiment Reasoner)`** sentiment analysis tool."
   ]
  },
  {
   "cell_type": "code",
   "execution_count": 13,
   "id": "feaa1258",
   "metadata": {
    "execution": {
     "iopub.execute_input": "2023-10-10T17:09:58.867768Z",
     "iopub.status.busy": "2023-10-10T17:09:58.867402Z",
     "iopub.status.idle": "2023-10-10T17:09:58.886234Z",
     "shell.execute_reply": "2023-10-10T17:09:58.885229Z"
    },
    "papermill": {
     "duration": 0.035764,
     "end_time": "2023-10-10T17:09:58.888121",
     "exception": false,
     "start_time": "2023-10-10T17:09:58.852357",
     "status": "completed"
    },
    "tags": []
   },
   "outputs": [
    {
     "name": "stdout",
     "output_type": "stream",
     "text": [
      "[nltk_data] Downloading package vader_lexicon to\n",
      "[nltk_data]     /usr/share/nltk_data...\n",
      "[nltk_data]   Package vader_lexicon is already up-to-date!\n"
     ]
    }
   ],
   "source": [
    "from nltk.sentiment.vader import SentimentIntensityAnalyzer\n",
    "\n",
    "# Download VADER lexicon (run this once)\n",
    "nltk.download('vader_lexicon')\n",
    "\n",
    "def add_sentiment_and_polarity_columns(dataframe, text_column, sentiment_column='Sentiment', polarity_column='Sentiment_Polarity'):\n",
    "\n",
    "    # Initialize the VADER sentiment analyzer\n",
    "    sia = SentimentIntensityAnalyzer()\n",
    "    \n",
    "    # Calculate sentiment scores for each row in the text column\n",
    "    dataframe[sentiment_column] = dataframe[text_column].apply(lambda x: sia.polarity_scores(x)['compound'])\n",
    "    \n",
    "    # Allocate sentiment polarities (positive, negative, or neutral)\n",
    "    dataframe[polarity_column] = dataframe[sentiment_column].apply(lambda score: 'positive' if score > 0.1 else 'negative' if score < -0.1 else 'neutral')\n",
    "    \n",
    "    return dataframe"
   ]
  },
  {
   "cell_type": "code",
   "execution_count": 14,
   "id": "bba0d2ac",
   "metadata": {
    "execution": {
     "iopub.execute_input": "2023-10-10T17:09:58.916093Z",
     "iopub.status.busy": "2023-10-10T17:09:58.915408Z",
     "iopub.status.idle": "2023-10-10T17:10:23.148280Z",
     "shell.execute_reply": "2023-10-10T17:10:23.147629Z"
    },
    "papermill": {
     "duration": 24.248875,
     "end_time": "2023-10-10T17:10:23.150068",
     "exception": false,
     "start_time": "2023-10-10T17:09:58.901193",
     "status": "completed"
    },
    "tags": []
   },
   "outputs": [
    {
     "data": {
      "text/html": [
       "<div>\n",
       "<style scoped>\n",
       "    .dataframe tbody tr th:only-of-type {\n",
       "        vertical-align: middle;\n",
       "    }\n",
       "\n",
       "    .dataframe tbody tr th {\n",
       "        vertical-align: top;\n",
       "    }\n",
       "\n",
       "    .dataframe thead th {\n",
       "        text-align: right;\n",
       "    }\n",
       "</style>\n",
       "<table border=\"1\" class=\"dataframe\">\n",
       "  <thead>\n",
       "    <tr style=\"text-align: right;\">\n",
       "      <th></th>\n",
       "      <th>ID</th>\n",
       "      <th>Timestamp</th>\n",
       "      <th>User</th>\n",
       "      <th>Text</th>\n",
       "      <th>Hashtag</th>\n",
       "      <th>Retweets</th>\n",
       "      <th>Likes</th>\n",
       "      <th>Replies</th>\n",
       "      <th>Source</th>\n",
       "      <th>Location</th>\n",
       "      <th>Verified_Account</th>\n",
       "      <th>Followers</th>\n",
       "      <th>Following</th>\n",
       "      <th>Sentiment</th>\n",
       "      <th>Sentiment_Polarity</th>\n",
       "    </tr>\n",
       "  </thead>\n",
       "  <tbody>\n",
       "    <tr>\n",
       "      <th>19932</th>\n",
       "      <td>3.905400e+17</td>\n",
       "      <td>2013-10-16 18:09:38+00:00</td>\n",
       "      <td>f3ranmi_</td>\n",
       "      <td>EA SPORTS? launch league for Fantasy managers:...</td>\n",
       "      <td>NaN</td>\n",
       "      <td>0</td>\n",
       "      <td>0</td>\n",
       "      <td>0</td>\n",
       "      <td>&lt;a href=\"http://twitter.com/download/android\" ...</td>\n",
       "      <td>NaN</td>\n",
       "      <td>False</td>\n",
       "      <td>757</td>\n",
       "      <td>422</td>\n",
       "      <td>0.7783</td>\n",
       "      <td>positive</td>\n",
       "    </tr>\n",
       "    <tr>\n",
       "      <th>95718</th>\n",
       "      <td>1.430150e+18</td>\n",
       "      <td>2021-08-24 12:32:15+00:00</td>\n",
       "      <td>iantwang</td>\n",
       "      <td>Not sure how many of you are a) Joanna Newsom ...</td>\n",
       "      <td>NaN</td>\n",
       "      <td>0</td>\n",
       "      <td>13</td>\n",
       "      <td>2</td>\n",
       "      <td>&lt;a href=\"http://twitter.com/download/android\" ...</td>\n",
       "      <td>London</td>\n",
       "      <td>False</td>\n",
       "      <td>2932</td>\n",
       "      <td>893</td>\n",
       "      <td>0.7596</td>\n",
       "      <td>positive</td>\n",
       "    </tr>\n",
       "    <tr>\n",
       "      <th>21099</th>\n",
       "      <td>5.434100e+17</td>\n",
       "      <td>2014-12-12 14:18:54+00:00</td>\n",
       "      <td>GuidoJesus</td>\n",
       "      <td>Tuve que poner al guevon de Diego Costa en muy...</td>\n",
       "      <td>NaN</td>\n",
       "      <td>0</td>\n",
       "      <td>0</td>\n",
       "      <td>0</td>\n",
       "      <td>&lt;a href=\"http://twitter.com/download/android\" ...</td>\n",
       "      <td>Barquisimeto, Venezuela</td>\n",
       "      <td>False</td>\n",
       "      <td>444</td>\n",
       "      <td>777</td>\n",
       "      <td>-0.4939</td>\n",
       "      <td>negative</td>\n",
       "    </tr>\n",
       "    <tr>\n",
       "      <th>57185</th>\n",
       "      <td>9.139330e+17</td>\n",
       "      <td>2017-09-30 01:05:23+00:00</td>\n",
       "      <td>sepakinfo</td>\n",
       "      <td>Pemain-Pemain Alternatif Pengganti Aguero di F...</td>\n",
       "      <td>NaN</td>\n",
       "      <td>0</td>\n",
       "      <td>0</td>\n",
       "      <td>0</td>\n",
       "      <td>&lt;a href=\"https://www.google.com/\" rel=\"nofollo...</td>\n",
       "      <td>NaN</td>\n",
       "      <td>False</td>\n",
       "      <td>204</td>\n",
       "      <td>21</td>\n",
       "      <td>0.0000</td>\n",
       "      <td>neutral</td>\n",
       "    </tr>\n",
       "    <tr>\n",
       "      <th>102585</th>\n",
       "      <td>1.580950e+18</td>\n",
       "      <td>2022-10-14 15:36:34+00:00</td>\n",
       "      <td>Ryan_ms28</td>\n",
       "      <td>🚨We are Live!!! 🚨\\n\\nFPL Gameweek 11 Deadline ...</td>\n",
       "      <td>['fpl', 'FPLCommunity', 'gw11']</td>\n",
       "      <td>0</td>\n",
       "      <td>2</td>\n",
       "      <td>0</td>\n",
       "      <td>&lt;a href=\"https://mobile.twitter.com\" rel=\"nofo...</td>\n",
       "      <td>Sydney, New South Wales</td>\n",
       "      <td>False</td>\n",
       "      <td>1272</td>\n",
       "      <td>1571</td>\n",
       "      <td>0.0000</td>\n",
       "      <td>neutral</td>\n",
       "    </tr>\n",
       "  </tbody>\n",
       "</table>\n",
       "</div>"
      ],
      "text/plain": [
       "                  ID                  Timestamp        User  \\\n",
       "19932   3.905400e+17  2013-10-16 18:09:38+00:00    f3ranmi_   \n",
       "95718   1.430150e+18  2021-08-24 12:32:15+00:00    iantwang   \n",
       "21099   5.434100e+17  2014-12-12 14:18:54+00:00  GuidoJesus   \n",
       "57185   9.139330e+17  2017-09-30 01:05:23+00:00   sepakinfo   \n",
       "102585  1.580950e+18  2022-10-14 15:36:34+00:00   Ryan_ms28   \n",
       "\n",
       "                                                     Text  \\\n",
       "19932   EA SPORTS? launch league for Fantasy managers:...   \n",
       "95718   Not sure how many of you are a) Joanna Newsom ...   \n",
       "21099   Tuve que poner al guevon de Diego Costa en muy...   \n",
       "57185   Pemain-Pemain Alternatif Pengganti Aguero di F...   \n",
       "102585  🚨We are Live!!! 🚨\\n\\nFPL Gameweek 11 Deadline ...   \n",
       "\n",
       "                                Hashtag  Retweets  Likes  Replies  \\\n",
       "19932                               NaN         0      0        0   \n",
       "95718                               NaN         0     13        2   \n",
       "21099                               NaN         0      0        0   \n",
       "57185                               NaN         0      0        0   \n",
       "102585  ['fpl', 'FPLCommunity', 'gw11']         0      2        0   \n",
       "\n",
       "                                                   Source  \\\n",
       "19932   <a href=\"http://twitter.com/download/android\" ...   \n",
       "95718   <a href=\"http://twitter.com/download/android\" ...   \n",
       "21099   <a href=\"http://twitter.com/download/android\" ...   \n",
       "57185   <a href=\"https://www.google.com/\" rel=\"nofollo...   \n",
       "102585  <a href=\"https://mobile.twitter.com\" rel=\"nofo...   \n",
       "\n",
       "                       Location  Verified_Account  Followers  Following  \\\n",
       "19932                       NaN             False        757        422   \n",
       "95718                    London             False       2932        893   \n",
       "21099   Barquisimeto, Venezuela             False        444        777   \n",
       "57185                       NaN             False        204         21   \n",
       "102585  Sydney, New South Wales             False       1272       1571   \n",
       "\n",
       "        Sentiment Sentiment_Polarity  \n",
       "19932      0.7783           positive  \n",
       "95718      0.7596           positive  \n",
       "21099     -0.4939           negative  \n",
       "57185      0.0000            neutral  \n",
       "102585     0.0000            neutral  "
      ]
     },
     "execution_count": 14,
     "metadata": {},
     "output_type": "execute_result"
    }
   ],
   "source": [
    "add_sentiment_and_polarity_columns(fpl_tweets,'Text').sample(5)"
   ]
  },
  {
   "cell_type": "markdown",
   "id": "5dcb8f07",
   "metadata": {
    "papermill": {
     "duration": 0.013567,
     "end_time": "2023-10-10T17:10:23.177580",
     "exception": false,
     "start_time": "2023-10-10T17:10:23.164013",
     "status": "completed"
    },
    "tags": []
   },
   "source": [
    "<div style=\"border-radius:10px;border:#254E58 solid;padding: 15px;background-color:white;font-size:110%;text-align:left\">\n",
    "    \n",
    "- Calculated sentiment scores using the VADER sentiment analyzer and stored them in the Sentiment column.\n",
    "- Introduce a column called Sentiment_Polarity, where we allocate sentiment polarities based on the sentiment scores. Sentiments with a score greater than 0.1 are considered \"positive,\" those below -0.1 are \"negative,\" and the rest are labeled as \"neutral.\"\n",
    "    \n",
    "    \n",
    "This approach allows you to categorize the sentiment of each text as either positive, negative, or neutral in an additional column in the DataFrame."
   ]
  },
  {
   "cell_type": "code",
   "execution_count": 15,
   "id": "7e972e28",
   "metadata": {
    "execution": {
     "iopub.execute_input": "2023-10-10T17:10:23.207248Z",
     "iopub.status.busy": "2023-10-10T17:10:23.206537Z",
     "iopub.status.idle": "2023-10-10T17:10:23.223257Z",
     "shell.execute_reply": "2023-10-10T17:10:23.222243Z"
    },
    "papermill": {
     "duration": 0.03372,
     "end_time": "2023-10-10T17:10:23.225030",
     "exception": false,
     "start_time": "2023-10-10T17:10:23.191310",
     "status": "completed"
    },
    "tags": []
   },
   "outputs": [
    {
     "data": {
      "text/html": [
       "<div>\n",
       "<style scoped>\n",
       "    .dataframe tbody tr th:only-of-type {\n",
       "        vertical-align: middle;\n",
       "    }\n",
       "\n",
       "    .dataframe tbody tr th {\n",
       "        vertical-align: top;\n",
       "    }\n",
       "\n",
       "    .dataframe thead th {\n",
       "        text-align: right;\n",
       "    }\n",
       "</style>\n",
       "<table border=\"1\" class=\"dataframe\">\n",
       "  <thead>\n",
       "    <tr style=\"text-align: right;\">\n",
       "      <th></th>\n",
       "      <th>Sentiment_Polarity</th>\n",
       "      <th>proportion</th>\n",
       "    </tr>\n",
       "  </thead>\n",
       "  <tbody>\n",
       "    <tr>\n",
       "      <th>0</th>\n",
       "      <td>neutral</td>\n",
       "      <td>53.7</td>\n",
       "    </tr>\n",
       "    <tr>\n",
       "      <th>1</th>\n",
       "      <td>positive</td>\n",
       "      <td>34.8</td>\n",
       "    </tr>\n",
       "    <tr>\n",
       "      <th>2</th>\n",
       "      <td>negative</td>\n",
       "      <td>11.4</td>\n",
       "    </tr>\n",
       "  </tbody>\n",
       "</table>\n",
       "</div>"
      ],
      "text/plain": [
       "  Sentiment_Polarity  proportion\n",
       "0            neutral        53.7\n",
       "1           positive        34.8\n",
       "2           negative        11.4"
      ]
     },
     "execution_count": 15,
     "metadata": {},
     "output_type": "execute_result"
    }
   ],
   "source": [
    "# Applying it on FPL Tweets Dataset\n",
    "round(fpl_tweets.Sentiment_Polarity.value_counts(normalize=True)*100,1).reset_index()"
   ]
  },
  {
   "cell_type": "markdown",
   "id": "a1d08116",
   "metadata": {
    "papermill": {
     "duration": 0.013683,
     "end_time": "2023-10-10T17:10:23.252810",
     "exception": false,
     "start_time": "2023-10-10T17:10:23.239127",
     "status": "completed"
    },
    "tags": []
   },
   "source": [
    "([Table of Contents](#-Table-of-Contents))"
   ]
  },
  {
   "cell_type": "markdown",
   "id": "116f9659",
   "metadata": {
    "papermill": {
     "duration": 0.013706,
     "end_time": "2023-10-10T17:10:23.280464",
     "exception": false,
     "start_time": "2023-10-10T17:10:23.266758",
     "status": "completed"
    },
    "tags": []
   },
   "source": [
    "# **<span style='color:skyblue'>Day 12 </span><span style='color:violet'><b>:</b></span><span style='color:lightgreen'> Feature Extraction Using Regular Expressions</span>**"
   ]
  },
  {
   "cell_type": "markdown",
   "id": "cd0afd12",
   "metadata": {
    "papermill": {
     "duration": 0.013823,
     "end_time": "2023-10-10T17:10:23.308099",
     "exception": false,
     "start_time": "2023-10-10T17:10:23.294276",
     "status": "completed"
    },
    "tags": []
   },
   "source": [
    "<div style=\"border-radius:10px;border:#254E58 solid;padding: 15px;background-color:white;font-size:110%;text-align:left\">\n",
    "    \n",
    "Here's a Python function that takes a DataFrame and a text column as input parameters, and generates new features using regular expressions to analyze different patterns and perform other regex operations.This function defines several regex patterns and corresponding feature names and applies them to each text column in the input DataFrame. It counts the occurrences of patterns like digits, uppercase letters, lowercase letters, short words, mentions, and hashtags in the text columns and adds these counts as new features to the DataFrame.\n",
    "\n",
    "You can customize the regex patterns and feature names based on your specific requirements and add more patterns as needed.    "
   ]
  },
  {
   "cell_type": "code",
   "execution_count": 16,
   "id": "40a0bf4b",
   "metadata": {
    "execution": {
     "iopub.execute_input": "2023-10-10T17:10:23.337940Z",
     "iopub.status.busy": "2023-10-10T17:10:23.337563Z",
     "iopub.status.idle": "2023-10-10T17:10:23.361363Z",
     "shell.execute_reply": "2023-10-10T17:10:23.360623Z"
    },
    "papermill": {
     "duration": 0.041419,
     "end_time": "2023-10-10T17:10:23.363409",
     "exception": false,
     "start_time": "2023-10-10T17:10:23.321990",
     "status": "completed"
    },
    "tags": []
   },
   "outputs": [
    {
     "name": "stdout",
     "output_type": "stream",
     "text": [
      "[nltk_data] Downloading package punkt to /usr/share/nltk_data...\n",
      "[nltk_data]   Package punkt is already up-to-date!\n",
      "[nltk_data] Downloading package averaged_perceptron_tagger to\n",
      "[nltk_data]     /usr/share/nltk_data...\n",
      "[nltk_data]   Package averaged_perceptron_tagger is already up-to-\n",
      "[nltk_data]       date!\n"
     ]
    }
   ],
   "source": [
    "# You need to download the NLTK POS tagger data before using it:\n",
    "nltk.download('punkt')\n",
    "nltk.download('averaged_perceptron_tagger')\n",
    "\n",
    "def generate_regex_and_pos_features(dataframe, text_column):\n",
    "    # Create a new DataFrame to store the generated features\n",
    "    new_dataframe = dataframe.copy()\n",
    "    \n",
    "    # Define the regular expressions and corresponding feature names\n",
    "    regex_patterns = [\n",
    "        (r'\\d+', 'num_digits'),                 # Number of digits\n",
    "        (r'[A-Z]+', 'num_uppercase_letters'),   # Number of uppercase letters\n",
    "        (r'[a-z]+', 'num_lowercase_letters'),   # Number of lowercase letters\n",
    "        (r'\\b\\w{1,3}\\b', 'short_words'),       # Number of short words (1-3 characters)\n",
    "        (r'@\\w+', 'mentions'),                 # Number of mentions (e.g., @username)\n",
    "        (r'#\\w+', 'hashtags'),                 # Number of hashtags (e.g., #topic)\n",
    "        (r'\\bhttps?://\\S+\\b', 'num_links'),    # Number of links\n",
    "    ]\n",
    "    \n",
    "    # Loop through each regex pattern and apply it to the specified text column\n",
    "    for pattern, feature_name in regex_patterns:\n",
    "        new_col_name = f\"{text_column}_{feature_name}\"\n",
    "        new_dataframe[new_col_name] = dataframe[text_column].apply(lambda x: len(re.findall(pattern, str(x))))\n",
    "    \n",
    "    # Additional feature: Total character count\n",
    "    new_dataframe[f\"{text_column}_total_chars\"] = dataframe[text_column].apply(lambda x: len(str(x)))\n",
    "    new_dataframe[f\"{text_column}_pos_tags\"] = dataframe[text_column].apply(lambda x: nltk.pos_tag(nltk.word_tokenize(str(x))))\n",
    "    \n",
    "    return new_dataframe"
   ]
  },
  {
   "cell_type": "code",
   "execution_count": 17,
   "id": "1a6696d8",
   "metadata": {
    "execution": {
     "iopub.execute_input": "2023-10-10T17:10:23.392835Z",
     "iopub.status.busy": "2023-10-10T17:10:23.392440Z",
     "iopub.status.idle": "2023-10-10T17:11:48.465407Z",
     "shell.execute_reply": "2023-10-10T17:11:48.464369Z"
    },
    "papermill": {
     "duration": 85.104045,
     "end_time": "2023-10-10T17:11:48.481568",
     "exception": false,
     "start_time": "2023-10-10T17:10:23.377523",
     "status": "completed"
    },
    "tags": []
   },
   "outputs": [
    {
     "name": "stdout",
     "output_type": "stream",
     "text": [
      "Original Shape: (50000, 20)\n",
      "New Shape: (50000, 29)\n"
     ]
    }
   ],
   "source": [
    "# Original shape of the DataFrame before applying the custom function\n",
    "original_shape = job_tweets.shape\n",
    "\n",
    "# Apply your custom function to generate new features on Job Vacancy Tweets Dataset\n",
    "new_df = generate_regex_and_pos_features(job_tweets,\"Text\")\n",
    "\n",
    "# Shape of the DataFrame after applying the custom function\n",
    "new_shape = new_df.shape\n",
    "\n",
    "# Print the original and new shapes\n",
    "print(\"Original Shape:\", original_shape)\n",
    "print(\"New Shape:\", new_shape)"
   ]
  },
  {
   "cell_type": "code",
   "execution_count": 18,
   "id": "32c736a3",
   "metadata": {
    "execution": {
     "iopub.execute_input": "2023-10-10T17:11:48.510843Z",
     "iopub.status.busy": "2023-10-10T17:11:48.510432Z",
     "iopub.status.idle": "2023-10-10T17:11:48.574186Z",
     "shell.execute_reply": "2023-10-10T17:11:48.572903Z"
    },
    "papermill": {
     "duration": 0.081808,
     "end_time": "2023-10-10T17:11:48.577128",
     "exception": false,
     "start_time": "2023-10-10T17:11:48.495320",
     "status": "completed"
    },
    "tags": []
   },
   "outputs": [
    {
     "data": {
      "text/html": [
       "<div>\n",
       "<style scoped>\n",
       "    .dataframe tbody tr th:only-of-type {\n",
       "        vertical-align: middle;\n",
       "    }\n",
       "\n",
       "    .dataframe tbody tr th {\n",
       "        vertical-align: top;\n",
       "    }\n",
       "\n",
       "    .dataframe thead th {\n",
       "        text-align: right;\n",
       "    }\n",
       "</style>\n",
       "<table border=\"1\" class=\"dataframe\">\n",
       "  <thead>\n",
       "    <tr style=\"text-align: right;\">\n",
       "      <th></th>\n",
       "      <th>Text_num_digits</th>\n",
       "      <th>Text_num_uppercase_letters</th>\n",
       "      <th>Text_num_lowercase_letters</th>\n",
       "      <th>Text_short_words</th>\n",
       "      <th>Text_mentions</th>\n",
       "      <th>Text_hashtags</th>\n",
       "      <th>Text_num_links</th>\n",
       "      <th>Text_total_chars</th>\n",
       "      <th>Text_pos_tags</th>\n",
       "    </tr>\n",
       "    <tr>\n",
       "      <th>Text</th>\n",
       "      <th></th>\n",
       "      <th></th>\n",
       "      <th></th>\n",
       "      <th></th>\n",
       "      <th></th>\n",
       "      <th></th>\n",
       "      <th></th>\n",
       "      <th></th>\n",
       "      <th></th>\n",
       "    </tr>\n",
       "  </thead>\n",
       "  <tbody>\n",
       "    <tr>\n",
       "      <th>Looking for an exciting job where you can ski for FREE at 7 ski areas? We are still hiring for the winter season! Learn more here: https://t.co/imMnymMfwW https://t.co/sIG8M3EK8A</th>\n",
       "      <td>4</td>\n",
       "      <td>11</td>\n",
       "      <td>34</td>\n",
       "      <td>18</td>\n",
       "      <td>0</td>\n",
       "      <td>0</td>\n",
       "      <td>2</td>\n",
       "      <td>178</td>\n",
       "      <td>[(Looking, VBG), (for, IN), (an, DT), (excitin...</td>\n",
       "    </tr>\n",
       "    <tr>\n",
       "      <th>Hail in Phoenix - no way!  New opportunity at Freedom? Possibly. We are hiring a(n) Reconciliation Specialist II and would like to talk to you!\\nhttps://t.co/CFAKKQHeFJ #job</th>\n",
       "      <td>0</td>\n",
       "      <td>11</td>\n",
       "      <td>29</td>\n",
       "      <td>17</td>\n",
       "      <td>0</td>\n",
       "      <td>1</td>\n",
       "      <td>1</td>\n",
       "      <td>172</td>\n",
       "      <td>[(Hail, NNP), (in, IN), (Phoenix, NNP), (-, :)...</td>\n",
       "    </tr>\n",
       "    <tr>\n",
       "      <th>Rackspace is hiring! We are looking for National Partner Manager. Learn more or Jobvite a friend. #becomearacker #Rackspace #recruiting #talentacquisition #jobsearching\\nhttps://t.co/XuSMG0eSgs #job</th>\n",
       "      <td>1</td>\n",
       "      <td>11</td>\n",
       "      <td>28</td>\n",
       "      <td>9</td>\n",
       "      <td>0</td>\n",
       "      <td>6</td>\n",
       "      <td>1</td>\n",
       "      <td>197</td>\n",
       "      <td>[(Rackspace, NN), (is, VBZ), (hiring, VBG), (!...</td>\n",
       "    </tr>\n",
       "    <tr>\n",
       "      <th>We are #hiring Administrative Assistant in Nanuet, NY https://t.co/3IGxFiCXUI #jobs #Nanuet</th>\n",
       "      <td>1</td>\n",
       "      <td>9</td>\n",
       "      <td>14</td>\n",
       "      <td>6</td>\n",
       "      <td>0</td>\n",
       "      <td>3</td>\n",
       "      <td>1</td>\n",
       "      <td>91</td>\n",
       "      <td>[(We, PRP), (are, VBP), (#, #), (hiring, VBG),...</td>\n",
       "    </tr>\n",
       "    <tr>\n",
       "      <th>We are #hiring Family Service Counselor in Irvine, CA https://t.co/XAianPE9mX #jobs #Irvine</th>\n",
       "      <td>1</td>\n",
       "      <td>10</td>\n",
       "      <td>15</td>\n",
       "      <td>6</td>\n",
       "      <td>0</td>\n",
       "      <td>3</td>\n",
       "      <td>1</td>\n",
       "      <td>91</td>\n",
       "      <td>[(We, PRP), (are, VBP), (#, #), (hiring, VBG),...</td>\n",
       "    </tr>\n",
       "  </tbody>\n",
       "</table>\n",
       "</div>"
      ],
      "text/plain": [
       "                                                    Text_num_digits  \\\n",
       "Text                                                                  \n",
       "Looking for an exciting job where you can ski f...                4   \n",
       "Hail in Phoenix - no way!  New opportunity at F...                0   \n",
       "Rackspace is hiring! We are looking for Nationa...                1   \n",
       "We are #hiring Administrative Assistant in Nanu...                1   \n",
       "We are #hiring Family Service Counselor in Irvi...                1   \n",
       "\n",
       "                                                    Text_num_uppercase_letters  \\\n",
       "Text                                                                             \n",
       "Looking for an exciting job where you can ski f...                          11   \n",
       "Hail in Phoenix - no way!  New opportunity at F...                          11   \n",
       "Rackspace is hiring! We are looking for Nationa...                          11   \n",
       "We are #hiring Administrative Assistant in Nanu...                           9   \n",
       "We are #hiring Family Service Counselor in Irvi...                          10   \n",
       "\n",
       "                                                    Text_num_lowercase_letters  \\\n",
       "Text                                                                             \n",
       "Looking for an exciting job where you can ski f...                          34   \n",
       "Hail in Phoenix - no way!  New opportunity at F...                          29   \n",
       "Rackspace is hiring! We are looking for Nationa...                          28   \n",
       "We are #hiring Administrative Assistant in Nanu...                          14   \n",
       "We are #hiring Family Service Counselor in Irvi...                          15   \n",
       "\n",
       "                                                    Text_short_words  \\\n",
       "Text                                                                   \n",
       "Looking for an exciting job where you can ski f...                18   \n",
       "Hail in Phoenix - no way!  New opportunity at F...                17   \n",
       "Rackspace is hiring! We are looking for Nationa...                 9   \n",
       "We are #hiring Administrative Assistant in Nanu...                 6   \n",
       "We are #hiring Family Service Counselor in Irvi...                 6   \n",
       "\n",
       "                                                    Text_mentions  \\\n",
       "Text                                                                \n",
       "Looking for an exciting job where you can ski f...              0   \n",
       "Hail in Phoenix - no way!  New opportunity at F...              0   \n",
       "Rackspace is hiring! We are looking for Nationa...              0   \n",
       "We are #hiring Administrative Assistant in Nanu...              0   \n",
       "We are #hiring Family Service Counselor in Irvi...              0   \n",
       "\n",
       "                                                    Text_hashtags  \\\n",
       "Text                                                                \n",
       "Looking for an exciting job where you can ski f...              0   \n",
       "Hail in Phoenix - no way!  New opportunity at F...              1   \n",
       "Rackspace is hiring! We are looking for Nationa...              6   \n",
       "We are #hiring Administrative Assistant in Nanu...              3   \n",
       "We are #hiring Family Service Counselor in Irvi...              3   \n",
       "\n",
       "                                                    Text_num_links  \\\n",
       "Text                                                                 \n",
       "Looking for an exciting job where you can ski f...               2   \n",
       "Hail in Phoenix - no way!  New opportunity at F...               1   \n",
       "Rackspace is hiring! We are looking for Nationa...               1   \n",
       "We are #hiring Administrative Assistant in Nanu...               1   \n",
       "We are #hiring Family Service Counselor in Irvi...               1   \n",
       "\n",
       "                                                    Text_total_chars  \\\n",
       "Text                                                                   \n",
       "Looking for an exciting job where you can ski f...               178   \n",
       "Hail in Phoenix - no way!  New opportunity at F...               172   \n",
       "Rackspace is hiring! We are looking for Nationa...               197   \n",
       "We are #hiring Administrative Assistant in Nanu...                91   \n",
       "We are #hiring Family Service Counselor in Irvi...                91   \n",
       "\n",
       "                                                                                        Text_pos_tags  \n",
       "Text                                                                                                   \n",
       "Looking for an exciting job where you can ski f...  [(Looking, VBG), (for, IN), (an, DT), (excitin...  \n",
       "Hail in Phoenix - no way!  New opportunity at F...  [(Hail, NNP), (in, IN), (Phoenix, NNP), (-, :)...  \n",
       "Rackspace is hiring! We are looking for Nationa...  [(Rackspace, NN), (is, VBZ), (hiring, VBG), (!...  \n",
       "We are #hiring Administrative Assistant in Nanu...  [(We, PRP), (are, VBP), (#, #), (hiring, VBG),...  \n",
       "We are #hiring Family Service Counselor in Irvi...  [(We, PRP), (are, VBP), (#, #), (hiring, VBG),...  "
      ]
     },
     "execution_count": 18,
     "metadata": {},
     "output_type": "execute_result"
    }
   ],
   "source": [
    "# Checking the head of the last 9 columns and the \"Text\" column\n",
    "pd.concat([new_df.iloc[:, -9:], new_df[\"Text\"]], axis=1).head().set_index([\"Text\"])"
   ]
  },
  {
   "cell_type": "markdown",
   "id": "36e5ff1b",
   "metadata": {
    "papermill": {
     "duration": 0.01431,
     "end_time": "2023-10-10T17:11:48.611925",
     "exception": false,
     "start_time": "2023-10-10T17:11:48.597615",
     "status": "completed"
    },
    "tags": []
   },
   "source": [
    "<div style=\"border-radius:10px;border:#254E58 solid;padding: 15px;background-color:white;font-size:110%;text-align:left\">\n",
    "    \n",
    "You can further customize this function by adding more regex patterns and corresponding feature names based on your specific needs. These patterns can be used to extract various information like email addresses, phone numbers, special characters, or any other patterns relevant to your text data.    "
   ]
  },
  {
   "cell_type": "markdown",
   "id": "49eecc6c",
   "metadata": {
    "papermill": {
     "duration": 0.014183,
     "end_time": "2023-10-10T17:11:48.648616",
     "exception": false,
     "start_time": "2023-10-10T17:11:48.634433",
     "status": "completed"
    },
    "tags": []
   },
   "source": [
    "([Table of Contents](#-Table-of-Contents))"
   ]
  },
  {
   "cell_type": "markdown",
   "id": "3f6f9476",
   "metadata": {
    "papermill": {
     "duration": 0.014389,
     "end_time": "2023-10-10T17:11:48.678564",
     "exception": false,
     "start_time": "2023-10-10T17:11:48.664175",
     "status": "completed"
    },
    "tags": []
   },
   "source": [
    "# **<span style='color:skyblue'>Day 13 </span><span style='color:violet'><b>:</b></span><span style='color:lightgreen'> Feature Extraction Using POS Tagging</span>**"
   ]
  },
  {
   "cell_type": "markdown",
   "id": "1e695b3a",
   "metadata": {
    "papermill": {
     "duration": 0.013976,
     "end_time": "2023-10-10T17:11:48.706979",
     "exception": false,
     "start_time": "2023-10-10T17:11:48.693003",
     "status": "completed"
    },
    "tags": []
   },
   "source": [
    "<div style=\"border-radius:10px;border:#254E58 solid;padding: 15px;background-color:white;font-size:110%;text-align:left\">\n",
    "    \n",
    "incorporating POS-based features into your NLP and text-related machine learning pipelines can help your models better understand and process text data, leading to improved performance and more meaningful insights from the data. However, the effectiveness of these features depends on the specific task and dataset, so it's essential to experiment and evaluate their impact on your particular problem.\n",
    "    \n",
    "    \n",
    "The function I provided for creating new features based on POS tags is a common preprocessing step in natural language processing (NLP) and text-related data science/machine learning problems.    "
   ]
  },
  {
   "cell_type": "code",
   "execution_count": 19,
   "id": "d2edb380",
   "metadata": {
    "execution": {
     "iopub.execute_input": "2023-10-10T17:11:48.737809Z",
     "iopub.status.busy": "2023-10-10T17:11:48.737388Z",
     "iopub.status.idle": "2023-10-10T17:11:48.746210Z",
     "shell.execute_reply": "2023-10-10T17:11:48.745265Z"
    },
    "papermill": {
     "duration": 0.026464,
     "end_time": "2023-10-10T17:11:48.747995",
     "exception": false,
     "start_time": "2023-10-10T17:11:48.721531",
     "status": "completed"
    },
    "tags": []
   },
   "outputs": [],
   "source": [
    "from nltk.tokenize import word_tokenize\n",
    "from nltk import pos_tag\n",
    "\n",
    "# Function to create new features based on POS tags\n",
    "def create_pos_features(dataframe, text_column):\n",
    "    # Tokenize and perform POS tagging for each row in the text column\n",
    "    pos_tags = dataframe[text_column].apply(lambda x: pos_tag(word_tokenize(x)))\n",
    "\n",
    "    # Define a mapping of POS abbreviations to descriptive names\n",
    "    pos_mapping = {\n",
    "        'CC': 'Coordinating Conjunction',\n",
    "        'CD': 'Cardinal Digit',\n",
    "        'DT': 'Determiner',\n",
    "        'EX': 'Existential There',\n",
    "        'FW': 'Foreign Word',\n",
    "        'IN': 'Preposition or Subordinating Conjunction',\n",
    "        'JJ': 'Adjective',\n",
    "        'JJR': 'Adjective, Comparative',\n",
    "        'JJS': 'Adjective, Superlative',\n",
    "        'LS': 'List Item Marker',\n",
    "        'MD': 'Modal',\n",
    "        'NN': 'Noun, Singular',\n",
    "        'NNS': 'Noun, Plural',\n",
    "        'NNP': 'Proper Noun, Singular',\n",
    "        'NNPS': 'Proper Noun, Plural',\n",
    "        'PDT': 'Predeterminer',\n",
    "        'POS': 'Possessive Ending',\n",
    "        'PRP': 'Personal Pronoun',\n",
    "        'PRP$': 'Possessive Pronoun',\n",
    "        'RB': 'Adverb',\n",
    "        'RBR': 'Adverb, Comparative',\n",
    "        'RBS': 'Adverb, Superlative',\n",
    "        'RP': 'Particle',\n",
    "        'SYM': 'Symbol',\n",
    "        'TO': 'To',\n",
    "        'UH': 'Interjection',\n",
    "        'VB': 'Verb, Base Form',\n",
    "        'VBD': 'Verb, Past Tense',\n",
    "        'VBG': 'Verb, Gerund or Present Participle',\n",
    "        'VBN': 'Verb, Past Participle',\n",
    "        'VBP': 'Verb, Non-3rd Person Singular Present',\n",
    "        'VBZ': 'Verb, 3rd Person Singular Present',\n",
    "        'WDT': 'Wh-Determiner',\n",
    "        'WP': 'Wh-Pronoun',\n",
    "        'WP$': 'Possessive Wh-Pronoun',\n",
    "        'WRB': 'Wh-Adverb'\n",
    "    }\n",
    "\n",
    "    # Create new columns based on the mapping\n",
    "    for pos, descriptive_name in pos_mapping.items():\n",
    "        column_name = f'POS_{descriptive_name}'\n",
    "        dataframe[column_name] = pos_tags.apply(lambda x: len([tag for word, tag in x if tag == pos]))\n",
    "\n",
    "    return dataframe"
   ]
  },
  {
   "cell_type": "code",
   "execution_count": 20,
   "id": "21a469d0",
   "metadata": {
    "execution": {
     "iopub.execute_input": "2023-10-10T17:11:48.778601Z",
     "iopub.status.busy": "2023-10-10T17:11:48.777983Z",
     "iopub.status.idle": "2023-10-10T17:11:49.132643Z",
     "shell.execute_reply": "2023-10-10T17:11:49.131560Z"
    },
    "papermill": {
     "duration": 0.37251,
     "end_time": "2023-10-10T17:11:49.134935",
     "exception": false,
     "start_time": "2023-10-10T17:11:48.762425",
     "status": "completed"
    },
    "tags": []
   },
   "outputs": [
    {
     "data": {
      "text/html": [
       "<div>\n",
       "<style scoped>\n",
       "    .dataframe tbody tr th:only-of-type {\n",
       "        vertical-align: middle;\n",
       "    }\n",
       "\n",
       "    .dataframe tbody tr th {\n",
       "        vertical-align: top;\n",
       "    }\n",
       "\n",
       "    .dataframe thead th {\n",
       "        text-align: right;\n",
       "    }\n",
       "</style>\n",
       "<table border=\"1\" class=\"dataframe\">\n",
       "  <thead>\n",
       "    <tr style=\"text-align: right;\">\n",
       "      <th></th>\n",
       "      <th>Sr.No</th>\n",
       "      <th>Movie</th>\n",
       "      <th>Writers</th>\n",
       "      <th>Genre</th>\n",
       "      <th>Date</th>\n",
       "      <th>Sript</th>\n",
       "    </tr>\n",
       "  </thead>\n",
       "  <tbody>\n",
       "    <tr>\n",
       "      <th>0</th>\n",
       "      <td>1</td>\n",
       "      <td>9</td>\n",
       "      <td>Pamela Pettler,Shane Acker</td>\n",
       "      <td>Animation,Adventure,Drama,Fantasy,Sci-Fi</td>\n",
       "      <td>September_2009</td>\n",
       "      <td>,SEQ.,05,-,PROLOGUE\\n,,,,,\\n,,,,,,The,Focus,Fe...</td>\n",
       "    </tr>\n",
       "    <tr>\n",
       "      <th>1</th>\n",
       "      <td>2</td>\n",
       "      <td>A Scanner Darkly</td>\n",
       "      <td>Charlie Kaufman</td>\n",
       "      <td>Animation,Crime,Drama</td>\n",
       "      <td>July_2006</td>\n",
       "      <td>SHOT,OF,NOTEBOOK,PAGE,DAPPLED,WITH,SUNLIGHT\\n\\...</td>\n",
       "    </tr>\n",
       "    <tr>\n",
       "      <th>2</th>\n",
       "      <td>3</td>\n",
       "      <td>Aladdin</td>\n",
       "      <td>Roger Allers,Ron Clements</td>\n",
       "      <td>Animation,Family,Musical,Fantasy,Comedy</td>\n",
       "      <td>December_1992</td>\n",
       "      <td>PEDDLER:,,Oh,I,come,from,a,land\\n,,From,a,fara...</td>\n",
       "    </tr>\n",
       "    <tr>\n",
       "      <th>3</th>\n",
       "      <td>4</td>\n",
       "      <td>Anastasia</td>\n",
       "      <td>Susan Gauthier,Bruce Graham</td>\n",
       "      <td>Family,Animation,Musical</td>\n",
       "      <td>December_1997</td>\n",
       "      <td>FADE,IN:\\n\\non,a,well-worn,PHOTOGRAPH,ALBUM.,A...</td>\n",
       "    </tr>\n",
       "    <tr>\n",
       "      <th>4</th>\n",
       "      <td>5</td>\n",
       "      <td>Antz</td>\n",
       "      <td>Todd Alcott,Chris Weitz,Paul Weitz</td>\n",
       "      <td>Adventure,Animation,Comedy,Fantasy</td>\n",
       "      <td>NaN</td>\n",
       "      <td>Z,(O.S.)\\n,,,,,,,,,,,(over,a,dark,screen)\\n,,,...</td>\n",
       "    </tr>\n",
       "  </tbody>\n",
       "</table>\n",
       "</div>"
      ],
      "text/plain": [
       "   Sr.No             Movie                             Writers  \\\n",
       "0      1                 9          Pamela Pettler,Shane Acker   \n",
       "1      2  A Scanner Darkly                     Charlie Kaufman   \n",
       "2      3           Aladdin           Roger Allers,Ron Clements   \n",
       "3      4        Anastasia          Susan Gauthier,Bruce Graham   \n",
       "4      5             Antz   Todd Alcott,Chris Weitz,Paul Weitz   \n",
       "\n",
       "                                      Genre            Date  \\\n",
       "0  Animation,Adventure,Drama,Fantasy,Sci-Fi  September_2009   \n",
       "1                     Animation,Crime,Drama       July_2006   \n",
       "2   Animation,Family,Musical,Fantasy,Comedy   December_1992   \n",
       "3                  Family,Animation,Musical   December_1997   \n",
       "4        Adventure,Animation,Comedy,Fantasy             NaN   \n",
       "\n",
       "                                               Sript  \n",
       "0  ,SEQ.,05,-,PROLOGUE\\n,,,,,\\n,,,,,,The,Focus,Fe...  \n",
       "1  SHOT,OF,NOTEBOOK,PAGE,DAPPLED,WITH,SUNLIGHT\\n\\...  \n",
       "2  PEDDLER:,,Oh,I,come,from,a,land\\n,,From,a,fara...  \n",
       "3  FADE,IN:\\n\\non,a,well-worn,PHOTOGRAPH,ALBUM.,A...  \n",
       "4  Z,(O.S.)\\n,,,,,,,,,,,(over,a,dark,screen)\\n,,,...  "
      ]
     },
     "execution_count": 20,
     "metadata": {},
     "output_type": "execute_result"
    }
   ],
   "source": [
    "# Apply the function to create new features in Internet Movie Script Dataset based on POS tags\n",
    "movie_script = pd.read_excel(\"/kaggle/input/the-internet-movie-script-dataset/The Internet Movie Script Dataset .xlsx\")\n",
    "movie_script.head()"
   ]
  },
  {
   "cell_type": "code",
   "execution_count": 21,
   "id": "6cf8a92e",
   "metadata": {
    "execution": {
     "iopub.execute_input": "2023-10-10T17:11:49.165653Z",
     "iopub.status.busy": "2023-10-10T17:11:49.165274Z",
     "iopub.status.idle": "2023-10-10T17:11:50.633053Z",
     "shell.execute_reply": "2023-10-10T17:11:50.632010Z"
    },
    "papermill": {
     "duration": 1.485712,
     "end_time": "2023-10-10T17:11:50.635256",
     "exception": false,
     "start_time": "2023-10-10T17:11:49.149544",
     "status": "completed"
    },
    "tags": []
   },
   "outputs": [
    {
     "data": {
      "text/html": [
       "<div>\n",
       "<style scoped>\n",
       "    .dataframe tbody tr th:only-of-type {\n",
       "        vertical-align: middle;\n",
       "    }\n",
       "\n",
       "    .dataframe tbody tr th {\n",
       "        vertical-align: top;\n",
       "    }\n",
       "\n",
       "    .dataframe thead th {\n",
       "        text-align: right;\n",
       "    }\n",
       "</style>\n",
       "<table border=\"1\" class=\"dataframe\">\n",
       "  <thead>\n",
       "    <tr style=\"text-align: right;\">\n",
       "      <th></th>\n",
       "      <th>Sr.No</th>\n",
       "      <th>Movie</th>\n",
       "      <th>Writers</th>\n",
       "      <th>Genre</th>\n",
       "      <th>Date</th>\n",
       "      <th>Sript</th>\n",
       "      <th>POS_Coordinating Conjunction</th>\n",
       "      <th>POS_Cardinal Digit</th>\n",
       "      <th>POS_Determiner</th>\n",
       "      <th>POS_Existential There</th>\n",
       "      <th>POS_Foreign Word</th>\n",
       "      <th>POS_Preposition or Subordinating Conjunction</th>\n",
       "      <th>POS_Adjective</th>\n",
       "      <th>POS_Adjective, Comparative</th>\n",
       "      <th>POS_Adjective, Superlative</th>\n",
       "      <th>POS_List Item Marker</th>\n",
       "      <th>POS_Modal</th>\n",
       "      <th>POS_Noun, Singular</th>\n",
       "      <th>POS_Noun, Plural</th>\n",
       "      <th>POS_Proper Noun, Singular</th>\n",
       "      <th>POS_Proper Noun, Plural</th>\n",
       "      <th>POS_Predeterminer</th>\n",
       "      <th>POS_Possessive Ending</th>\n",
       "      <th>POS_Personal Pronoun</th>\n",
       "      <th>POS_Possessive Pronoun</th>\n",
       "      <th>POS_Adverb</th>\n",
       "      <th>POS_Adverb, Comparative</th>\n",
       "      <th>POS_Adverb, Superlative</th>\n",
       "      <th>POS_Particle</th>\n",
       "      <th>POS_Symbol</th>\n",
       "      <th>POS_To</th>\n",
       "      <th>POS_Interjection</th>\n",
       "      <th>POS_Verb, Base Form</th>\n",
       "      <th>POS_Verb, Past Tense</th>\n",
       "      <th>POS_Verb, Gerund or Present Participle</th>\n",
       "      <th>POS_Verb, Past Participle</th>\n",
       "      <th>POS_Verb, Non-3rd Person Singular Present</th>\n",
       "      <th>POS_Verb, 3rd Person Singular Present</th>\n",
       "      <th>POS_Wh-Determiner</th>\n",
       "      <th>POS_Wh-Pronoun</th>\n",
       "      <th>POS_Possessive Wh-Pronoun</th>\n",
       "      <th>POS_Wh-Adverb</th>\n",
       "    </tr>\n",
       "  </thead>\n",
       "  <tbody>\n",
       "    <tr>\n",
       "      <th>3</th>\n",
       "      <td>4</td>\n",
       "      <td>Anastasia</td>\n",
       "      <td>Susan Gauthier,Bruce Graham</td>\n",
       "      <td>Family,Animation,Musical</td>\n",
       "      <td>December_1997</td>\n",
       "      <td>FADE,IN:\\n\\non,a,well-worn,PHOTOGRAPH,ALBUM.,A...</td>\n",
       "      <td>147</td>\n",
       "      <td>8</td>\n",
       "      <td>419</td>\n",
       "      <td>6</td>\n",
       "      <td>4</td>\n",
       "      <td>472</td>\n",
       "      <td>153</td>\n",
       "      <td>7</td>\n",
       "      <td>3</td>\n",
       "      <td>0</td>\n",
       "      <td>35</td>\n",
       "      <td>703</td>\n",
       "      <td>212</td>\n",
       "      <td>898</td>\n",
       "      <td>1</td>\n",
       "      <td>0</td>\n",
       "      <td>18</td>\n",
       "      <td>361</td>\n",
       "      <td>66</td>\n",
       "      <td>324</td>\n",
       "      <td>1</td>\n",
       "      <td>0</td>\n",
       "      <td>6</td>\n",
       "      <td>1</td>\n",
       "      <td>123</td>\n",
       "      <td>53</td>\n",
       "      <td>129</td>\n",
       "      <td>58</td>\n",
       "      <td>96</td>\n",
       "      <td>46</td>\n",
       "      <td>70</td>\n",
       "      <td>220</td>\n",
       "      <td>12</td>\n",
       "      <td>32</td>\n",
       "      <td>0</td>\n",
       "      <td>16</td>\n",
       "    </tr>\n",
       "    <tr>\n",
       "      <th>6</th>\n",
       "      <td>7</td>\n",
       "      <td>Boxtrolls The</td>\n",
       "      <td>Irena Brignull,Adam Pava</td>\n",
       "      <td>Animation,Adventure,Comedy</td>\n",
       "      <td>September_2014</td>\n",
       "      <td>EXT. CHEESEBRIDGE ALLEY - NIGHT\\n             ...</td>\n",
       "      <td>114</td>\n",
       "      <td>36</td>\n",
       "      <td>340</td>\n",
       "      <td>1</td>\n",
       "      <td>0</td>\n",
       "      <td>352</td>\n",
       "      <td>157</td>\n",
       "      <td>4</td>\n",
       "      <td>2</td>\n",
       "      <td>0</td>\n",
       "      <td>15</td>\n",
       "      <td>462</td>\n",
       "      <td>201</td>\n",
       "      <td>608</td>\n",
       "      <td>1</td>\n",
       "      <td>3</td>\n",
       "      <td>17</td>\n",
       "      <td>126</td>\n",
       "      <td>83</td>\n",
       "      <td>96</td>\n",
       "      <td>1</td>\n",
       "      <td>1</td>\n",
       "      <td>30</td>\n",
       "      <td>0</td>\n",
       "      <td>47</td>\n",
       "      <td>4</td>\n",
       "      <td>65</td>\n",
       "      <td>27</td>\n",
       "      <td>76</td>\n",
       "      <td>40</td>\n",
       "      <td>77</td>\n",
       "      <td>142</td>\n",
       "      <td>9</td>\n",
       "      <td>3</td>\n",
       "      <td>0</td>\n",
       "      <td>8</td>\n",
       "    </tr>\n",
       "    <tr>\n",
       "      <th>4</th>\n",
       "      <td>5</td>\n",
       "      <td>Antz</td>\n",
       "      <td>Todd Alcott,Chris Weitz,Paul Weitz</td>\n",
       "      <td>Adventure,Animation,Comedy,Fantasy</td>\n",
       "      <td>NaN</td>\n",
       "      <td>Z,(O.S.)\\n,,,,,,,,,,,(over,a,dark,screen)\\n,,,...</td>\n",
       "      <td>56</td>\n",
       "      <td>36</td>\n",
       "      <td>296</td>\n",
       "      <td>16</td>\n",
       "      <td>16</td>\n",
       "      <td>301</td>\n",
       "      <td>195</td>\n",
       "      <td>11</td>\n",
       "      <td>4</td>\n",
       "      <td>0</td>\n",
       "      <td>31</td>\n",
       "      <td>609</td>\n",
       "      <td>163</td>\n",
       "      <td>540</td>\n",
       "      <td>1</td>\n",
       "      <td>0</td>\n",
       "      <td>28</td>\n",
       "      <td>274</td>\n",
       "      <td>51</td>\n",
       "      <td>274</td>\n",
       "      <td>1</td>\n",
       "      <td>0</td>\n",
       "      <td>3</td>\n",
       "      <td>0</td>\n",
       "      <td>84</td>\n",
       "      <td>133</td>\n",
       "      <td>132</td>\n",
       "      <td>63</td>\n",
       "      <td>127</td>\n",
       "      <td>48</td>\n",
       "      <td>123</td>\n",
       "      <td>106</td>\n",
       "      <td>3</td>\n",
       "      <td>21</td>\n",
       "      <td>0</td>\n",
       "      <td>13</td>\n",
       "    </tr>\n",
       "    <tr>\n",
       "      <th>36</th>\n",
       "      <td>37</td>\n",
       "      <td>TMNT</td>\n",
       "      <td>Kevin Munroe</td>\n",
       "      <td>Animation,Action,Adventure,Comedy,Drama,Fantasy</td>\n",
       "      <td>August_2005</td>\n",
       "      <td>FADE IN:\\n\\n          \\n\\n          \\n\\n      ...</td>\n",
       "      <td>82</td>\n",
       "      <td>71</td>\n",
       "      <td>321</td>\n",
       "      <td>3</td>\n",
       "      <td>1</td>\n",
       "      <td>319</td>\n",
       "      <td>163</td>\n",
       "      <td>4</td>\n",
       "      <td>1</td>\n",
       "      <td>0</td>\n",
       "      <td>18</td>\n",
       "      <td>498</td>\n",
       "      <td>116</td>\n",
       "      <td>700</td>\n",
       "      <td>1</td>\n",
       "      <td>1</td>\n",
       "      <td>25</td>\n",
       "      <td>155</td>\n",
       "      <td>46</td>\n",
       "      <td>147</td>\n",
       "      <td>3</td>\n",
       "      <td>0</td>\n",
       "      <td>37</td>\n",
       "      <td>0</td>\n",
       "      <td>51</td>\n",
       "      <td>4</td>\n",
       "      <td>62</td>\n",
       "      <td>27</td>\n",
       "      <td>63</td>\n",
       "      <td>31</td>\n",
       "      <td>71</td>\n",
       "      <td>181</td>\n",
       "      <td>4</td>\n",
       "      <td>12</td>\n",
       "      <td>0</td>\n",
       "      <td>3</td>\n",
       "    </tr>\n",
       "    <tr>\n",
       "      <th>26</th>\n",
       "      <td>27</td>\n",
       "      <td>Mulan</td>\n",
       "      <td>Robert D. San Souci</td>\n",
       "      <td>Family,Animation,Comedy,Musical,Adventure</td>\n",
       "      <td>December_1998</td>\n",
       "      <td>[Chinese guard is seen walking on The Great Wa...</td>\n",
       "      <td>204</td>\n",
       "      <td>65</td>\n",
       "      <td>523</td>\n",
       "      <td>5</td>\n",
       "      <td>0</td>\n",
       "      <td>566</td>\n",
       "      <td>326</td>\n",
       "      <td>2</td>\n",
       "      <td>7</td>\n",
       "      <td>0</td>\n",
       "      <td>78</td>\n",
       "      <td>1108</td>\n",
       "      <td>185</td>\n",
       "      <td>1107</td>\n",
       "      <td>1</td>\n",
       "      <td>4</td>\n",
       "      <td>54</td>\n",
       "      <td>370</td>\n",
       "      <td>204</td>\n",
       "      <td>224</td>\n",
       "      <td>3</td>\n",
       "      <td>3</td>\n",
       "      <td>88</td>\n",
       "      <td>0</td>\n",
       "      <td>179</td>\n",
       "      <td>12</td>\n",
       "      <td>282</td>\n",
       "      <td>56</td>\n",
       "      <td>228</td>\n",
       "      <td>42</td>\n",
       "      <td>171</td>\n",
       "      <td>315</td>\n",
       "      <td>3</td>\n",
       "      <td>29</td>\n",
       "      <td>0</td>\n",
       "      <td>16</td>\n",
       "    </tr>\n",
       "  </tbody>\n",
       "</table>\n",
       "</div>"
      ],
      "text/plain": [
       "    Sr.No          Movie                             Writers  \\\n",
       "3       4     Anastasia          Susan Gauthier,Bruce Graham   \n",
       "6       7  Boxtrolls The            Irena Brignull,Adam Pava   \n",
       "4       5          Antz   Todd Alcott,Chris Weitz,Paul Weitz   \n",
       "36     37          TMNT                         Kevin Munroe   \n",
       "26     27          Mulan                 Robert D. San Souci   \n",
       "\n",
       "                                              Genre            Date  \\\n",
       "3                          Family,Animation,Musical   December_1997   \n",
       "6                        Animation,Adventure,Comedy  September_2014   \n",
       "4                Adventure,Animation,Comedy,Fantasy             NaN   \n",
       "36  Animation,Action,Adventure,Comedy,Drama,Fantasy     August_2005   \n",
       "26        Family,Animation,Comedy,Musical,Adventure   December_1998   \n",
       "\n",
       "                                                Sript  \\\n",
       "3   FADE,IN:\\n\\non,a,well-worn,PHOTOGRAPH,ALBUM.,A...   \n",
       "6   EXT. CHEESEBRIDGE ALLEY - NIGHT\\n             ...   \n",
       "4   Z,(O.S.)\\n,,,,,,,,,,,(over,a,dark,screen)\\n,,,...   \n",
       "36  FADE IN:\\n\\n          \\n\\n          \\n\\n      ...   \n",
       "26  [Chinese guard is seen walking on The Great Wa...   \n",
       "\n",
       "    POS_Coordinating Conjunction  POS_Cardinal Digit  POS_Determiner  \\\n",
       "3                            147                   8             419   \n",
       "6                            114                  36             340   \n",
       "4                             56                  36             296   \n",
       "36                            82                  71             321   \n",
       "26                           204                  65             523   \n",
       "\n",
       "    POS_Existential There  POS_Foreign Word  \\\n",
       "3                       6                 4   \n",
       "6                       1                 0   \n",
       "4                      16                16   \n",
       "36                      3                 1   \n",
       "26                      5                 0   \n",
       "\n",
       "    POS_Preposition or Subordinating Conjunction  POS_Adjective  \\\n",
       "3                                            472            153   \n",
       "6                                            352            157   \n",
       "4                                            301            195   \n",
       "36                                           319            163   \n",
       "26                                           566            326   \n",
       "\n",
       "    POS_Adjective, Comparative  POS_Adjective, Superlative  \\\n",
       "3                            7                           3   \n",
       "6                            4                           2   \n",
       "4                           11                           4   \n",
       "36                           4                           1   \n",
       "26                           2                           7   \n",
       "\n",
       "    POS_List Item Marker  POS_Modal  POS_Noun, Singular  POS_Noun, Plural  \\\n",
       "3                      0         35                 703               212   \n",
       "6                      0         15                 462               201   \n",
       "4                      0         31                 609               163   \n",
       "36                     0         18                 498               116   \n",
       "26                     0         78                1108               185   \n",
       "\n",
       "    POS_Proper Noun, Singular  POS_Proper Noun, Plural  POS_Predeterminer  \\\n",
       "3                         898                        1                  0   \n",
       "6                         608                        1                  3   \n",
       "4                         540                        1                  0   \n",
       "36                        700                        1                  1   \n",
       "26                       1107                        1                  4   \n",
       "\n",
       "    POS_Possessive Ending  POS_Personal Pronoun  POS_Possessive Pronoun  \\\n",
       "3                      18                   361                      66   \n",
       "6                      17                   126                      83   \n",
       "4                      28                   274                      51   \n",
       "36                     25                   155                      46   \n",
       "26                     54                   370                     204   \n",
       "\n",
       "    POS_Adverb  POS_Adverb, Comparative  POS_Adverb, Superlative  \\\n",
       "3          324                        1                        0   \n",
       "6           96                        1                        1   \n",
       "4          274                        1                        0   \n",
       "36         147                        3                        0   \n",
       "26         224                        3                        3   \n",
       "\n",
       "    POS_Particle  POS_Symbol  POS_To  POS_Interjection  POS_Verb, Base Form  \\\n",
       "3              6           1     123                53                  129   \n",
       "6             30           0      47                 4                   65   \n",
       "4              3           0      84               133                  132   \n",
       "36            37           0      51                 4                   62   \n",
       "26            88           0     179                12                  282   \n",
       "\n",
       "    POS_Verb, Past Tense  POS_Verb, Gerund or Present Participle  \\\n",
       "3                     58                                      96   \n",
       "6                     27                                      76   \n",
       "4                     63                                     127   \n",
       "36                    27                                      63   \n",
       "26                    56                                     228   \n",
       "\n",
       "    POS_Verb, Past Participle  POS_Verb, Non-3rd Person Singular Present  \\\n",
       "3                          46                                         70   \n",
       "6                          40                                         77   \n",
       "4                          48                                        123   \n",
       "36                         31                                         71   \n",
       "26                         42                                        171   \n",
       "\n",
       "    POS_Verb, 3rd Person Singular Present  POS_Wh-Determiner  POS_Wh-Pronoun  \\\n",
       "3                                     220                 12              32   \n",
       "6                                     142                  9               3   \n",
       "4                                     106                  3              21   \n",
       "36                                    181                  4              12   \n",
       "26                                    315                  3              29   \n",
       "\n",
       "    POS_Possessive Wh-Pronoun  POS_Wh-Adverb  \n",
       "3                           0             16  \n",
       "6                           0              8  \n",
       "4                           0             13  \n",
       "36                          0              3  \n",
       "26                          0             16  "
      ]
     },
     "execution_count": 21,
     "metadata": {},
     "output_type": "execute_result"
    }
   ],
   "source": [
    "\n",
    "sample_data = create_pos_features(movie_script.sample(5), 'Sript')\n",
    "\n",
    "# Display the updated DataFrame\n",
    "sample_data"
   ]
  },
  {
   "cell_type": "code",
   "execution_count": 22,
   "id": "131f621c",
   "metadata": {
    "execution": {
     "iopub.execute_input": "2023-10-10T17:11:50.668199Z",
     "iopub.status.busy": "2023-10-10T17:11:50.667330Z",
     "iopub.status.idle": "2023-10-10T17:11:50.673941Z",
     "shell.execute_reply": "2023-10-10T17:11:50.672813Z"
    },
    "papermill": {
     "duration": 0.025142,
     "end_time": "2023-10-10T17:11:50.675989",
     "exception": false,
     "start_time": "2023-10-10T17:11:50.650847",
     "status": "completed"
    },
    "tags": []
   },
   "outputs": [
    {
     "data": {
      "text/plain": [
       "(50, 6)"
      ]
     },
     "execution_count": 22,
     "metadata": {},
     "output_type": "execute_result"
    }
   ],
   "source": [
    "movie_script.shape"
   ]
  },
  {
   "cell_type": "code",
   "execution_count": 23,
   "id": "ad5dedca",
   "metadata": {
    "execution": {
     "iopub.execute_input": "2023-10-10T17:11:50.708597Z",
     "iopub.status.busy": "2023-10-10T17:11:50.708236Z",
     "iopub.status.idle": "2023-10-10T17:11:50.713918Z",
     "shell.execute_reply": "2023-10-10T17:11:50.713053Z"
    },
    "papermill": {
     "duration": 0.024665,
     "end_time": "2023-10-10T17:11:50.716107",
     "exception": false,
     "start_time": "2023-10-10T17:11:50.691442",
     "status": "completed"
    },
    "tags": []
   },
   "outputs": [
    {
     "data": {
      "text/plain": [
       "array(['Sr.No', 'Movie', 'Writers', 'Genre', 'Date', 'Sript',\n",
       "       'POS_Coordinating Conjunction', 'POS_Cardinal Digit',\n",
       "       'POS_Determiner', 'POS_Existential There', 'POS_Foreign Word',\n",
       "       'POS_Preposition or Subordinating Conjunction', 'POS_Adjective',\n",
       "       'POS_Adjective, Comparative', 'POS_Adjective, Superlative',\n",
       "       'POS_List Item Marker', 'POS_Modal', 'POS_Noun, Singular',\n",
       "       'POS_Noun, Plural', 'POS_Proper Noun, Singular',\n",
       "       'POS_Proper Noun, Plural', 'POS_Predeterminer',\n",
       "       'POS_Possessive Ending', 'POS_Personal Pronoun',\n",
       "       'POS_Possessive Pronoun', 'POS_Adverb', 'POS_Adverb, Comparative',\n",
       "       'POS_Adverb, Superlative', 'POS_Particle', 'POS_Symbol', 'POS_To',\n",
       "       'POS_Interjection', 'POS_Verb, Base Form', 'POS_Verb, Past Tense',\n",
       "       'POS_Verb, Gerund or Present Participle',\n",
       "       'POS_Verb, Past Participle',\n",
       "       'POS_Verb, Non-3rd Person Singular Present',\n",
       "       'POS_Verb, 3rd Person Singular Present', 'POS_Wh-Determiner',\n",
       "       'POS_Wh-Pronoun', 'POS_Possessive Wh-Pronoun', 'POS_Wh-Adverb'],\n",
       "      dtype=object)"
      ]
     },
     "execution_count": 23,
     "metadata": {},
     "output_type": "execute_result"
    }
   ],
   "source": [
    "sample_data.columns.values"
   ]
  },
  {
   "cell_type": "code",
   "execution_count": 24,
   "id": "588fc553",
   "metadata": {
    "execution": {
     "iopub.execute_input": "2023-10-10T17:11:50.749291Z",
     "iopub.status.busy": "2023-10-10T17:11:50.748632Z",
     "iopub.status.idle": "2023-10-10T17:11:50.754033Z",
     "shell.execute_reply": "2023-10-10T17:11:50.753215Z"
    },
    "papermill": {
     "duration": 0.023984,
     "end_time": "2023-10-10T17:11:50.755772",
     "exception": false,
     "start_time": "2023-10-10T17:11:50.731788",
     "status": "completed"
    },
    "tags": []
   },
   "outputs": [
    {
     "data": {
      "text/plain": [
       "(5, 42)"
      ]
     },
     "execution_count": 24,
     "metadata": {},
     "output_type": "execute_result"
    }
   ],
   "source": [
    "sample_data.shape"
   ]
  },
  {
   "cell_type": "markdown",
   "id": "203c267d",
   "metadata": {
    "papermill": {
     "duration": 0.015095,
     "end_time": "2023-10-10T17:11:50.786594",
     "exception": false,
     "start_time": "2023-10-10T17:11:50.771499",
     "status": "completed"
    },
    "tags": []
   },
   "source": [
    "<div style=\"border-radius:10px;border:#254E58 solid;padding: 15px;background-color:white;font-size:110%;text-align:left\">\n",
    "    \n",
    "We just created 36 new features using **`create_pos_features`** function. It helps in several ways. A few are listed below:\n",
    "\n",
    "**Feature Engineering**: POS tagging provides valuable linguistic information about words in a text, such as whether a word is a noun, verb, adjective, etc. By creating new features based on POS tags, you can capture linguistic patterns and structures in the text data.\n",
    "\n",
    "**Information Extraction**: For tasks like named entity recognition (NER) or extracting specific information from text, POS tags can be used to identify relevant phrases or entities. For example, you can use POS tags to identify proper nouns (e.g., names of people, organizations) in a text.\n",
    "\n",
    "**Text Summarization**: When generating summaries of long texts, you might want to retain specific types of words (e.g., nouns and verbs) to ensure the summary captures essential information. POS-based features can assist in this process.\n",
    "\n",
    "**Text Understanding**: POS tags can help you gain a deeper understanding of the text's structure and meaning. For example, you can analyze the distribution of verbs and nouns in a corpus to identify predominant actions or topics.\n",
    "\n",
    "**Data Exploration**: Creating these features can also serve as a useful exploratory data analysis (EDA) step. You can visualize or analyze the distribution of POS tags in your dataset to gain insights into the language characteristics.\n",
    "\n",
    "**Improving Model Performance**: In many NLP tasks, including POS-based features can lead to improved model performance. Models can learn to recognize patterns in the distribution of POS tags that are relevant to the task.    "
   ]
  },
  {
   "cell_type": "markdown",
   "id": "b425298a",
   "metadata": {
    "papermill": {
     "duration": 0.014994,
     "end_time": "2023-10-10T17:11:50.817076",
     "exception": false,
     "start_time": "2023-10-10T17:11:50.802082",
     "status": "completed"
    },
    "tags": []
   },
   "source": [
    "([Table of Contents](#-Table-of-Contents))"
   ]
  },
  {
   "cell_type": "markdown",
   "id": "23f219b2",
   "metadata": {
    "papermill": {
     "duration": 0.015301,
     "end_time": "2023-10-10T17:11:50.847584",
     "exception": false,
     "start_time": "2023-10-10T17:11:50.832283",
     "status": "completed"
    },
    "tags": []
   },
   "source": [
    "# **<span style='color:skyblue'>Day 14 </span><span style='color:violet'><b>:</b></span><span style='color:lightgreen'> Finding Textual Similarity</span>**"
   ]
  },
  {
   "cell_type": "markdown",
   "id": "e24c47a9",
   "metadata": {
    "papermill": {
     "duration": 0.014732,
     "end_time": "2023-10-10T17:11:50.877596",
     "exception": false,
     "start_time": "2023-10-10T17:11:50.862864",
     "status": "completed"
    },
    "tags": []
   },
   "source": [
    "<div style=\"border-radius:10px;border:#254E58 solid;padding: 15px;background-color:white;font-size:110%;text-align:left\">\n",
    "    \n",
    "Textual similarity is a fundamental concept in natural language processing (NLP) and text analysis, with a broad range of applications such as Information Retrieval, Duplicate Detection, Plagiarism Detection, Text Summarization, Machine Translation, Question Answering, Text Classification, Content Recommendation, Clustering and Grouping, and many many more... \n",
    "    \n",
    "Writing a function, **`calculate_text_similarity`**, which accepts a DataFrame, the name of the text column, and a list of similarity metrics to calculate. It returns a dictionary containing similarity matrices for each specified metric. You can customize the input DataFrame, text column name, and the list of similarity metrics according to your needs. \n",
    "    \n",
    "Applying it on Constitution Datasets to see what is the similarity between Preambles of different countries.    "
   ]
  },
  {
   "cell_type": "code",
   "execution_count": 25,
   "id": "9a24fd1f",
   "metadata": {
    "execution": {
     "iopub.execute_input": "2023-10-10T17:11:50.909956Z",
     "iopub.status.busy": "2023-10-10T17:11:50.909402Z",
     "iopub.status.idle": "2023-10-10T17:11:50.951243Z",
     "shell.execute_reply": "2023-10-10T17:11:50.950183Z"
    },
    "papermill": {
     "duration": 0.060518,
     "end_time": "2023-10-10T17:11:50.953184",
     "exception": false,
     "start_time": "2023-10-10T17:11:50.892666",
     "status": "completed"
    },
    "tags": []
   },
   "outputs": [
    {
     "data": {
      "text/html": [
       "<div>\n",
       "<style scoped>\n",
       "    .dataframe tbody tr th:only-of-type {\n",
       "        vertical-align: middle;\n",
       "    }\n",
       "\n",
       "    .dataframe tbody tr th {\n",
       "        vertical-align: top;\n",
       "    }\n",
       "\n",
       "    .dataframe thead th {\n",
       "        text-align: right;\n",
       "    }\n",
       "</style>\n",
       "<table border=\"1\" class=\"dataframe\">\n",
       "  <thead>\n",
       "    <tr style=\"text-align: right;\">\n",
       "      <th></th>\n",
       "      <th>Country</th>\n",
       "      <th>Year Enacted</th>\n",
       "      <th>Scope</th>\n",
       "      <th>Length (in Words)</th>\n",
       "      <th>Executive Power</th>\n",
       "      <th>Legislative Power</th>\n",
       "      <th>Judicial Independence</th>\n",
       "      <th>Number of Rights</th>\n",
       "      <th>Preamble</th>\n",
       "    </tr>\n",
       "  </thead>\n",
       "  <tbody>\n",
       "    <tr>\n",
       "      <th>72</th>\n",
       "      <td>Honduras</td>\n",
       "      <td>1982</td>\n",
       "      <td>0.69</td>\n",
       "      <td>23,434</td>\n",
       "      <td>4</td>\n",
       "      <td>0.33</td>\n",
       "      <td>4</td>\n",
       "      <td>68</td>\n",
       "      <td>We, the representatives elected by the soverei...</td>\n",
       "    </tr>\n",
       "    <tr>\n",
       "      <th>182</th>\n",
       "      <td>United Kingdom</td>\n",
       "      <td>1215</td>\n",
       "      <td>0.43</td>\n",
       "      <td>54,408</td>\n",
       "      <td>0</td>\n",
       "      <td>0.09</td>\n",
       "      <td>3</td>\n",
       "      <td>44</td>\n",
       "      <td>Magna Carta 1297 THE GREAT CHARTER OF THE LIBE...</td>\n",
       "    </tr>\n",
       "    <tr>\n",
       "      <th>140</th>\n",
       "      <td>Rwanda</td>\n",
       "      <td>2003</td>\n",
       "      <td>0.63</td>\n",
       "      <td>16,940</td>\n",
       "      <td>6</td>\n",
       "      <td>0.33</td>\n",
       "      <td>4</td>\n",
       "      <td>53</td>\n",
       "      <td>We, the People of Rwanda,In the wake of the g...</td>\n",
       "    </tr>\n",
       "  </tbody>\n",
       "</table>\n",
       "</div>"
      ],
      "text/plain": [
       "            Country  Year Enacted  Scope Length (in Words)  Executive Power  \\\n",
       "72         Honduras          1982   0.69            23,434                4   \n",
       "182  United Kingdom          1215   0.43            54,408                0   \n",
       "140          Rwanda          2003   0.63            16,940                6   \n",
       "\n",
       "     Legislative Power  Judicial Independence  Number of Rights  \\\n",
       "72                0.33                      4                68   \n",
       "182               0.09                      3                44   \n",
       "140               0.33                      4                53   \n",
       "\n",
       "                                              Preamble  \n",
       "72   We, the representatives elected by the soverei...  \n",
       "182  Magna Carta 1297 THE GREAT CHARTER OF THE LIBE...  \n",
       "140   We, the People of Rwanda,In the wake of the g...  "
      ]
     },
     "execution_count": 25,
     "metadata": {},
     "output_type": "execute_result"
    }
   ],
   "source": [
    "# Loading Constitution Dataset\n",
    "constitutions = pd.read_csv(\"/kaggle/input/constitution-dataset/Constitution Dataset.csv\")\n",
    "\n",
    "constitutions.sample(3)"
   ]
  },
  {
   "cell_type": "code",
   "execution_count": 26,
   "id": "3651a60b",
   "metadata": {
    "execution": {
     "iopub.execute_input": "2023-10-10T17:11:50.985819Z",
     "iopub.status.busy": "2023-10-10T17:11:50.985431Z",
     "iopub.status.idle": "2023-10-10T17:11:50.993398Z",
     "shell.execute_reply": "2023-10-10T17:11:50.992485Z"
    },
    "papermill": {
     "duration": 0.026395,
     "end_time": "2023-10-10T17:11:50.995293",
     "exception": false,
     "start_time": "2023-10-10T17:11:50.968898",
     "status": "completed"
    },
    "tags": []
   },
   "outputs": [
    {
     "data": {
      "text/plain": [
       "Country                   0\n",
       "Year Enacted              0\n",
       "Scope                     0\n",
       "Length (in Words)         0\n",
       "Executive Power           0\n",
       "Legislative Power         0\n",
       "Judicial Independence     0\n",
       "Number of Rights          0\n",
       "Preamble                 31\n",
       "dtype: int64"
      ]
     },
     "execution_count": 26,
     "metadata": {},
     "output_type": "execute_result"
    }
   ],
   "source": [
    "constitutions.isna().sum()"
   ]
  },
  {
   "cell_type": "code",
   "execution_count": 27,
   "id": "90207af3",
   "metadata": {
    "execution": {
     "iopub.execute_input": "2023-10-10T17:11:51.029233Z",
     "iopub.status.busy": "2023-10-10T17:11:51.028898Z",
     "iopub.status.idle": "2023-10-10T17:11:51.034820Z",
     "shell.execute_reply": "2023-10-10T17:11:51.033747Z"
    },
    "papermill": {
     "duration": 0.025233,
     "end_time": "2023-10-10T17:11:51.036598",
     "exception": false,
     "start_time": "2023-10-10T17:11:51.011365",
     "status": "completed"
    },
    "tags": []
   },
   "outputs": [],
   "source": [
    "#Dropping the rows of missing Preamble for learning purpose and taking random 10 datapoints as sample\n",
    "constitutions = constitutions.dropna()\n",
    "constitutions = constitutions.sample(5)"
   ]
  },
  {
   "cell_type": "code",
   "execution_count": 28,
   "id": "28c874f0",
   "metadata": {
    "execution": {
     "iopub.execute_input": "2023-10-10T17:11:51.069779Z",
     "iopub.status.busy": "2023-10-10T17:11:51.069392Z",
     "iopub.status.idle": "2023-10-10T17:11:51.079644Z",
     "shell.execute_reply": "2023-10-10T17:11:51.078654Z"
    },
    "papermill": {
     "duration": 0.02927,
     "end_time": "2023-10-10T17:11:51.081649",
     "exception": false,
     "start_time": "2023-10-10T17:11:51.052379",
     "status": "completed"
    },
    "tags": []
   },
   "outputs": [],
   "source": [
    "from sklearn.feature_extraction.text import TfidfVectorizer\n",
    "from sklearn.metrics.pairwise import cosine_similarity, euclidean_distances\n",
    "from sklearn.metrics import jaccard_score\n",
    "\n",
    "def calculate_text_similarity(df, text_column, similarity_metrics=[\"tfidf\", \"cosine\", \"jaccard\", \"euclidean\"]):\n",
    "\n",
    "    # Initialize TF-IDF vectorizer\n",
    "    tfidf_vectorizer = TfidfVectorizer()\n",
    "\n",
    "    # Fit and transform the text data\n",
    "    tfidf_matrix = tfidf_vectorizer.fit_transform(df[text_column])\n",
    "\n",
    "    similarity_results = {}\n",
    "\n",
    "    if \"tfidf\" in similarity_metrics:\n",
    "        # Calculate TF-IDF similarity between texts\n",
    "        tfidf_similarities = cosine_similarity(tfidf_matrix, tfidf_matrix)\n",
    "        similarity_results[\"tfidf_similarity\"] = pd.DataFrame(tfidf_similarities, columns=df.index, index=df.index)\n",
    "\n",
    "    if \"cosine\" in similarity_metrics:\n",
    "        # Calculate cosine similarity between texts\n",
    "        cosine_similarities = cosine_similarity(tfidf_matrix, tfidf_matrix)\n",
    "        similarity_results[\"cosine_similarity\"] = pd.DataFrame(cosine_similarities, columns=df.index, index=df.index)\n",
    "\n",
    "    if \"jaccard\" in similarity_metrics:\n",
    "        # Calculate Jaccard similarity between texts\n",
    "        def jaccard_similarity(x, y):\n",
    "            intersection = len(set(x.split()).intersection(set(y.split())))\n",
    "            union = len(set(x.split()).union(set(y.split())))\n",
    "            return intersection / union\n",
    "\n",
    "        jaccard_similarities = [[jaccard_similarity(df[text_column].iloc[i], df[text_column].iloc[j]) for i in range(len(df))] for j in range(len(df))]\n",
    "        similarity_results[\"jaccard_similarity\"] = pd.DataFrame(jaccard_similarities, columns=df.index, index=df.index)\n",
    "\n",
    "    if \"euclidean\" in similarity_metrics:\n",
    "        # Calculate Euclidean distance between texts\n",
    "        euclidean_distances_matrix = euclidean_distances(tfidf_matrix, tfidf_matrix)\n",
    "        similarity_results[\"euclidean_distances\"] = pd.DataFrame(euclidean_distances_matrix, columns=df.index, index=df.index)\n",
    "\n",
    "    return similarity_results"
   ]
  },
  {
   "cell_type": "code",
   "execution_count": 29,
   "id": "1c00935a",
   "metadata": {
    "execution": {
     "iopub.execute_input": "2023-10-10T17:11:51.114535Z",
     "iopub.status.busy": "2023-10-10T17:11:51.114137Z",
     "iopub.status.idle": "2023-10-10T17:11:51.154736Z",
     "shell.execute_reply": "2023-10-10T17:11:51.152859Z"
    },
    "papermill": {
     "duration": 0.05942,
     "end_time": "2023-10-10T17:11:51.156748",
     "exception": false,
     "start_time": "2023-10-10T17:11:51.097328",
     "status": "completed"
    },
    "tags": []
   },
   "outputs": [
    {
     "name": "stdout",
     "output_type": "stream",
     "text": [
      "Tfidf_similarity Similarity:\n",
      "Country                   Kenya     China  Sao Tome and Principe  Cape Verde  \\\n",
      "Country                                                                        \n",
      "Kenya                  1.000000  0.648222               0.656203    0.640518   \n",
      "China                  0.648222  1.000000               0.758246    0.738314   \n",
      "Sao Tome and Principe  0.656203  0.758246               1.000000    0.810444   \n",
      "Cape Verde             0.640518  0.738314               0.810444    1.000000   \n",
      "Peru                   0.514941  0.504472               0.540498    0.514915   \n",
      "\n",
      "Country                    Peru  \n",
      "Country                          \n",
      "Kenya                  0.514941  \n",
      "China                  0.504472  \n",
      "Sao Tome and Principe  0.540498  \n",
      "Cape Verde             0.514915  \n",
      "Peru                   1.000000  \n",
      "\n",
      "Cosine_similarity Similarity:\n",
      "Country                   Kenya     China  Sao Tome and Principe  Cape Verde  \\\n",
      "Country                                                                        \n",
      "Kenya                  1.000000  0.648222               0.656203    0.640518   \n",
      "China                  0.648222  1.000000               0.758246    0.738314   \n",
      "Sao Tome and Principe  0.656203  0.758246               1.000000    0.810444   \n",
      "Cape Verde             0.640518  0.738314               0.810444    1.000000   \n",
      "Peru                   0.514941  0.504472               0.540498    0.514915   \n",
      "\n",
      "Country                    Peru  \n",
      "Country                          \n",
      "Kenya                  0.514941  \n",
      "China                  0.504472  \n",
      "Sao Tome and Principe  0.540498  \n",
      "Cape Verde             0.514915  \n",
      "Peru                   1.000000  \n",
      "\n",
      "Jaccard_similarity Similarity:\n",
      "Country                   Kenya     China  Sao Tome and Principe  Cape Verde  \\\n",
      "Country                                                                        \n",
      "Kenya                  1.000000  0.054054               0.049231    0.076923   \n",
      "China                  0.054054  1.000000               0.079412    0.113475   \n",
      "Sao Tome and Principe  0.049231  0.079412               1.000000    0.108607   \n",
      "Cape Verde             0.076923  0.113475               0.108607    1.000000   \n",
      "Peru                   0.069565  0.017751               0.034221    0.031949   \n",
      "\n",
      "Country                    Peru  \n",
      "Country                          \n",
      "Kenya                  0.069565  \n",
      "China                  0.017751  \n",
      "Sao Tome and Principe  0.034221  \n",
      "Cape Verde             0.031949  \n",
      "Peru                   1.000000  \n",
      "\n",
      "Euclidean_distances Similarity:\n",
      "Country                   Kenya     China  Sao Tome and Principe  Cape Verde  \\\n",
      "Country                                                                        \n",
      "Kenya                  0.000000  0.838782               0.829213    0.847917   \n",
      "China                  0.838782  0.000000               0.695347    0.723445   \n",
      "Sao Tome and Principe  0.829213  0.695347               0.000000    0.615721   \n",
      "Cape Verde             0.847917  0.723445               0.615721    0.000000   \n",
      "Peru                   0.984946  0.995518               0.958647    0.984972   \n",
      "\n",
      "Country                    Peru  \n",
      "Country                          \n",
      "Kenya                  0.984946  \n",
      "China                  0.995518  \n",
      "Sao Tome and Principe  0.958647  \n",
      "Cape Verde             0.984972  \n",
      "Peru                   0.000000  \n",
      "\n"
     ]
    }
   ],
   "source": [
    "#Indexing \"Country\" column for output format purpose\n",
    "constitutions = constitutions.set_index(\"Country\")\n",
    "\n",
    "# Calculate textual similarity using specified metrics\n",
    "similarity_results = calculate_text_similarity(constitutions, text_column='Preamble', similarity_metrics=[\"tfidf\", \"cosine\", \"jaccard\", \"euclidean\"])\n",
    "\n",
    "# Print similarity results\n",
    "for metric, similarity_matrix in similarity_results.items():\n",
    "    print(f\"{metric.capitalize()} Similarity:\")\n",
    "    print(similarity_matrix)\n",
    "    print()"
   ]
  },
  {
   "cell_type": "markdown",
   "id": "7aafe812",
   "metadata": {
    "papermill": {
     "duration": 0.016677,
     "end_time": "2023-10-10T17:11:51.189772",
     "exception": false,
     "start_time": "2023-10-10T17:11:51.173095",
     "status": "completed"
    },
    "tags": []
   },
   "source": [
    "<div style=\"border-radius:10px;border:#254E58 solid;padding: 15px;background-color:white;font-size:110%;text-align:left\">\n",
    "    \n",
    "In this code:\n",
    "\n",
    "- We calculate TF-IDF similarity, cosine similarity, Jaccard similarity, and Euclidean distance between preambles.\n",
    "\n",
    "- We create separate DataFrames to display the results of each similarity metric.\n",
    "\n",
    "- Finally, we print the results for comparison.\n",
    "\n",
    "By comparing the results from different similarity metrics, you can gain insights into which metric is more suitable for your specific textual similarity analysis task. Each metric has its strengths and limitations, so it's important to choose the one that aligns with your objectives and the nature of your textual data.    "
   ]
  },
  {
   "cell_type": "markdown",
   "id": "15a08cf8",
   "metadata": {
    "papermill": {
     "duration": 0.01571,
     "end_time": "2023-10-10T17:11:51.221395",
     "exception": false,
     "start_time": "2023-10-10T17:11:51.205685",
     "status": "completed"
    },
    "tags": []
   },
   "source": [
    "([Table of Contents](#-Table-of-Contents))"
   ]
  },
  {
   "cell_type": "markdown",
   "id": "f77818c1",
   "metadata": {
    "papermill": {
     "duration": 0.015869,
     "end_time": "2023-10-10T17:11:51.253304",
     "exception": false,
     "start_time": "2023-10-10T17:11:51.237435",
     "status": "completed"
    },
    "tags": []
   },
   "source": [
    "<div style=\"border-radius:10px;border:#254E58 solid;padding: 15px;background-color:white;font-size:110%;text-align:left\">\n",
    "    \n",
    "\n",
    " This marks the end to this Kernel. If you find it interesting, do continue to Next Part - **30 days of EDA - Week III** \n",
    "    \n",
    "<h2>Thanks for reading!</h2>     "
   ]
  }
 ],
 "metadata": {
  "kernelspec": {
   "display_name": "Python 3",
   "language": "python",
   "name": "python3"
  },
  "language_info": {
   "codemirror_mode": {
    "name": "ipython",
    "version": 3
   },
   "file_extension": ".py",
   "mimetype": "text/x-python",
   "name": "python",
   "nbconvert_exporter": "python",
   "pygments_lexer": "ipython3",
   "version": "3.10.12"
  },
  "papermill": {
   "default_parameters": {},
   "duration": 156.405199,
   "end_time": "2023-10-10T17:11:54.848506",
   "environment_variables": {},
   "exception": null,
   "input_path": "__notebook__.ipynb",
   "output_path": "__notebook__.ipynb",
   "parameters": {},
   "start_time": "2023-10-10T17:09:18.443307",
   "version": "2.4.0"
  }
 },
 "nbformat": 4,
 "nbformat_minor": 5
}
