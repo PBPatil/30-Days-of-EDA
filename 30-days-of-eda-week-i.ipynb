{
 "cells": [
  {
   "cell_type": "markdown",
   "id": "901fb284",
   "metadata": {
    "papermill": {
     "duration": 0.010424,
     "end_time": "2023-10-04T02:57:20.051397",
     "exception": false,
     "start_time": "2023-10-04T02:57:20.040973",
     "status": "completed"
    },
    "tags": []
   },
   "source": [
    "<div style=\"border-radius:10px;border:#254E58 solid;padding: 15px;background-color:white;font-size:110%;text-align:left\">\n",
    "    \n",
    "I have created this kernel in accordance with **[30 Days of EDA](https://www.kaggle.com/discussions/general/442602)** learning series.\n",
    "\n",
    "<h1 align=\"left\"><font color=orange> Table of Contents</font></h1>\n",
    "\n",
    "<h2 align=\"left\"><font color=violet> Week I</font></h2>\n",
    "\n",
    "- [Day 0 : Agenda](#Day-0-:-Agenda)\n",
    "- [Day 1 : Importing Libraries](#Day-1-:-Importing-Libraries)\n",
    "- [Day 2 : Essential basic functionality](#Day-2-:-Essential-basic-functionality)\n",
    "- [Day 3 : Modifying datatypes to save memory](#Day-3-:-Modifying-datatypes-to-save-memory)\n",
    "- [Day 4 : Extracting features from Timestamp](#Day-4-:-Extracting-features-from-Timestamp)\n",
    "- [Day 5 : Checking frequency proportions](#Day-5-:-Checking-frequency-proportions)\n",
    "- [Day 6 : Dealing with Missing values Part I](#Day-6-:-Dealing-with-Missing-values-Part-I)\n",
    "- [Day 7 : Dealing with Missing values Part II](#Day-7-:-Dealing-with-Missing-values-Part-II)    "
   ]
  },
  {
   "cell_type": "markdown",
   "id": "da7f9ff5",
   "metadata": {
    "papermill": {
     "duration": 0.009559,
     "end_time": "2023-10-04T02:57:20.070950",
     "exception": false,
     "start_time": "2023-10-04T02:57:20.061391",
     "status": "completed"
    },
    "tags": []
   },
   "source": [
    "# **<span style='color:skyblue'>Day 0 </span><span style='color:violet'><b>:</b></span><span style='color:lightgreen'> Agenda</span>**"
   ]
  },
  {
   "cell_type": "markdown",
   "id": "5c770aa1",
   "metadata": {
    "papermill": {
     "duration": 0.009672,
     "end_time": "2023-10-04T02:57:20.090812",
     "exception": false,
     "start_time": "2023-10-04T02:57:20.081140",
     "status": "completed"
    },
    "tags": []
   },
   "source": [
    "<div style=\"border-radius:10px;border:#254E58 solid;padding: 15px;background-color:white;font-size:110%;text-align:left\">\n",
    "    \n",
    "Welcome to the  **[30 Days of EDA](https://www.kaggle.com/discussions/general/442602)** learning series, a comprehensive exploration of various techniques to uncover patterns and draw valuable insights from data.\n",
    "\n",
    "Exploratory Data Analysis (EDA) is an essential component of the data science process. It goes beyond creating visually appealing plots; it's about comprehending your data and laying the groundwork for impactful machine learning models.\n",
    "\n",
    "By the end of this series, you will have refined your EDA skills, gained confidence in handling diverse datasets, and become well-prepared to tackle Kaggle competitions and real-world data projects with finesse. Additionally, you'll have a supportive community of fellow data enthusiasts to learn from and grow with!\n",
    "\n",
    "The primary areas of focus in this series will include the following topics\n",
    "(not necessarily in the same order):\n",
    "\n",
    "- Data Cleaning and Preprocessing\n",
    "- Univariate Analysis\n",
    "- Bivariate Analysis\n",
    "- Multivariate Analysis\n",
    "- Feature Engineering\n",
    "- Outlier Detection and Handling\n",
    "- Data Visualization Techniques\n",
    "- Statistical Hypothesis Testing\n",
    "and much more!\n",
    "\n",
    "The discussion posts will feature concise code snippets and functions that you can bookmark for quick reference.\n",
    "\n",
    "So starting tomorrow, are you prepared to embark on a 30-day journey that will undoubtedly enhance your approach to data analysis?\n",
    "\n",
    "__Happy Learning__"
   ]
  },
  {
   "cell_type": "markdown",
   "id": "63a5f6fc",
   "metadata": {
    "papermill": {
     "duration": 0.00964,
     "end_time": "2023-10-04T02:57:20.110336",
     "exception": false,
     "start_time": "2023-10-04T02:57:20.100696",
     "status": "completed"
    },
    "tags": []
   },
   "source": [
    "([Table of Contents](#-Table-of-Contents))"
   ]
  },
  {
   "cell_type": "markdown",
   "id": "19f56b04",
   "metadata": {
    "papermill": {
     "duration": 0.012647,
     "end_time": "2023-10-04T02:57:20.133948",
     "exception": false,
     "start_time": "2023-10-04T02:57:20.121301",
     "status": "completed"
    },
    "tags": []
   },
   "source": [
    "# **<span style='color:skyblue'>Day 1 </span><span style='color:violet'><b>:</b></span><span style='color:lightgreen'> Importing Libraries</span>**"
   ]
  },
  {
   "cell_type": "markdown",
   "id": "7da64ec5",
   "metadata": {
    "papermill": {
     "duration": 0.01189,
     "end_time": "2023-10-04T02:57:20.157599",
     "exception": false,
     "start_time": "2023-10-04T02:57:20.145709",
     "status": "completed"
    },
    "tags": []
   },
   "source": [
    "<div style=\"border-radius:10px;border:#254E58 solid;padding: 15px;background-color:white;font-size:110%;text-align:left\">\n",
    "    \n",
    "Let's begin from scratch by importing libraries which we would need to do various explorations on the dataset of any problem. \n",
    "\n",
    "Here's a comprehensive list of commonly used libraries for data science tasks, along with their import statements and installation commands using pip. You can use this as a starting point for your data science projects. Simply uncomment the installation commands and run them whenever needed.\n",
    "    \n",
    "Depending on your project, you might not always need all these libraries. Consider using conditional imports to only import libraries when they are needed. This can help reduce memory usage and make your notebook more efficient.    "
   ]
  },
  {
   "cell_type": "code",
   "execution_count": 1,
   "id": "9479c5a2",
   "metadata": {
    "execution": {
     "iopub.execute_input": "2023-10-04T02:57:20.182496Z",
     "iopub.status.busy": "2023-10-04T02:57:20.181787Z",
     "iopub.status.idle": "2023-10-04T02:57:20.193498Z",
     "shell.execute_reply": "2023-10-04T02:57:20.191842Z"
    },
    "papermill": {
     "duration": 0.027443,
     "end_time": "2023-10-04T02:57:20.196854",
     "exception": false,
     "start_time": "2023-10-04T02:57:20.169411",
     "status": "completed"
    },
    "tags": []
   },
   "outputs": [],
   "source": [
    "## Get mltiple outputs in same cell\n",
    "from IPython.core.interactiveshell import InteractiveShell\n",
    "InteractiveShell.ast_node_interactivity = \"all\"\n",
    "\n",
    "## Ignore all warnings\n",
    "import warnings\n",
    "warnings.filterwarnings(\"ignore\")\n",
    "warnings.filterwarnings(action=\"ignore\",category=DeprecationWarning)\n"
   ]
  },
  {
   "cell_type": "code",
   "execution_count": 2,
   "id": "b277e233",
   "metadata": {
    "execution": {
     "iopub.execute_input": "2023-10-04T02:57:20.220336Z",
     "iopub.status.busy": "2023-10-04T02:57:20.219895Z",
     "iopub.status.idle": "2023-10-04T02:57:22.582587Z",
     "shell.execute_reply": "2023-10-04T02:57:22.581444Z"
    },
    "papermill": {
     "duration": 2.377863,
     "end_time": "2023-10-04T02:57:22.585408",
     "exception": false,
     "start_time": "2023-10-04T02:57:20.207545",
     "status": "completed"
    },
    "tags": []
   },
   "outputs": [],
   "source": [
    "# Data manipulation\n",
    "#!pip install numpy pandas dask\n",
    "import numpy as np\n",
    "import pandas as pd\n",
    "import dask\n",
    "\n",
    "##Display all rows and columns of the dataframe instead of truncated version\n",
    "from IPython.display import display\n",
    "pd.set_option('display.max_columns',None)\n",
    "pd.set_option('display.max_rows',None)\n",
    "\n",
    "from IPython.display import Image\n",
    "import os\n",
    "\n",
    "# Data visualization\n",
    "#!pip install matplotlib seaborn plotly bokeh ggplot\n",
    "import matplotlib.pyplot as plt\n",
    "%matplotlib inline\n",
    "import seaborn as sns\n",
    "# import plotly.express as px\n",
    "# import plotly.graph_objects as go\n",
    "# import bokeh\n",
    "# import ggplot\n",
    "\n",
    "# Statistical analysis\n",
    "#!pip install scipy statsmodels pingouin\n",
    "# import scipy.stats as stats\n",
    "# import statsmodels.api as sm\n",
    "# import pingouin\n",
    "\n",
    "# Interactive data visualization\n",
    "#!pip install dash folium\n",
    "# import dash\n",
    "# import folium\n",
    "\n",
    "# Data preprocessing\n",
    "#!pip install scikit-learn feature-engine category-encoders\n",
    "# from sklearn.preprocessing import StandardScaler, MinMaxScaler, RobustScaler, LabelEncoder, OneHotEncoder\n",
    "# from category_encoders import TargetEncoder\n",
    "# import feature_engine\n",
    "\n",
    "# Missing data handling\n",
    "#!pip install missingno impyute\n",
    "# import missingno as msno\n",
    "# import impyute\n",
    "# from sklearn.impute import SimpleImputer, KNNImputer\n",
    "# from sklearn.experimental import enable_iterative_imputer\n",
    "# from sklearn.impute import IterativeImputer\n",
    "\n",
    "\n",
    "# Outlier detection\n",
    "#!pip install pyod\n",
    "# from sklearn.ensemble import IsolationForest\n",
    "# from sklearn.neighbors import LocalOutlierFactor\n",
    "# import pyod\n",
    "\n",
    "# Dimensionality reduction\n",
    "#!pip install umap-learn\n",
    "# from sklearn.decomposition import PCA, FactorAnalysis, FastICA, NMF, TruncatedSVD\n",
    "# from umap import UMAP\n",
    "\n",
    "# Feature selection\n",
    "#!pip install scikit-learn-pandas\n",
    "# from sklearn.feature_selection import SelectKBest, mutual_info_classif, mutual_info_regression, RFE\n",
    "\n",
    "\n",
    "# Correlation analysis\n",
    "#!pip install dython pingouin\n",
    "# from scipy.stats import pearsonr, spearmanr\n",
    "# import pingouin as pg\n",
    "# import dython\n",
    "\n",
    "# Data splitting and model evaluation\n",
    "#!pip install scikit-plot\n",
    "# from sklearn.model_selection import train_test_split, cross_val_score, StratifiedKFold, TimeSeriesSplit\n",
    "# import scikitplot as skplt\n",
    "\n",
    "# Model building and evaluation\n",
    "#!pip install xgboost lightgbm catboost\n",
    "# from sklearn.linear_model import LinearRegression, LogisticRegression, Ridge, Lasso, ElasticNet\n",
    "# from sklearn.tree import DecisionTreeClassifier, DecisionTreeRegressor\n",
    "# from sklearn.ensemble import RandomForestClassifier, RandomForestRegressor, GradientBoostingClassifier, GradientBoostingRegressor\n",
    "# from xgboost import XGBClassifier, XGBRegressor\n",
    "# from lightgbm import LGBMClassifier, LGBMRegressor\n",
    "# from catboost import CatBoostClassifier, CatBoostRegressor\n",
    "# from sklearn.svm import SVC, SVR\n",
    "# from sklearn.neighbors import KNeighborsClassifier, KNeighborsRegressor\n",
    "# from sklearn.naive_bayes import GaussianNB\n",
    "# from sklearn.metrics import accuracy_score, confusion_matrix, classification_report, mean_squared_error, r2_score, roc_curve, auc\n",
    "\n",
    "# Time series analysis\n",
    "#!pip install pmdarima dart\n",
    "from datetime import datetime\n",
    "# import statsmodels.tsa.api as tsa\n",
    "# import pmdarima\n",
    "# import dart\n",
    "\n",
    "# Geospatial analysis\n",
    "#!pip install geopandas geopy\n",
    "# import geopandas as gpd\n",
    "# import geopandas.tools\n",
    "# import folium\n",
    "# import geopy\n",
    "\n",
    "# Natural language processing (if text data is involved)\n",
    "#!pip install nltk spacy gensim textblob vaderSentiment\n",
    "# import nltk\n",
    "# from nltk.corpus import stopwords\n",
    "# import spacy\n",
    "# import gensim\n",
    "# import textblob\n",
    "# import vaderSentiment\n",
    "\n",
    "# Interactive widgets (for Jupyter Notebook)\n",
    "#!pip install ipywidgets\n",
    "# import ipywidgets as widgets\n",
    "\n",
    "# Data storage and retrieval (e.g., SQL databases, HDF5, etc.)\n",
    "#!pip install sqlalchemy psycopg2 h5py pymongo\n",
    "# import sqlite3\n",
    "# import sqlalchemy\n",
    "# import psycopg2\n",
    "# import h5py\n",
    "# import pymongo\n",
    "\n",
    "# Web scraping\n",
    "#!pip install requests beautifulsoup4 selenium\n",
    "# import requests\n",
    "# from bs4 import BeautifulSoup\n",
    "# import selenium\n",
    "\n",
    "# Automated Exploratory Data Analysis\n",
    "#!pip install pandas_profiling sweetviz lux dataprep autoeda pyforest\n",
    "# import pandas_profiling\n",
    "# import sweetviz as sv\n",
    "# import lux\n",
    "# import dataprep\n",
    "# import autoeda\n",
    "# import pyforest\n",
    "\n",
    "# Auto ML\n",
    "#!pip install h2o tpot flaml lazypredict pycaret\n",
    "# import h2o\n",
    "# import tpot\n",
    "# import flaml \n",
    "# import lazypredict\n",
    "# import pycaret"
   ]
  },
  {
   "cell_type": "markdown",
   "id": "93eba5ed",
   "metadata": {
    "papermill": {
     "duration": 0.01198,
     "end_time": "2023-10-04T02:57:22.607497",
     "exception": false,
     "start_time": "2023-10-04T02:57:22.595517",
     "status": "completed"
    },
    "tags": []
   },
   "source": [
    "<div style=\"border-radius:10px;border:#254E58 solid;padding: 15px;background-color:white;font-size:110%;text-align:left\"> \n",
    " \n",
    "    \n",
    "In a real project, you might want to create a **requirements.txt** file to list all the libraries and their versions. This makes it easier to recreate the environment on a different machine or share it with others."
   ]
  },
  {
   "cell_type": "markdown",
   "id": "4a6ff157",
   "metadata": {
    "papermill": {
     "duration": 0.009868,
     "end_time": "2023-10-04T02:57:22.628084",
     "exception": false,
     "start_time": "2023-10-04T02:57:22.618216",
     "status": "completed"
    },
    "tags": []
   },
   "source": [
    "([Table of Contents](#-Table-of-Contents))"
   ]
  },
  {
   "cell_type": "markdown",
   "id": "dfd92dd0",
   "metadata": {
    "papermill": {
     "duration": 0.010314,
     "end_time": "2023-10-04T02:57:22.648947",
     "exception": false,
     "start_time": "2023-10-04T02:57:22.638633",
     "status": "completed"
    },
    "tags": []
   },
   "source": [
    "# **<span style='color:skyblue'>Day 2 </span><span style='color:violet'><b>:</b></span><span style='color:lightgreen'> Essential basic functionality</span>**"
   ]
  },
  {
   "cell_type": "markdown",
   "id": "9cef2686",
   "metadata": {
    "papermill": {
     "duration": 0.075835,
     "end_time": "2023-10-04T02:57:22.735192",
     "exception": false,
     "start_time": "2023-10-04T02:57:22.659357",
     "status": "completed"
    },
    "tags": []
   },
   "source": [
    "<div style=\"border-radius:10px;border:#254E58 solid;padding: 15px;background-color:white;font-size:110%;text-align:left\"> \n",
    "    \n",
    "We will choose a dataset and conduct preliminary quality assurance checks. Specifically, we will utilize the [**Constitution Dataset**](https://www.kaggle.com/datasets/prasad22/constitution-dataset), which is available in CSV format. The method for loading the data will depend on the file extension to ensure proper handling."
   ]
  },
  {
   "cell_type": "code",
   "execution_count": 3,
   "id": "0185ca37",
   "metadata": {
    "execution": {
     "iopub.execute_input": "2023-10-04T02:57:22.759681Z",
     "iopub.status.busy": "2023-10-04T02:57:22.758734Z",
     "iopub.status.idle": "2023-10-04T02:57:22.804755Z",
     "shell.execute_reply": "2023-10-04T02:57:22.803232Z"
    },
    "papermill": {
     "duration": 0.060745,
     "end_time": "2023-10-04T02:57:22.807406",
     "exception": false,
     "start_time": "2023-10-04T02:57:22.746661",
     "status": "completed"
    },
    "tags": []
   },
   "outputs": [
    {
     "data": {
      "text/plain": [
       "pandas.core.frame.DataFrame"
      ]
     },
     "execution_count": 3,
     "metadata": {},
     "output_type": "execute_result"
    }
   ],
   "source": [
    "#Loading the Dataset\n",
    "constitition = pd.read_csv(\"/kaggle/input/constitution-dataset/Constitution Dataset.csv\")\n",
    "type(constitition) #Checking type of variable df"
   ]
  },
  {
   "cell_type": "code",
   "execution_count": 4,
   "id": "c8fc307e",
   "metadata": {
    "execution": {
     "iopub.execute_input": "2023-10-04T02:57:22.830839Z",
     "iopub.status.busy": "2023-10-04T02:57:22.830453Z",
     "iopub.status.idle": "2023-10-04T02:57:22.858578Z",
     "shell.execute_reply": "2023-10-04T02:57:22.857732Z"
    },
    "papermill": {
     "duration": 0.042178,
     "end_time": "2023-10-04T02:57:22.860796",
     "exception": false,
     "start_time": "2023-10-04T02:57:22.818618",
     "status": "completed"
    },
    "tags": []
   },
   "outputs": [
    {
     "data": {
      "image/jpeg": "[encoded data removed]",
      "text/plain": [
       "<IPython.core.display.Image object>"
      ]
     },
     "execution_count": 4,
     "metadata": {},
     "output_type": "execute_result"
    }
   ],
   "source": [
    "#DataFrame Anatomy\n",
    "Image(\"/kaggle/input/images/DataFrame Anatomy.JPG\")"
   ]
  },
  {
   "cell_type": "code",
   "execution_count": 5,
   "id": "58790c8e",
   "metadata": {
    "execution": {
     "iopub.execute_input": "2023-10-04T02:57:22.888257Z",
     "iopub.status.busy": "2023-10-04T02:57:22.887891Z",
     "iopub.status.idle": "2023-10-04T02:57:22.895636Z",
     "shell.execute_reply": "2023-10-04T02:57:22.894386Z"
    },
    "papermill": {
     "duration": 0.025421,
     "end_time": "2023-10-04T02:57:22.898245",
     "exception": false,
     "start_time": "2023-10-04T02:57:22.872824",
     "status": "completed"
    },
    "tags": []
   },
   "outputs": [
    {
     "name": "stdout",
     "output_type": "stream",
     "text": [
      "\n",
      "Shape of the DataFrame:\n"
     ]
    },
    {
     "data": {
      "text/plain": [
       "(190, 9)"
      ]
     },
     "execution_count": 5,
     "metadata": {},
     "output_type": "execute_result"
    }
   ],
   "source": [
    "# Display the shape of the DataFrame (number of rows and columns)\n",
    "print(\"\\nShape of the DataFrame:\")\n",
    "constitition.shape"
   ]
  },
  {
   "cell_type": "code",
   "execution_count": 6,
   "id": "7322882b",
   "metadata": {
    "execution": {
     "iopub.execute_input": "2023-10-04T02:57:22.925558Z",
     "iopub.status.busy": "2023-10-04T02:57:22.924881Z",
     "iopub.status.idle": "2023-10-04T02:57:22.950762Z",
     "shell.execute_reply": "2023-10-04T02:57:22.949696Z"
    },
    "papermill": {
     "duration": 0.042714,
     "end_time": "2023-10-04T02:57:22.953875",
     "exception": false,
     "start_time": "2023-10-04T02:57:22.911161",
     "status": "completed"
    },
    "tags": []
   },
   "outputs": [
    {
     "name": "stdout",
     "output_type": "stream",
     "text": [
      "First few rows:\n"
     ]
    },
    {
     "data": {
      "text/html": [
       "<div>\n",
       "<style scoped>\n",
       "    .dataframe tbody tr th:only-of-type {\n",
       "        vertical-align: middle;\n",
       "    }\n",
       "\n",
       "    .dataframe tbody tr th {\n",
       "        vertical-align: top;\n",
       "    }\n",
       "\n",
       "    .dataframe thead th {\n",
       "        text-align: right;\n",
       "    }\n",
       "</style>\n",
       "<table border=\"1\" class=\"dataframe\">\n",
       "  <thead>\n",
       "    <tr style=\"text-align: right;\">\n",
       "      <th></th>\n",
       "      <th>Country</th>\n",
       "      <th>Year Enacted</th>\n",
       "      <th>Scope</th>\n",
       "      <th>Length (in Words)</th>\n",
       "      <th>Executive Power</th>\n",
       "      <th>Legislative Power</th>\n",
       "      <th>Judicial Independence</th>\n",
       "      <th>Number of Rights</th>\n",
       "      <th>Preamble</th>\n",
       "    </tr>\n",
       "  </thead>\n",
       "  <tbody>\n",
       "    <tr>\n",
       "      <th>0</th>\n",
       "      <td>Afghanistan</td>\n",
       "      <td>2004</td>\n",
       "      <td>0.67</td>\n",
       "      <td>10,227</td>\n",
       "      <td>6</td>\n",
       "      <td>0.38</td>\n",
       "      <td>2</td>\n",
       "      <td>37</td>\n",
       "      <td>In the name of Allah, the Most Beneficent, the...</td>\n",
       "    </tr>\n",
       "    <tr>\n",
       "      <th>1</th>\n",
       "      <td>Albania</td>\n",
       "      <td>1998</td>\n",
       "      <td>0.61</td>\n",
       "      <td>13,826</td>\n",
       "      <td>5</td>\n",
       "      <td>0.43</td>\n",
       "      <td>5</td>\n",
       "      <td>77</td>\n",
       "      <td>We, the people of Albania, proud and aware of ...</td>\n",
       "    </tr>\n",
       "    <tr>\n",
       "      <th>2</th>\n",
       "      <td>Algeria</td>\n",
       "      <td>1996</td>\n",
       "      <td>0.61</td>\n",
       "      <td>10,038</td>\n",
       "      <td>7</td>\n",
       "      <td>0.29</td>\n",
       "      <td>1</td>\n",
       "      <td>36</td>\n",
       "      <td>The Algerian people are a free people; and the...</td>\n",
       "    </tr>\n",
       "    <tr>\n",
       "      <th>3</th>\n",
       "      <td>Andorra</td>\n",
       "      <td>1993</td>\n",
       "      <td>0.51</td>\n",
       "      <td>8,740</td>\n",
       "      <td>6</td>\n",
       "      <td>0.19</td>\n",
       "      <td>3</td>\n",
       "      <td>51</td>\n",
       "      <td>The Andorran People, with full liberty and ind...</td>\n",
       "    </tr>\n",
       "    <tr>\n",
       "      <th>4</th>\n",
       "      <td>Angola</td>\n",
       "      <td>2010</td>\n",
       "      <td>0.80</td>\n",
       "      <td>27,181</td>\n",
       "      <td>7</td>\n",
       "      <td>0.19</td>\n",
       "      <td>2</td>\n",
       "      <td>80</td>\n",
       "      <td>We, the people of Angola, through its lawful r...</td>\n",
       "    </tr>\n",
       "  </tbody>\n",
       "</table>\n",
       "</div>"
      ],
      "text/plain": [
       "       Country  Year Enacted  Scope Length (in Words)  Executive Power  \\\n",
       "0  Afghanistan          2004   0.67            10,227                6   \n",
       "1      Albania          1998   0.61            13,826                5   \n",
       "2      Algeria          1996   0.61            10,038                7   \n",
       "3      Andorra          1993   0.51             8,740                6   \n",
       "4       Angola          2010   0.80            27,181                7   \n",
       "\n",
       "   Legislative Power  Judicial Independence  Number of Rights  \\\n",
       "0               0.38                      2                37   \n",
       "1               0.43                      5                77   \n",
       "2               0.29                      1                36   \n",
       "3               0.19                      3                51   \n",
       "4               0.19                      2                80   \n",
       "\n",
       "                                            Preamble  \n",
       "0  In the name of Allah, the Most Beneficent, the...  \n",
       "1  We, the people of Albania, proud and aware of ...  \n",
       "2  The Algerian people are a free people; and the...  \n",
       "3  The Andorran People, with full liberty and ind...  \n",
       "4  We, the people of Angola, through its lawful r...  "
      ]
     },
     "execution_count": 6,
     "metadata": {},
     "output_type": "execute_result"
    }
   ],
   "source": [
    "# Display the first few rows of the DataFrame\n",
    "print(\"First few rows:\")\n",
    "constitition.head()"
   ]
  },
  {
   "cell_type": "code",
   "execution_count": 7,
   "id": "8fd71a35",
   "metadata": {
    "execution": {
     "iopub.execute_input": "2023-10-04T02:57:22.981404Z",
     "iopub.status.busy": "2023-10-04T02:57:22.980688Z",
     "iopub.status.idle": "2023-10-04T02:57:22.996740Z",
     "shell.execute_reply": "2023-10-04T02:57:22.995413Z"
    },
    "papermill": {
     "duration": 0.032708,
     "end_time": "2023-10-04T02:57:22.999438",
     "exception": false,
     "start_time": "2023-10-04T02:57:22.966730",
     "status": "completed"
    },
    "tags": []
   },
   "outputs": [
    {
     "name": "stdout",
     "output_type": "stream",
     "text": [
      "\n",
      "Last few rows:\n"
     ]
    },
    {
     "data": {
      "text/html": [
       "<div>\n",
       "<style scoped>\n",
       "    .dataframe tbody tr th:only-of-type {\n",
       "        vertical-align: middle;\n",
       "    }\n",
       "\n",
       "    .dataframe tbody tr th {\n",
       "        vertical-align: top;\n",
       "    }\n",
       "\n",
       "    .dataframe thead th {\n",
       "        text-align: right;\n",
       "    }\n",
       "</style>\n",
       "<table border=\"1\" class=\"dataframe\">\n",
       "  <thead>\n",
       "    <tr style=\"text-align: right;\">\n",
       "      <th></th>\n",
       "      <th>Country</th>\n",
       "      <th>Year Enacted</th>\n",
       "      <th>Scope</th>\n",
       "      <th>Length (in Words)</th>\n",
       "      <th>Executive Power</th>\n",
       "      <th>Legislative Power</th>\n",
       "      <th>Judicial Independence</th>\n",
       "      <th>Number of Rights</th>\n",
       "      <th>Preamble</th>\n",
       "    </tr>\n",
       "  </thead>\n",
       "  <tbody>\n",
       "    <tr>\n",
       "      <th>185</th>\n",
       "      <td>Vanuatu</td>\n",
       "      <td>1980</td>\n",
       "      <td>0.51</td>\n",
       "      <td>8,425</td>\n",
       "      <td>6</td>\n",
       "      <td>0.29</td>\n",
       "      <td>4</td>\n",
       "      <td>28</td>\n",
       "      <td>WE the people of Vanuatu, PROUD of our struggl...</td>\n",
       "    </tr>\n",
       "    <tr>\n",
       "      <th>186</th>\n",
       "      <td>Venezuela</td>\n",
       "      <td>1999</td>\n",
       "      <td>0.66</td>\n",
       "      <td>37,344</td>\n",
       "      <td>6</td>\n",
       "      <td>0.38</td>\n",
       "      <td>1</td>\n",
       "      <td>82</td>\n",
       "      <td>The people of Venezuela, exercising their powe...</td>\n",
       "    </tr>\n",
       "    <tr>\n",
       "      <th>187</th>\n",
       "      <td>Vietnam</td>\n",
       "      <td>1992</td>\n",
       "      <td>0.51</td>\n",
       "      <td>11,344</td>\n",
       "      <td>2</td>\n",
       "      <td>0.43</td>\n",
       "      <td>0</td>\n",
       "      <td>45</td>\n",
       "      <td>In the course of their millennia-old history, ...</td>\n",
       "    </tr>\n",
       "    <tr>\n",
       "      <th>188</th>\n",
       "      <td>Zambia</td>\n",
       "      <td>1991</td>\n",
       "      <td>0.63</td>\n",
       "      <td>30,696</td>\n",
       "      <td>4</td>\n",
       "      <td>0.10</td>\n",
       "      <td>4</td>\n",
       "      <td>50</td>\n",
       "      <td>WE, THE PEOPLE OF ZAMBIA: ACKNOWLEDGE the supr...</td>\n",
       "    </tr>\n",
       "    <tr>\n",
       "      <th>189</th>\n",
       "      <td>Zimbabwe</td>\n",
       "      <td>2013</td>\n",
       "      <td>0.81</td>\n",
       "      <td>55,883</td>\n",
       "      <td>6</td>\n",
       "      <td>0.33</td>\n",
       "      <td>4</td>\n",
       "      <td>74</td>\n",
       "      <td>We the people of Zimbabwe, United in our diver...</td>\n",
       "    </tr>\n",
       "  </tbody>\n",
       "</table>\n",
       "</div>"
      ],
      "text/plain": [
       "       Country  Year Enacted  Scope Length (in Words)  Executive Power  \\\n",
       "185    Vanuatu          1980   0.51             8,425                6   \n",
       "186  Venezuela          1999   0.66            37,344                6   \n",
       "187    Vietnam          1992   0.51            11,344                2   \n",
       "188     Zambia          1991   0.63            30,696                4   \n",
       "189   Zimbabwe          2013   0.81            55,883                6   \n",
       "\n",
       "     Legislative Power  Judicial Independence  Number of Rights  \\\n",
       "185               0.29                      4                28   \n",
       "186               0.38                      1                82   \n",
       "187               0.43                      0                45   \n",
       "188               0.10                      4                50   \n",
       "189               0.33                      4                74   \n",
       "\n",
       "                                              Preamble  \n",
       "185  WE the people of Vanuatu, PROUD of our struggl...  \n",
       "186  The people of Venezuela, exercising their powe...  \n",
       "187  In the course of their millennia-old history, ...  \n",
       "188  WE, THE PEOPLE OF ZAMBIA: ACKNOWLEDGE the supr...  \n",
       "189  We the people of Zimbabwe, United in our diver...  "
      ]
     },
     "execution_count": 7,
     "metadata": {},
     "output_type": "execute_result"
    }
   ],
   "source": [
    "# Display the last few rows of the DataFrame\n",
    "print(\"\\nLast few rows:\")\n",
    "constitition.tail()"
   ]
  },
  {
   "cell_type": "code",
   "execution_count": 8,
   "id": "db055763",
   "metadata": {
    "execution": {
     "iopub.execute_input": "2023-10-04T02:57:23.028348Z",
     "iopub.status.busy": "2023-10-04T02:57:23.027976Z",
     "iopub.status.idle": "2023-10-04T02:57:23.054196Z",
     "shell.execute_reply": "2023-10-04T02:57:23.052993Z"
    },
    "papermill": {
     "duration": 0.043292,
     "end_time": "2023-10-04T02:57:23.056451",
     "exception": false,
     "start_time": "2023-10-04T02:57:23.013159",
     "status": "completed"
    },
    "tags": []
   },
   "outputs": [
    {
     "name": "stdout",
     "output_type": "stream",
     "text": [
      "\n",
      "DataFrame Info:\n",
      "<class 'pandas.core.frame.DataFrame'>\n",
      "RangeIndex: 190 entries, 0 to 189\n",
      "Data columns (total 9 columns):\n",
      " #   Column                 Non-Null Count  Dtype  \n",
      "---  ------                 --------------  -----  \n",
      " 0   Country                190 non-null    object \n",
      " 1   Year Enacted           190 non-null    int64  \n",
      " 2   Scope                  190 non-null    float64\n",
      " 3   Length (in Words)      190 non-null    object \n",
      " 4   Executive Power        190 non-null    int64  \n",
      " 5   Legislative Power      190 non-null    float64\n",
      " 6   Judicial Independence  190 non-null    int64  \n",
      " 7   Number of Rights       190 non-null    int64  \n",
      " 8   Preamble               159 non-null    object \n",
      "dtypes: float64(2), int64(4), object(3)\n",
      "memory usage: 13.5+ KB\n"
     ]
    }
   ],
   "source": [
    "# Display information about the DataFrame, including data types and non-null counts\n",
    "print(\"\\nDataFrame Info:\")\n",
    "constitition.info()"
   ]
  },
  {
   "cell_type": "code",
   "execution_count": 9,
   "id": "2df63313",
   "metadata": {
    "execution": {
     "iopub.execute_input": "2023-10-04T02:57:23.082922Z",
     "iopub.status.busy": "2023-10-04T02:57:23.081701Z",
     "iopub.status.idle": "2023-10-04T02:57:23.088776Z",
     "shell.execute_reply": "2023-10-04T02:57:23.087327Z"
    },
    "papermill": {
     "duration": 0.022661,
     "end_time": "2023-10-04T02:57:23.091193",
     "exception": false,
     "start_time": "2023-10-04T02:57:23.068532",
     "status": "completed"
    },
    "tags": []
   },
   "outputs": [],
   "source": [
    "##Checking Datatypes, Mising Value, Unique Value\n",
    "def perform_basic_eda(df):\n",
    "    temp = pd.DataFrame(index=df.columns)\n",
    "    temp['data_type']=df.dtypes\n",
    "    temp['null_count']=df.isnull().sum()\n",
    "    temp['unique_count']=df.nunique()\n",
    "    return temp"
   ]
  },
  {
   "cell_type": "code",
   "execution_count": 10,
   "id": "0fa74a63",
   "metadata": {
    "execution": {
     "iopub.execute_input": "2023-10-04T02:57:23.117956Z",
     "iopub.status.busy": "2023-10-04T02:57:23.117144Z",
     "iopub.status.idle": "2023-10-04T02:57:23.136293Z",
     "shell.execute_reply": "2023-10-04T02:57:23.135100Z"
    },
    "papermill": {
     "duration": 0.035204,
     "end_time": "2023-10-04T02:57:23.138779",
     "exception": false,
     "start_time": "2023-10-04T02:57:23.103575",
     "status": "completed"
    },
    "tags": []
   },
   "outputs": [
    {
     "data": {
      "text/html": [
       "<div>\n",
       "<style scoped>\n",
       "    .dataframe tbody tr th:only-of-type {\n",
       "        vertical-align: middle;\n",
       "    }\n",
       "\n",
       "    .dataframe tbody tr th {\n",
       "        vertical-align: top;\n",
       "    }\n",
       "\n",
       "    .dataframe thead th {\n",
       "        text-align: right;\n",
       "    }\n",
       "</style>\n",
       "<table border=\"1\" class=\"dataframe\">\n",
       "  <thead>\n",
       "    <tr style=\"text-align: right;\">\n",
       "      <th></th>\n",
       "      <th>data_type</th>\n",
       "      <th>null_count</th>\n",
       "      <th>unique_count</th>\n",
       "    </tr>\n",
       "  </thead>\n",
       "  <tbody>\n",
       "    <tr>\n",
       "      <th>Country</th>\n",
       "      <td>object</td>\n",
       "      <td>0</td>\n",
       "      <td>190</td>\n",
       "    </tr>\n",
       "    <tr>\n",
       "      <th>Year Enacted</th>\n",
       "      <td>int64</td>\n",
       "      <td>0</td>\n",
       "      <td>74</td>\n",
       "    </tr>\n",
       "    <tr>\n",
       "      <th>Scope</th>\n",
       "      <td>float64</td>\n",
       "      <td>0</td>\n",
       "      <td>36</td>\n",
       "    </tr>\n",
       "    <tr>\n",
       "      <th>Length (in Words)</th>\n",
       "      <td>object</td>\n",
       "      <td>0</td>\n",
       "      <td>189</td>\n",
       "    </tr>\n",
       "    <tr>\n",
       "      <th>Executive Power</th>\n",
       "      <td>int64</td>\n",
       "      <td>0</td>\n",
       "      <td>8</td>\n",
       "    </tr>\n",
       "    <tr>\n",
       "      <th>Legislative Power</th>\n",
       "      <td>float64</td>\n",
       "      <td>0</td>\n",
       "      <td>14</td>\n",
       "    </tr>\n",
       "    <tr>\n",
       "      <th>Judicial Independence</th>\n",
       "      <td>int64</td>\n",
       "      <td>0</td>\n",
       "      <td>7</td>\n",
       "    </tr>\n",
       "    <tr>\n",
       "      <th>Number of Rights</th>\n",
       "      <td>int64</td>\n",
       "      <td>0</td>\n",
       "      <td>68</td>\n",
       "    </tr>\n",
       "    <tr>\n",
       "      <th>Preamble</th>\n",
       "      <td>object</td>\n",
       "      <td>31</td>\n",
       "      <td>159</td>\n",
       "    </tr>\n",
       "  </tbody>\n",
       "</table>\n",
       "</div>"
      ],
      "text/plain": [
       "                      data_type  null_count  unique_count\n",
       "Country                  object           0           190\n",
       "Year Enacted              int64           0            74\n",
       "Scope                   float64           0            36\n",
       "Length (in Words)        object           0           189\n",
       "Executive Power           int64           0             8\n",
       "Legislative Power       float64           0            14\n",
       "Judicial Independence     int64           0             7\n",
       "Number of Rights          int64           0            68\n",
       "Preamble                 object          31           159"
      ]
     },
     "execution_count": 10,
     "metadata": {},
     "output_type": "execute_result"
    }
   ],
   "source": [
    "perform_basic_eda(constitition)"
   ]
  },
  {
   "cell_type": "markdown",
   "id": "882f017a",
   "metadata": {
    "papermill": {
     "duration": 0.013785,
     "end_time": "2023-10-04T02:57:23.167587",
     "exception": false,
     "start_time": "2023-10-04T02:57:23.153802",
     "status": "completed"
    },
    "tags": []
   },
   "source": [
    "<div style=\"border-radius:10px;border:#254E58 solid;padding: 15px;background-color:white;font-size:110%;text-align:left\"> \n",
    "    \n",
    "For 31 countries there is no Preamble in respective constitutions.    "
   ]
  },
  {
   "cell_type": "code",
   "execution_count": 11,
   "id": "5fdd0224",
   "metadata": {
    "execution": {
     "iopub.execute_input": "2023-10-04T02:57:23.196915Z",
     "iopub.status.busy": "2023-10-04T02:57:23.196528Z",
     "iopub.status.idle": "2023-10-04T02:57:23.225339Z",
     "shell.execute_reply": "2023-10-04T02:57:23.224509Z"
    },
    "papermill": {
     "duration": 0.045919,
     "end_time": "2023-10-04T02:57:23.227480",
     "exception": false,
     "start_time": "2023-10-04T02:57:23.181561",
     "status": "completed"
    },
    "tags": []
   },
   "outputs": [
    {
     "data": {
      "text/html": [
       "<div>\n",
       "<style scoped>\n",
       "    .dataframe tbody tr th:only-of-type {\n",
       "        vertical-align: middle;\n",
       "    }\n",
       "\n",
       "    .dataframe tbody tr th {\n",
       "        vertical-align: top;\n",
       "    }\n",
       "\n",
       "    .dataframe thead th {\n",
       "        text-align: right;\n",
       "    }\n",
       "</style>\n",
       "<table border=\"1\" class=\"dataframe\">\n",
       "  <thead>\n",
       "    <tr style=\"text-align: right;\">\n",
       "      <th></th>\n",
       "      <th>Year Enacted</th>\n",
       "      <th>Scope</th>\n",
       "      <th>Executive Power</th>\n",
       "      <th>Legislative Power</th>\n",
       "      <th>Judicial Independence</th>\n",
       "      <th>Number of Rights</th>\n",
       "    </tr>\n",
       "  </thead>\n",
       "  <tbody>\n",
       "    <tr>\n",
       "      <th>count</th>\n",
       "      <td>190.000000</td>\n",
       "      <td>190.000000</td>\n",
       "      <td>190.000000</td>\n",
       "      <td>190.000000</td>\n",
       "      <td>190.000000</td>\n",
       "      <td>190.000000</td>\n",
       "    </tr>\n",
       "    <tr>\n",
       "      <th>mean</th>\n",
       "      <td>1975.873684</td>\n",
       "      <td>0.583158</td>\n",
       "      <td>4.357895</td>\n",
       "      <td>0.293263</td>\n",
       "      <td>2.594737</td>\n",
       "      <td>50.036842</td>\n",
       "    </tr>\n",
       "    <tr>\n",
       "      <th>std</th>\n",
       "      <td>66.244415</td>\n",
       "      <td>0.105181</td>\n",
       "      <td>1.726947</td>\n",
       "      <td>0.114536</td>\n",
       "      <td>1.472490</td>\n",
       "      <td>18.035934</td>\n",
       "    </tr>\n",
       "    <tr>\n",
       "      <th>min</th>\n",
       "      <td>1215.000000</td>\n",
       "      <td>0.210000</td>\n",
       "      <td>0.000000</td>\n",
       "      <td>0.000000</td>\n",
       "      <td>0.000000</td>\n",
       "      <td>2.000000</td>\n",
       "    </tr>\n",
       "    <tr>\n",
       "      <th>25%</th>\n",
       "      <td>1975.000000</td>\n",
       "      <td>0.510000</td>\n",
       "      <td>3.000000</td>\n",
       "      <td>0.190000</td>\n",
       "      <td>1.000000</td>\n",
       "      <td>37.250000</td>\n",
       "    </tr>\n",
       "    <tr>\n",
       "      <th>50%</th>\n",
       "      <td>1991.000000</td>\n",
       "      <td>0.600000</td>\n",
       "      <td>4.000000</td>\n",
       "      <td>0.330000</td>\n",
       "      <td>2.000000</td>\n",
       "      <td>49.000000</td>\n",
       "    </tr>\n",
       "    <tr>\n",
       "      <th>75%</th>\n",
       "      <td>1998.750000</td>\n",
       "      <td>0.660000</td>\n",
       "      <td>6.000000</td>\n",
       "      <td>0.380000</td>\n",
       "      <td>4.000000</td>\n",
       "      <td>63.000000</td>\n",
       "    </tr>\n",
       "    <tr>\n",
       "      <th>max</th>\n",
       "      <td>2014.000000</td>\n",
       "      <td>0.810000</td>\n",
       "      <td>7.000000</td>\n",
       "      <td>0.620000</td>\n",
       "      <td>6.000000</td>\n",
       "      <td>99.000000</td>\n",
       "    </tr>\n",
       "  </tbody>\n",
       "</table>\n",
       "</div>"
      ],
      "text/plain": [
       "       Year Enacted       Scope  Executive Power  Legislative Power  \\\n",
       "count    190.000000  190.000000       190.000000         190.000000   \n",
       "mean    1975.873684    0.583158         4.357895           0.293263   \n",
       "std       66.244415    0.105181         1.726947           0.114536   \n",
       "min     1215.000000    0.210000         0.000000           0.000000   \n",
       "25%     1975.000000    0.510000         3.000000           0.190000   \n",
       "50%     1991.000000    0.600000         4.000000           0.330000   \n",
       "75%     1998.750000    0.660000         6.000000           0.380000   \n",
       "max     2014.000000    0.810000         7.000000           0.620000   \n",
       "\n",
       "       Judicial Independence  Number of Rights  \n",
       "count             190.000000        190.000000  \n",
       "mean                2.594737         50.036842  \n",
       "std                 1.472490         18.035934  \n",
       "min                 0.000000          2.000000  \n",
       "25%                 1.000000         37.250000  \n",
       "50%                 2.000000         49.000000  \n",
       "75%                 4.000000         63.000000  \n",
       "max                 6.000000         99.000000  "
      ]
     },
     "execution_count": 11,
     "metadata": {},
     "output_type": "execute_result"
    }
   ],
   "source": [
    "constitition.describe()"
   ]
  },
  {
   "cell_type": "markdown",
   "id": "73aa4ac1",
   "metadata": {
    "papermill": {
     "duration": 0.013294,
     "end_time": "2023-10-04T02:57:23.253843",
     "exception": false,
     "start_time": "2023-10-04T02:57:23.240549",
     "status": "completed"
    },
    "tags": []
   },
   "source": [
    "<div style=\"border-radius:10px;border:#254E58 solid;padding: 15px;background-color:white;font-size:110%;text-align:left\"> \n",
    "    \n",
    "Interesting to note there is a country with only 2 number of rights.Can you identify which one as Day 2 Homework?   "
   ]
  },
  {
   "cell_type": "markdown",
   "id": "18604a13",
   "metadata": {
    "papermill": {
     "duration": 0.014845,
     "end_time": "2023-10-04T02:57:23.281836",
     "exception": false,
     "start_time": "2023-10-04T02:57:23.266991",
     "status": "completed"
    },
    "tags": []
   },
   "source": [
    "([Table of Contents](#-Table-of-Contents))"
   ]
  },
  {
   "cell_type": "markdown",
   "id": "618ab274",
   "metadata": {
    "papermill": {
     "duration": 0.013175,
     "end_time": "2023-10-04T02:57:23.310501",
     "exception": false,
     "start_time": "2023-10-04T02:57:23.297326",
     "status": "completed"
    },
    "tags": []
   },
   "source": [
    "# **<span style='color:skyblue'>Day 3 </span><span style='color:violet'><b>:</b></span><span style='color:lightgreen'> Modifying datatypes to save memory</span>**"
   ]
  },
  {
   "cell_type": "markdown",
   "id": "799ffae0",
   "metadata": {
    "papermill": {
     "duration": 0.015089,
     "end_time": "2023-10-04T02:57:23.338744",
     "exception": false,
     "start_time": "2023-10-04T02:57:23.323655",
     "status": "completed"
    },
    "tags": []
   },
   "source": [
    "<div style=\"border-radius:10px;border:#254E58 solid;padding: 15px;background-color:white;font-size:110%;text-align:left\"> \n",
    "    \n",
    "It is essential to optimize use of memory when dealing with large datasets. In order to perform analytical operations smoothly we need to work with computationally inexpensive version of dataset. We can achieve this without distorting actual content of the dataset just by modifying the datatypes. Lets understand this with [**FPL Tweets Dataset**](https://www.kaggle.com/datasets/prasad22/fpl-tweets-dataset). \n",
    "      "
   ]
  },
  {
   "cell_type": "code",
   "execution_count": 12,
   "id": "d684d027",
   "metadata": {
    "execution": {
     "iopub.execute_input": "2023-10-04T02:57:23.370378Z",
     "iopub.status.busy": "2023-10-04T02:57:23.369589Z",
     "iopub.status.idle": "2023-10-04T02:57:24.879195Z",
     "shell.execute_reply": "2023-10-04T02:57:24.877782Z"
    },
    "papermill": {
     "duration": 1.5282,
     "end_time": "2023-10-04T02:57:24.881620",
     "exception": false,
     "start_time": "2023-10-04T02:57:23.353420",
     "status": "completed"
    },
    "tags": []
   },
   "outputs": [],
   "source": [
    "fpl_tweets = pd.read_csv(\"/kaggle/input/fpl-tweets-dataset/FPL_tweets.csv\")"
   ]
  },
  {
   "cell_type": "code",
   "execution_count": 13,
   "id": "1b8438cb",
   "metadata": {
    "execution": {
     "iopub.execute_input": "2023-10-04T02:57:24.912698Z",
     "iopub.status.busy": "2023-10-04T02:57:24.912359Z",
     "iopub.status.idle": "2023-10-04T02:57:24.961433Z",
     "shell.execute_reply": "2023-10-04T02:57:24.960105Z"
    },
    "papermill": {
     "duration": 0.065082,
     "end_time": "2023-10-04T02:57:24.963521",
     "exception": false,
     "start_time": "2023-10-04T02:57:24.898439",
     "status": "completed"
    },
    "tags": []
   },
   "outputs": [
    {
     "name": "stdout",
     "output_type": "stream",
     "text": [
      "<class 'pandas.core.frame.DataFrame'>\n",
      "RangeIndex: 114466 entries, 0 to 114465\n",
      "Data columns (total 13 columns):\n",
      " #   Column            Non-Null Count   Dtype  \n",
      "---  ------            --------------   -----  \n",
      " 0   ID                114466 non-null  float64\n",
      " 1   Timestamp         114466 non-null  object \n",
      " 2   User              114466 non-null  object \n",
      " 3   Text              114466 non-null  object \n",
      " 4   Hashtag           28775 non-null   object \n",
      " 5   Retweets          114466 non-null  int64  \n",
      " 6   Likes             114466 non-null  int64  \n",
      " 7   Replies           114466 non-null  int64  \n",
      " 8   Source            114466 non-null  object \n",
      " 9   Location          80711 non-null   object \n",
      " 10  Verified_Account  114466 non-null  bool   \n",
      " 11  Followers         114466 non-null  int64  \n",
      " 12  Following         114466 non-null  int64  \n",
      "dtypes: bool(1), float64(1), int64(5), object(6)\n",
      "memory usage: 10.6+ MB\n"
     ]
    }
   ],
   "source": [
    "# Checking the data types\n",
    "fpl_tweets.info()"
   ]
  },
  {
   "cell_type": "markdown",
   "id": "6226a1c5",
   "metadata": {
    "papermill": {
     "duration": 0.014042,
     "end_time": "2023-10-04T02:57:24.990558",
     "exception": false,
     "start_time": "2023-10-04T02:57:24.976516",
     "status": "completed"
    },
    "tags": []
   },
   "source": [
    "<div style=\"border-radius:10px;border:#254E58 solid;padding: 15px;background-color:white;font-size:110%;text-align:left\">\n",
    "\n",
    "As we can see at the bottom     \n",
    "**memory usage**: <font color='red'>10.6+ MB</font>\n",
    "    "
   ]
  },
  {
   "cell_type": "code",
   "execution_count": 14,
   "id": "737934fe",
   "metadata": {
    "execution": {
     "iopub.execute_input": "2023-10-04T02:57:25.018662Z",
     "iopub.status.busy": "2023-10-04T02:57:25.018087Z",
     "iopub.status.idle": "2023-10-04T02:57:25.082668Z",
     "shell.execute_reply": "2023-10-04T02:57:25.080471Z"
    },
    "papermill": {
     "duration": 0.08191,
     "end_time": "2023-10-04T02:57:25.085802",
     "exception": false,
     "start_time": "2023-10-04T02:57:25.003892",
     "status": "completed"
    },
    "tags": []
   },
   "outputs": [
    {
     "name": "stdout",
     "output_type": "stream",
     "text": [
      "<class 'pandas.core.frame.DataFrame'>\n",
      "RangeIndex: 114466 entries, 0 to 114465\n",
      "Data columns (total 13 columns):\n",
      " #   Column            Non-Null Count   Dtype  \n",
      "---  ------            --------------   -----  \n",
      " 0   ID                114466 non-null  float32\n",
      " 1   Timestamp         114466 non-null  object \n",
      " 2   User              114466 non-null  object \n",
      " 3   Text              114466 non-null  object \n",
      " 4   Hashtag           28775 non-null   object \n",
      " 5   Retweets          114466 non-null  int16  \n",
      " 6   Likes             114466 non-null  int16  \n",
      " 7   Replies           114466 non-null  int16  \n",
      " 8   Source            114466 non-null  object \n",
      " 9   Location          80711 non-null   object \n",
      " 10  Verified_Account  114466 non-null  bool   \n",
      " 11  Followers         114466 non-null  int16  \n",
      " 12  Following         114466 non-null  int16  \n",
      "dtypes: bool(1), float32(1), int16(5), object(6)\n",
      "memory usage: 6.9+ MB\n"
     ]
    }
   ],
   "source": [
    "# Modifying datatypes to save memory (very useful when dealing with large datasets)\n",
    "def downcast_dtypes(df):\n",
    "    float_cols = [c for c in df.columns if df[c].dtype == \"float64\"]\n",
    "    int_cols = [c for c in df.columns if df[c].dtype in [\"int64\", \"int32\"]]\n",
    "    #object_cols = [ c for c in df.columns if df[c].dtype =='object']\n",
    "    df[float_cols] = df[float_cols].astype(np.float32)\n",
    "    df[int_cols] = df[int_cols].astype(np.int16)\n",
    "    #df[object_cols] = df[object_cols].astype(\"category\")\n",
    "    return df\n",
    "\n",
    "fpl_tweets = downcast_dtypes(fpl_tweets)\n",
    "fpl_tweets.info()"
   ]
  },
  {
   "cell_type": "markdown",
   "id": "3dac06a4",
   "metadata": {
    "papermill": {
     "duration": 0.018185,
     "end_time": "2023-10-04T02:57:25.119600",
     "exception": false,
     "start_time": "2023-10-04T02:57:25.101415",
     "status": "completed"
    },
    "tags": []
   },
   "source": [
    "<div style=\"border-radius:10px;border:#254E58 solid;padding: 15px;background-color:white;font-size:110%;text-align:left\">\n",
    "    \n",
    "There you have it... \n",
    "\n",
    "**memory usage**: <font color= green>**6.9+ MB**</font> ...after modifying the datatypes.\n",
    "    \n",
    "    \n",
    "If the downcasted data type can accurately represent all the original values in the column, then there won't be any data loss.However,if the original values in the column exceed the maximum or minimum values that can be represented by the new data type, those values will be truncated or wrapped around.\n",
    "\n",
    "    \n",
    "It's important to be cautious when downcasting data types and to ensure that you won't lose any important information or precision in your data. Always check your data before and after downcasting to make sure it behaves as expected.    \n",
    "   \n",
    "    \n",
    "I would encourage you to go through the below notebook to understand how to deal with large datasets- [Tutorial on reading large datasets](https://www.kaggle.com/code/rohanrao/tutorial-on-reading-large-datasets)"
   ]
  },
  {
   "cell_type": "markdown",
   "id": "f3419509",
   "metadata": {
    "papermill": {
     "duration": 0.013404,
     "end_time": "2023-10-04T02:57:25.147715",
     "exception": false,
     "start_time": "2023-10-04T02:57:25.134311",
     "status": "completed"
    },
    "tags": []
   },
   "source": [
    "([Table of Contents](#-Table-of-Contents))"
   ]
  },
  {
   "cell_type": "markdown",
   "id": "9653b4ca",
   "metadata": {
    "papermill": {
     "duration": 0.015586,
     "end_time": "2023-10-04T02:57:25.176803",
     "exception": false,
     "start_time": "2023-10-04T02:57:25.161217",
     "status": "completed"
    },
    "tags": []
   },
   "source": [
    "# **<span style='color:skyblue'>Day 4 </span><span style='color:violet'><b>:</b></span><span style='color:lightgreen'> Extracting features from Timestamp</span>**"
   ]
  },
  {
   "cell_type": "markdown",
   "id": "4e29b6c7",
   "metadata": {
    "papermill": {
     "duration": 0.013527,
     "end_time": "2023-10-04T02:57:25.205043",
     "exception": false,
     "start_time": "2023-10-04T02:57:25.191516",
     "status": "completed"
    },
    "tags": []
   },
   "source": [
    "<div style=\"border-radius:10px;border:#254E58 solid;padding: 15px;background-color:white;font-size:110%;text-align:left\">\n",
    "\n",
    "Converting a timestamp column into useful features (year, month, day, hour, minute, second).\n",
    "\n",
    "The function **extract_timestamp_features_in_dataframe** is designed to take a Pandas DataFrame, which contains a column with timestamp data, and extract various time-related features from that timestamp. It then inserts these extracted features as new columns in the DataFrame, placing them just after the original timestamp column.\n",
    "    \n",
    "Let's understand this with [**FPL Tweets Dataset**](https://www.kaggle.com/datasets/prasad22/fpl-tweets-dataset).     \n"
   ]
  },
  {
   "cell_type": "code",
   "execution_count": 15,
   "id": "cbe2cfd0",
   "metadata": {
    "execution": {
     "iopub.execute_input": "2023-10-04T02:57:25.232679Z",
     "iopub.status.busy": "2023-10-04T02:57:25.232314Z",
     "iopub.status.idle": "2023-10-04T02:57:25.246127Z",
     "shell.execute_reply": "2023-10-04T02:57:25.245236Z"
    },
    "papermill": {
     "duration": 0.03054,
     "end_time": "2023-10-04T02:57:25.248310",
     "exception": false,
     "start_time": "2023-10-04T02:57:25.217770",
     "status": "completed"
    },
    "tags": []
   },
   "outputs": [
    {
     "data": {
      "text/html": [
       "<div>\n",
       "<style scoped>\n",
       "    .dataframe tbody tr th:only-of-type {\n",
       "        vertical-align: middle;\n",
       "    }\n",
       "\n",
       "    .dataframe tbody tr th {\n",
       "        vertical-align: top;\n",
       "    }\n",
       "\n",
       "    .dataframe thead th {\n",
       "        text-align: right;\n",
       "    }\n",
       "</style>\n",
       "<table border=\"1\" class=\"dataframe\">\n",
       "  <thead>\n",
       "    <tr style=\"text-align: right;\">\n",
       "      <th></th>\n",
       "      <th>ID</th>\n",
       "      <th>Timestamp</th>\n",
       "      <th>User</th>\n",
       "      <th>Text</th>\n",
       "      <th>Hashtag</th>\n",
       "    </tr>\n",
       "  </thead>\n",
       "  <tbody>\n",
       "    <tr>\n",
       "      <th>0</th>\n",
       "      <td>2.855350e+17</td>\n",
       "      <td>2012-12-30 23:56:11+00:00</td>\n",
       "      <td>AmythLFC</td>\n",
       "      <td>I scored 75 points in Gameweek 20 on Fantasy P...</td>\n",
       "      <td>NaN</td>\n",
       "    </tr>\n",
       "    <tr>\n",
       "      <th>1</th>\n",
       "      <td>2.855290e+17</td>\n",
       "      <td>2012-12-30 23:31:55+00:00</td>\n",
       "      <td>BenBoutwood</td>\n",
       "      <td>110,525 have transferred Walcott into fantasy ...</td>\n",
       "      <td>NaN</td>\n",
       "    </tr>\n",
       "    <tr>\n",
       "      <th>2</th>\n",
       "      <td>2.855270e+17</td>\n",
       "      <td>2012-12-30 23:24:56+00:00</td>\n",
       "      <td>ddreid88</td>\n",
       "      <td>I scored 61 points in Gameweek 20 on Fantasy P...</td>\n",
       "      <td>NaN</td>\n",
       "    </tr>\n",
       "    <tr>\n",
       "      <th>3</th>\n",
       "      <td>2.855270e+17</td>\n",
       "      <td>2012-12-30 23:23:26+00:00</td>\n",
       "      <td>ahmedkungora16</td>\n",
       "      <td>I scored 71 points in Gameweek 20 on Fantasy P...</td>\n",
       "      <td>NaN</td>\n",
       "    </tr>\n",
       "    <tr>\n",
       "      <th>4</th>\n",
       "      <td>2.855260e+17</td>\n",
       "      <td>2012-12-30 23:20:13+00:00</td>\n",
       "      <td>murray_rankin</td>\n",
       "      <td>My life's ambition is to one week be the highe...</td>\n",
       "      <td>['fpl', 'aiminghigh']</td>\n",
       "    </tr>\n",
       "  </tbody>\n",
       "</table>\n",
       "</div>"
      ],
      "text/plain": [
       "             ID                  Timestamp            User  \\\n",
       "0  2.855350e+17  2012-12-30 23:56:11+00:00        AmythLFC   \n",
       "1  2.855290e+17  2012-12-30 23:31:55+00:00     BenBoutwood   \n",
       "2  2.855270e+17  2012-12-30 23:24:56+00:00        ddreid88   \n",
       "3  2.855270e+17  2012-12-30 23:23:26+00:00  ahmedkungora16   \n",
       "4  2.855260e+17  2012-12-30 23:20:13+00:00   murray_rankin   \n",
       "\n",
       "                                                Text                Hashtag  \n",
       "0  I scored 75 points in Gameweek 20 on Fantasy P...                    NaN  \n",
       "1  110,525 have transferred Walcott into fantasy ...                    NaN  \n",
       "2  I scored 61 points in Gameweek 20 on Fantasy P...                    NaN  \n",
       "3  I scored 71 points in Gameweek 20 on Fantasy P...                    NaN  \n",
       "4  My life's ambition is to one week be the highe...  ['fpl', 'aiminghigh']  "
      ]
     },
     "execution_count": 15,
     "metadata": {},
     "output_type": "execute_result"
    }
   ],
   "source": [
    "#Checking first 5 rows of first 5 columns\n",
    "fpl_tweets.iloc[:5, :5] "
   ]
  },
  {
   "cell_type": "code",
   "execution_count": 16,
   "id": "8880c243",
   "metadata": {
    "execution": {
     "iopub.execute_input": "2023-10-04T02:57:25.279309Z",
     "iopub.status.busy": "2023-10-04T02:57:25.278050Z",
     "iopub.status.idle": "2023-10-04T02:57:25.286552Z",
     "shell.execute_reply": "2023-10-04T02:57:25.285368Z"
    },
    "papermill": {
     "duration": 0.02621,
     "end_time": "2023-10-04T02:57:25.289307",
     "exception": false,
     "start_time": "2023-10-04T02:57:25.263097",
     "status": "completed"
    },
    "tags": []
   },
   "outputs": [],
   "source": [
    "def extract_timestamp_features_in_dataframe(df, timestamp_column_name):\n",
    "    # Convert the timestamp column to a datetime object\n",
    "    df[timestamp_column_name] = pd.to_datetime(df[timestamp_column_name], errors='coerce')\n",
    "    \n",
    "    # Extract individual features\n",
    "    features = {\n",
    "                \"second\": df[timestamp_column_name].dt.second,\n",
    "                \"minute\": df[timestamp_column_name].dt.minute,\n",
    "                \"hour\": df[timestamp_column_name].dt.hour,\n",
    "                \"day\": df[timestamp_column_name].dt.day,\n",
    "                \"month\": df[timestamp_column_name].dt.month,\n",
    "                \"year\": df[timestamp_column_name].dt.year\n",
    "    }\n",
    "    \n",
    "    # Insert the extracted features just after the original timestamp column\n",
    "    for feature_name, feature_data in features.items():\n",
    "        df.insert(df.columns.get_loc(timestamp_column_name) + 1, feature_name, feature_data)\n",
    "    \n",
    "    return df"
   ]
  },
  {
   "cell_type": "code",
   "execution_count": 17,
   "id": "54dfd61e",
   "metadata": {
    "execution": {
     "iopub.execute_input": "2023-10-04T02:57:25.321677Z",
     "iopub.status.busy": "2023-10-04T02:57:25.320990Z",
     "iopub.status.idle": "2023-10-04T02:57:26.010133Z",
     "shell.execute_reply": "2023-10-04T02:57:26.008203Z"
    },
    "papermill": {
     "duration": 0.709168,
     "end_time": "2023-10-04T02:57:26.013346",
     "exception": false,
     "start_time": "2023-10-04T02:57:25.304178",
     "status": "completed"
    },
    "tags": []
   },
   "outputs": [
    {
     "data": {
      "text/html": [
       "<div>\n",
       "<style scoped>\n",
       "    .dataframe tbody tr th:only-of-type {\n",
       "        vertical-align: middle;\n",
       "    }\n",
       "\n",
       "    .dataframe tbody tr th {\n",
       "        vertical-align: top;\n",
       "    }\n",
       "\n",
       "    .dataframe thead th {\n",
       "        text-align: right;\n",
       "    }\n",
       "</style>\n",
       "<table border=\"1\" class=\"dataframe\">\n",
       "  <thead>\n",
       "    <tr style=\"text-align: right;\">\n",
       "      <th></th>\n",
       "      <th>ID</th>\n",
       "      <th>Timestamp</th>\n",
       "      <th>year</th>\n",
       "      <th>month</th>\n",
       "      <th>day</th>\n",
       "      <th>hour</th>\n",
       "      <th>minute</th>\n",
       "      <th>second</th>\n",
       "      <th>User</th>\n",
       "      <th>Text</th>\n",
       "      <th>Hashtag</th>\n",
       "    </tr>\n",
       "  </thead>\n",
       "  <tbody>\n",
       "    <tr>\n",
       "      <th>1</th>\n",
       "      <td>2.855290e+17</td>\n",
       "      <td>2012-12-30 23:31:55+00:00</td>\n",
       "      <td>2012</td>\n",
       "      <td>12</td>\n",
       "      <td>30</td>\n",
       "      <td>23</td>\n",
       "      <td>31</td>\n",
       "      <td>55</td>\n",
       "      <td>BenBoutwood</td>\n",
       "      <td>110,525 have transferred Walcott into fantasy ...</td>\n",
       "      <td>NaN</td>\n",
       "    </tr>\n",
       "    <tr>\n",
       "      <th>4</th>\n",
       "      <td>2.855260e+17</td>\n",
       "      <td>2012-12-30 23:20:13+00:00</td>\n",
       "      <td>2012</td>\n",
       "      <td>12</td>\n",
       "      <td>30</td>\n",
       "      <td>23</td>\n",
       "      <td>20</td>\n",
       "      <td>13</td>\n",
       "      <td>murray_rankin</td>\n",
       "      <td>My life's ambition is to one week be the highe...</td>\n",
       "      <td>['fpl', 'aiminghigh']</td>\n",
       "    </tr>\n",
       "    <tr>\n",
       "      <th>2</th>\n",
       "      <td>2.855270e+17</td>\n",
       "      <td>2012-12-30 23:24:56+00:00</td>\n",
       "      <td>2012</td>\n",
       "      <td>12</td>\n",
       "      <td>30</td>\n",
       "      <td>23</td>\n",
       "      <td>24</td>\n",
       "      <td>56</td>\n",
       "      <td>ddreid88</td>\n",
       "      <td>I scored 61 points in Gameweek 20 on Fantasy P...</td>\n",
       "      <td>NaN</td>\n",
       "    </tr>\n",
       "    <tr>\n",
       "      <th>0</th>\n",
       "      <td>2.855350e+17</td>\n",
       "      <td>2012-12-30 23:56:11+00:00</td>\n",
       "      <td>2012</td>\n",
       "      <td>12</td>\n",
       "      <td>30</td>\n",
       "      <td>23</td>\n",
       "      <td>56</td>\n",
       "      <td>11</td>\n",
       "      <td>AmythLFC</td>\n",
       "      <td>I scored 75 points in Gameweek 20 on Fantasy P...</td>\n",
       "      <td>NaN</td>\n",
       "    </tr>\n",
       "    <tr>\n",
       "      <th>3</th>\n",
       "      <td>2.855270e+17</td>\n",
       "      <td>2012-12-30 23:23:26+00:00</td>\n",
       "      <td>2012</td>\n",
       "      <td>12</td>\n",
       "      <td>30</td>\n",
       "      <td>23</td>\n",
       "      <td>23</td>\n",
       "      <td>26</td>\n",
       "      <td>ahmedkungora16</td>\n",
       "      <td>I scored 71 points in Gameweek 20 on Fantasy P...</td>\n",
       "      <td>NaN</td>\n",
       "    </tr>\n",
       "  </tbody>\n",
       "</table>\n",
       "</div>"
      ],
      "text/plain": [
       "             ID                 Timestamp  year  month  day  hour  minute  \\\n",
       "1  2.855290e+17 2012-12-30 23:31:55+00:00  2012     12   30    23      31   \n",
       "4  2.855260e+17 2012-12-30 23:20:13+00:00  2012     12   30    23      20   \n",
       "2  2.855270e+17 2012-12-30 23:24:56+00:00  2012     12   30    23      24   \n",
       "0  2.855350e+17 2012-12-30 23:56:11+00:00  2012     12   30    23      56   \n",
       "3  2.855270e+17 2012-12-30 23:23:26+00:00  2012     12   30    23      23   \n",
       "\n",
       "   second            User                                               Text  \\\n",
       "1      55     BenBoutwood  110,525 have transferred Walcott into fantasy ...   \n",
       "4      13   murray_rankin  My life's ambition is to one week be the highe...   \n",
       "2      56        ddreid88  I scored 61 points in Gameweek 20 on Fantasy P...   \n",
       "0      11        AmythLFC  I scored 75 points in Gameweek 20 on Fantasy P...   \n",
       "3      26  ahmedkungora16  I scored 71 points in Gameweek 20 on Fantasy P...   \n",
       "\n",
       "                 Hashtag  \n",
       "1                    NaN  \n",
       "4  ['fpl', 'aiminghigh']  \n",
       "2                    NaN  \n",
       "0                    NaN  \n",
       "3                    NaN  "
      ]
     },
     "execution_count": 17,
     "metadata": {},
     "output_type": "execute_result"
    }
   ],
   "source": [
    "fpl_tweets = extract_timestamp_features_in_dataframe(fpl_tweets,\"Timestamp\")\n",
    "#Drawing 5 samples randomly for first 11 columns\n",
    "fpl_tweets.iloc[:5,:11].sample(n=5, random_state=42)"
   ]
  },
  {
   "cell_type": "markdown",
   "id": "e6c8a458",
   "metadata": {
    "papermill": {
     "duration": 0.01538,
     "end_time": "2023-10-04T02:57:26.044888",
     "exception": false,
     "start_time": "2023-10-04T02:57:26.029508",
     "status": "completed"
    },
    "tags": []
   },
   "source": [
    "<div style=\"border-radius:10px;border:#254E58 solid;padding: 15px;background-color:white;font-size:110%;text-align:left\">\n",
    "\n",
    "As we can see, 6 new features got added just after original Timestamp column.\n",
    "    \n",
    "This can be useful for further analysis or modeling when you want to work with the individual components of timestamp data.\n",
    "    \n",
    "**NOTE** : The <span style=\"background-color: yellow\">errors='coerce'</span> argument is provided to handle any non-convertible values by setting them to NaT (Not a Timestamp).    \n"
   ]
  },
  {
   "cell_type": "markdown",
   "id": "dadc36aa",
   "metadata": {
    "papermill": {
     "duration": 0.013578,
     "end_time": "2023-10-04T02:57:26.071941",
     "exception": false,
     "start_time": "2023-10-04T02:57:26.058363",
     "status": "completed"
    },
    "tags": []
   },
   "source": [
    "([Table of Contents](#-Table-of-Contents))"
   ]
  },
  {
   "cell_type": "markdown",
   "id": "80377fdc",
   "metadata": {
    "papermill": {
     "duration": 0.013767,
     "end_time": "2023-10-04T02:57:26.099488",
     "exception": false,
     "start_time": "2023-10-04T02:57:26.085721",
     "status": "completed"
    },
    "tags": []
   },
   "source": [
    "# **<span style='color:skyblue'>Day 5 </span><span style='color:violet'><b>:</b></span><span style='color:lightgreen'> Checking frequency proportions</span>**"
   ]
  },
  {
   "cell_type": "markdown",
   "id": "d57d7ea0",
   "metadata": {
    "papermill": {
     "duration": 0.014371,
     "end_time": "2023-10-04T02:57:26.128805",
     "exception": false,
     "start_time": "2023-10-04T02:57:26.114434",
     "status": "completed"
    },
    "tags": []
   },
   "source": [
    "<div style=\"border-radius:10px;border:#254E58 solid;padding: 15px;background-color:white;font-size:110%;text-align:left\">\n",
    "\n",
    "The **value_counts()** function used with Pandas, a popular data manipulation library, and is primarily used to compute a histogram of a categorical or discrete variable. It counts the occurrences of unique values in a Pandas Series and returns the result as a new Series with the unique values as the index and their respective counts as the data. \n",
    " \n",
    "Here exploring some common use cases with [**California Independent Medical Review Dataset**](https://www.kaggle.com/datasets/prasad22/ca-independent-medical-review/data) for the value_counts() function: "
   ]
  },
  {
   "cell_type": "code",
   "execution_count": 18,
   "id": "46e8b9a3",
   "metadata": {
    "execution": {
     "iopub.execute_input": "2023-10-04T02:57:26.169669Z",
     "iopub.status.busy": "2023-10-04T02:57:26.168684Z",
     "iopub.status.idle": "2023-10-04T02:57:27.019360Z",
     "shell.execute_reply": "2023-10-04T02:57:27.018064Z"
    },
    "papermill": {
     "duration": 0.870849,
     "end_time": "2023-10-04T02:57:27.021775",
     "exception": false,
     "start_time": "2023-10-04T02:57:26.150926",
     "status": "completed"
    },
    "tags": []
   },
   "outputs": [
    {
     "data": {
      "text/html": [
       "<div>\n",
       "<style scoped>\n",
       "    .dataframe tbody tr th:only-of-type {\n",
       "        vertical-align: middle;\n",
       "    }\n",
       "\n",
       "    .dataframe tbody tr th {\n",
       "        vertical-align: top;\n",
       "    }\n",
       "\n",
       "    .dataframe thead th {\n",
       "        text-align: right;\n",
       "    }\n",
       "</style>\n",
       "<table border=\"1\" class=\"dataframe\">\n",
       "  <thead>\n",
       "    <tr style=\"text-align: right;\">\n",
       "      <th></th>\n",
       "      <th>data_type</th>\n",
       "      <th>null_count</th>\n",
       "      <th>unique_count</th>\n",
       "    </tr>\n",
       "  </thead>\n",
       "  <tbody>\n",
       "    <tr>\n",
       "      <th>Reference ID</th>\n",
       "      <td>object</td>\n",
       "      <td>0</td>\n",
       "      <td>19245</td>\n",
       "    </tr>\n",
       "    <tr>\n",
       "      <th>Report Year</th>\n",
       "      <td>int64</td>\n",
       "      <td>0</td>\n",
       "      <td>16</td>\n",
       "    </tr>\n",
       "    <tr>\n",
       "      <th>Diagnosis Category</th>\n",
       "      <td>object</td>\n",
       "      <td>59</td>\n",
       "      <td>29</td>\n",
       "    </tr>\n",
       "    <tr>\n",
       "      <th>Diagnosis Sub Category</th>\n",
       "      <td>object</td>\n",
       "      <td>1904</td>\n",
       "      <td>278</td>\n",
       "    </tr>\n",
       "    <tr>\n",
       "      <th>Treatment Category</th>\n",
       "      <td>object</td>\n",
       "      <td>450</td>\n",
       "      <td>31</td>\n",
       "    </tr>\n",
       "    <tr>\n",
       "      <th>Treatment Sub Category</th>\n",
       "      <td>object</td>\n",
       "      <td>1268</td>\n",
       "      <td>283</td>\n",
       "    </tr>\n",
       "    <tr>\n",
       "      <th>Determination</th>\n",
       "      <td>object</td>\n",
       "      <td>0</td>\n",
       "      <td>2</td>\n",
       "    </tr>\n",
       "    <tr>\n",
       "      <th>Type</th>\n",
       "      <td>object</td>\n",
       "      <td>0</td>\n",
       "      <td>3</td>\n",
       "    </tr>\n",
       "    <tr>\n",
       "      <th>Age Range</th>\n",
       "      <td>object</td>\n",
       "      <td>1210</td>\n",
       "      <td>7</td>\n",
       "    </tr>\n",
       "    <tr>\n",
       "      <th>Patient Gender</th>\n",
       "      <td>object</td>\n",
       "      <td>1210</td>\n",
       "      <td>2</td>\n",
       "    </tr>\n",
       "    <tr>\n",
       "      <th>Findings</th>\n",
       "      <td>object</td>\n",
       "      <td>20</td>\n",
       "      <td>19198</td>\n",
       "    </tr>\n",
       "  </tbody>\n",
       "</table>\n",
       "</div>"
      ],
      "text/plain": [
       "                       data_type  null_count  unique_count\n",
       "Reference ID              object           0         19245\n",
       "Report Year                int64           0            16\n",
       "Diagnosis Category        object          59            29\n",
       "Diagnosis Sub Category    object        1904           278\n",
       "Treatment Category        object         450            31\n",
       "Treatment Sub Category    object        1268           283\n",
       "Determination             object           0             2\n",
       "Type                      object           0             3\n",
       "Age Range                 object        1210             7\n",
       "Patient Gender            object        1210             2\n",
       "Findings                  object          20         19198"
      ]
     },
     "execution_count": 18,
     "metadata": {},
     "output_type": "execute_result"
    }
   ],
   "source": [
    "ca_med_rev = pd.read_csv(\"/kaggle/input/ca-independent-medical-review/Independent_Medical_Review__IMR__Determinations__Trend.csv\")\n",
    "\n",
    "##Checking Datatypes, Mising Value, Unique Value\n",
    "def perform_basic_eda(df):\n",
    "    temp = pd.DataFrame(index=df.columns)\n",
    "    temp['data_type']=df.dtypes\n",
    "    temp['null_count']=df.isnull().sum()\n",
    "    temp['unique_count']=df.nunique()\n",
    "    return temp\n",
    "\n",
    "perform_basic_eda(ca_med_rev)"
   ]
  },
  {
   "cell_type": "markdown",
   "id": "03c51e3d",
   "metadata": {
    "papermill": {
     "duration": 0.014079,
     "end_time": "2023-10-04T02:57:27.050891",
     "exception": false,
     "start_time": "2023-10-04T02:57:27.036812",
     "status": "completed"
    },
    "tags": []
   },
   "source": [
    "<div style=\"border-radius:10px;border:#254E58 solid;padding: 15px;background-color:white;font-size:110%;text-align:left\">\n",
    "    \n",
    "Here unique_count gives an idea that for a categorical column how many values it is represented with in the data.\n",
    "\n",
    "Ex Type is with 3, Determination is with 2 etc.\n",
    "    \n",
    "\n",
    "**value_counts()** often used during the initial data exploration phase to understand the distribution of values within a categorical variable. This helps you gain insights into your data.    "
   ]
  },
  {
   "cell_type": "code",
   "execution_count": 19,
   "id": "3dff8a29",
   "metadata": {
    "execution": {
     "iopub.execute_input": "2023-10-04T02:57:27.083860Z",
     "iopub.status.busy": "2023-10-04T02:57:27.083529Z",
     "iopub.status.idle": "2023-10-04T02:57:27.090796Z",
     "shell.execute_reply": "2023-10-04T02:57:27.089271Z"
    },
    "papermill": {
     "duration": 0.029,
     "end_time": "2023-10-04T02:57:27.094284",
     "exception": false,
     "start_time": "2023-10-04T02:57:27.065284",
     "status": "completed"
    },
    "tags": []
   },
   "outputs": [],
   "source": [
    "#Writing a simple function to check frequency proportions for a category column\n",
    "def proportions(df, column_name):\n",
    "    absolute_dist = df[column_name].value_counts(dropna=False).reset_index()\n",
    "    percent_dist = df[column_name].value_counts(dropna=False,normalize=True).round(3)*100\n",
    "    percent_dist = percent_dist.reset_index()\n",
    "    freq_dist = absolute_dist.merge(percent_dist,on=column_name,how=\"left\")\n",
    "    freq_dist[\"proportion\"] = freq_dist[\"proportion\"].apply(lambda x : str(x)+\" %\")\n",
    "    return freq_dist"
   ]
  },
  {
   "cell_type": "code",
   "execution_count": 20,
   "id": "a213a152",
   "metadata": {
    "execution": {
     "iopub.execute_input": "2023-10-04T02:57:27.140768Z",
     "iopub.status.busy": "2023-10-04T02:57:27.140161Z",
     "iopub.status.idle": "2023-10-04T02:57:27.168074Z",
     "shell.execute_reply": "2023-10-04T02:57:27.167134Z"
    },
    "papermill": {
     "duration": 0.048667,
     "end_time": "2023-10-04T02:57:27.170248",
     "exception": false,
     "start_time": "2023-10-04T02:57:27.121581",
     "status": "completed"
    },
    "tags": []
   },
   "outputs": [
    {
     "data": {
      "text/html": [
       "<div>\n",
       "<style scoped>\n",
       "    .dataframe tbody tr th:only-of-type {\n",
       "        vertical-align: middle;\n",
       "    }\n",
       "\n",
       "    .dataframe tbody tr th {\n",
       "        vertical-align: top;\n",
       "    }\n",
       "\n",
       "    .dataframe thead th {\n",
       "        text-align: right;\n",
       "    }\n",
       "</style>\n",
       "<table border=\"1\" class=\"dataframe\">\n",
       "  <thead>\n",
       "    <tr style=\"text-align: right;\">\n",
       "      <th></th>\n",
       "      <th>Type</th>\n",
       "      <th>count</th>\n",
       "      <th>proportion</th>\n",
       "    </tr>\n",
       "  </thead>\n",
       "  <tbody>\n",
       "    <tr>\n",
       "      <th>0</th>\n",
       "      <td>Medical Necessity</td>\n",
       "      <td>13588</td>\n",
       "      <td>70.6 %</td>\n",
       "    </tr>\n",
       "    <tr>\n",
       "      <th>1</th>\n",
       "      <td>Experimental/Investigational</td>\n",
       "      <td>5167</td>\n",
       "      <td>26.8 %</td>\n",
       "    </tr>\n",
       "    <tr>\n",
       "      <th>2</th>\n",
       "      <td>Urgent Care</td>\n",
       "      <td>490</td>\n",
       "      <td>2.5 %</td>\n",
       "    </tr>\n",
       "  </tbody>\n",
       "</table>\n",
       "</div>"
      ],
      "text/plain": [
       "                           Type  count proportion\n",
       "0             Medical Necessity  13588     70.6 %\n",
       "1  Experimental/Investigational   5167     26.8 %\n",
       "2                   Urgent Care    490      2.5 %"
      ]
     },
     "execution_count": 20,
     "metadata": {},
     "output_type": "execute_result"
    }
   ],
   "source": [
    "proportions(ca_med_rev, \"Type\")"
   ]
  },
  {
   "cell_type": "code",
   "execution_count": 21,
   "id": "eff4f17e",
   "metadata": {
    "execution": {
     "iopub.execute_input": "2023-10-04T02:57:27.207145Z",
     "iopub.status.busy": "2023-10-04T02:57:27.206765Z",
     "iopub.status.idle": "2023-10-04T02:57:27.223819Z",
     "shell.execute_reply": "2023-10-04T02:57:27.222520Z"
    },
    "papermill": {
     "duration": 0.035483,
     "end_time": "2023-10-04T02:57:27.225975",
     "exception": false,
     "start_time": "2023-10-04T02:57:27.190492",
     "status": "completed"
    },
    "tags": []
   },
   "outputs": [
    {
     "data": {
      "text/html": [
       "<div>\n",
       "<style scoped>\n",
       "    .dataframe tbody tr th:only-of-type {\n",
       "        vertical-align: middle;\n",
       "    }\n",
       "\n",
       "    .dataframe tbody tr th {\n",
       "        vertical-align: top;\n",
       "    }\n",
       "\n",
       "    .dataframe thead th {\n",
       "        text-align: right;\n",
       "    }\n",
       "</style>\n",
       "<table border=\"1\" class=\"dataframe\">\n",
       "  <thead>\n",
       "    <tr style=\"text-align: right;\">\n",
       "      <th></th>\n",
       "      <th>Age Range</th>\n",
       "      <th>count</th>\n",
       "      <th>proportion</th>\n",
       "    </tr>\n",
       "  </thead>\n",
       "  <tbody>\n",
       "    <tr>\n",
       "      <th>0</th>\n",
       "      <td>51-64</td>\n",
       "      <td>6612</td>\n",
       "      <td>34.4 %</td>\n",
       "    </tr>\n",
       "    <tr>\n",
       "      <th>1</th>\n",
       "      <td>41-50</td>\n",
       "      <td>3527</td>\n",
       "      <td>18.3 %</td>\n",
       "    </tr>\n",
       "    <tr>\n",
       "      <th>2</th>\n",
       "      <td>31-40</td>\n",
       "      <td>2080</td>\n",
       "      <td>10.8 %</td>\n",
       "    </tr>\n",
       "    <tr>\n",
       "      <th>3</th>\n",
       "      <td>11_20</td>\n",
       "      <td>1882</td>\n",
       "      <td>9.8 %</td>\n",
       "    </tr>\n",
       "    <tr>\n",
       "      <th>4</th>\n",
       "      <td>0-10</td>\n",
       "      <td>1773</td>\n",
       "      <td>9.2 %</td>\n",
       "    </tr>\n",
       "    <tr>\n",
       "      <th>5</th>\n",
       "      <td>21-30</td>\n",
       "      <td>1455</td>\n",
       "      <td>7.6 %</td>\n",
       "    </tr>\n",
       "    <tr>\n",
       "      <th>6</th>\n",
       "      <td>NaN</td>\n",
       "      <td>1210</td>\n",
       "      <td>6.3 %</td>\n",
       "    </tr>\n",
       "    <tr>\n",
       "      <th>7</th>\n",
       "      <td>65+</td>\n",
       "      <td>706</td>\n",
       "      <td>3.6999999999999997 %</td>\n",
       "    </tr>\n",
       "  </tbody>\n",
       "</table>\n",
       "</div>"
      ],
      "text/plain": [
       "  Age Range  count            proportion\n",
       "0     51-64   6612                34.4 %\n",
       "1     41-50   3527                18.3 %\n",
       "2     31-40   2080                10.8 %\n",
       "3     11_20   1882                 9.8 %\n",
       "4      0-10   1773                 9.2 %\n",
       "5     21-30   1455                 7.6 %\n",
       "6       NaN   1210                 6.3 %\n",
       "7       65+    706  3.6999999999999997 %"
      ]
     },
     "execution_count": 21,
     "metadata": {},
     "output_type": "execute_result"
    }
   ],
   "source": [
    "proportions(ca_med_rev, \"Age Range\")"
   ]
  },
  {
   "cell_type": "markdown",
   "id": "f8431d24",
   "metadata": {
    "papermill": {
     "duration": 0.014496,
     "end_time": "2023-10-04T02:57:27.254996",
     "exception": false,
     "start_time": "2023-10-04T02:57:27.240500",
     "status": "completed"
    },
    "tags": []
   },
   "source": [
    "<div style=\"border-radius:10px;border:#254E58 solid;padding: 15px;background-color:white;font-size:110%;text-align:left\">\n",
    "     \n",
    "In classification problems, it's important to check for class imbalance. **value_counts()** can help identify if there is a significant difference in the number of samples for each class.\n",
    "    \n",
    "There are few more ways we can leverage usage of this function such as\n",
    "- To perform group-wise analysis and aggregation of data.\n",
    "    \n",
    "`grouped_data = data.groupby('Category')['Value'].value_counts().unstack()`\n",
    "    \n",
    "- You can filter the data based on the count of unique values. For example, you might want to keep rows where a certain categorical variable has a count above a certain threshold.\n",
    "    \n",
    "`filtered_data = data[data['Category'].map(value_counts) > 10]`\n",
    "    \n",
    "-  In data visualization to create bar plots or histograms to visualize the distribution of categorical data.    "
   ]
  },
  {
   "cell_type": "code",
   "execution_count": 22,
   "id": "6785180f",
   "metadata": {
    "execution": {
     "iopub.execute_input": "2023-10-04T02:57:27.291139Z",
     "iopub.status.busy": "2023-10-04T02:57:27.290395Z",
     "iopub.status.idle": "2023-10-04T02:57:27.635184Z",
     "shell.execute_reply": "2023-10-04T02:57:27.634111Z"
    },
    "papermill": {
     "duration": 0.365324,
     "end_time": "2023-10-04T02:57:27.637417",
     "exception": false,
     "start_time": "2023-10-04T02:57:27.272093",
     "status": "completed"
    },
    "tags": []
   },
   "outputs": [
    {
     "data": {
      "image/png": "[encoded data removed]",
      "text/plain": [
       "<Figure size 640x480 with 1 Axes>"
      ]
     },
     "metadata": {},
     "output_type": "display_data"
    }
   ],
   "source": [
    "value_counts = ca_med_rev['Age Range'].value_counts(dropna=False)\n",
    "value_counts.plot(kind='bar')\n",
    "plt.title('Distribution of Categories')\n",
    "plt.xlabel('Categories')\n",
    "plt.ylabel('Count')\n",
    "plt.show();"
   ]
  },
  {
   "cell_type": "markdown",
   "id": "f3a63335",
   "metadata": {
    "papermill": {
     "duration": 0.014601,
     "end_time": "2023-10-04T02:57:27.666400",
     "exception": false,
     "start_time": "2023-10-04T02:57:27.651799",
     "status": "completed"
    },
    "tags": []
   },
   "source": [
    "([Table of Contents](#-Table-of-Contents))"
   ]
  },
  {
   "cell_type": "markdown",
   "id": "a3d1e24a",
   "metadata": {
    "papermill": {
     "duration": 0.01482,
     "end_time": "2023-10-04T02:57:27.696916",
     "exception": false,
     "start_time": "2023-10-04T02:57:27.682096",
     "status": "completed"
    },
    "tags": []
   },
   "source": [
    "# **<span style='color:skyblue'>Day 6 </span><span style='color:violet'><b>:</b></span><span style='color:lightgreen'> Dealing with Missing values Part I</span>**"
   ]
  },
  {
   "cell_type": "markdown",
   "id": "63ff793b",
   "metadata": {
    "papermill": {
     "duration": 0.015596,
     "end_time": "2023-10-04T02:57:27.727310",
     "exception": false,
     "start_time": "2023-10-04T02:57:27.711714",
     "status": "completed"
    },
    "tags": []
   },
   "source": [
    "<div style=\"border-radius:10px;border:#254E58 solid;padding: 15px;background-color:white;font-size:110%;text-align:left\">\n",
    "    \n",
    "Finding and handling missing values is a critical part of the data science process. It directly impacts the quality and reliability of your analyses, models, and decision-making processes. Data scientists must carefully consider how to address missing values to ensure their results are meaningful and accurate.\n",
    "    \n",
    "In Python, you can use various methods to find missing values in a DataFrame using libraries like pandas. Here are some common approaches:\n",
    "\n",
    "1. **`missing_values = df.isna()  # or df.isnull()`** -\n",
    "    These methods return a DataFrame of the same shape as the input, with True where the values are missing and False where they are not.\n",
    "2. **`df.info()`** - The info() method provides a concise summary of the DataFrame, including the count of non-null values for each column. Columns with missing values will have a lower count than the total number of rows.\n",
    "3. **`df.describe()`** - The describe() method provides summary statistics for numeric columns, including the count of non-null values. You can use this to quickly identify missing values in numeric columns.\n",
    "4. **`missing_count = df.isna().sum()`** - The sum() method can be applied to the result of isna() to get the total count of missing values for each column.\n",
    "5. **`sns.heatmap(df.isnull(), cbar=False, cmap='viridis')\n",
    "plt.show()`** - If you want a visual representation of missing values, you can use the seaborn library to create a heatmap of missing values.\n",
    "6. **`missing_rows = df[df['column_name'].isna()]`** - You can create custom functions to find missing values based on your specific criteria. For example, to find rows with missing values in specific columns\n",
    "7. \n",
    "    **`import missingno as msno\n",
    "     msno.matrix(df)\n",
    "     plt.show()`** - The missingno library is a useful tool for visualizing missing data patterns.\n",
    "    \n",
    "    \n",
    "Choose the method that best suits your needs based on the complexity of your DataFrame and the information you want to extract about the missing values.    "
   ]
  },
  {
   "cell_type": "code",
   "execution_count": 23,
   "id": "2031a5a5",
   "metadata": {
    "execution": {
     "iopub.execute_input": "2023-10-04T02:57:27.761736Z",
     "iopub.status.busy": "2023-10-04T02:57:27.761088Z",
     "iopub.status.idle": "2023-10-04T02:57:27.766896Z",
     "shell.execute_reply": "2023-10-04T02:57:27.766100Z"
    },
    "papermill": {
     "duration": 0.024429,
     "end_time": "2023-10-04T02:57:27.769064",
     "exception": false,
     "start_time": "2023-10-04T02:57:27.744635",
     "status": "completed"
    },
    "tags": []
   },
   "outputs": [],
   "source": [
    "#Writing a simple function to identify and impute missing values in dataframe for Numeric variables.\n",
    "\n",
    "def impute_numerical_missing_values(df, strategy='mean', fill_value=None):\n",
    "\n",
    "    imputed_df = df.copy()\n",
    "    \n",
    "    if strategy == 'mean':\n",
    "        imputed_df.fillna(imputed_df.select_dtypes(include=['number']).mean(), inplace=True)\n",
    "    elif strategy == 'median':\n",
    "        imputed_df.fillna(imputed_df.select_dtypes(include=['number']).median(), inplace=True)\n",
    "    elif strategy == 'constant':\n",
    "        imputed_df.fillna(fill_value, inplace=True)\n",
    "    elif strategy is None:\n",
    "        pass\n",
    "    else:\n",
    "        raise ValueError(\"Invalid imputation strategy. Use 'mean', 'median', 'constant', or None.\")\n",
    "    \n",
    "    return imputed_df"
   ]
  },
  {
   "cell_type": "markdown",
   "id": "02cbaca0",
   "metadata": {
    "papermill": {
     "duration": 0.015482,
     "end_time": "2023-10-04T02:57:27.800230",
     "exception": false,
     "start_time": "2023-10-04T02:57:27.784748",
     "status": "completed"
    },
    "tags": []
   },
   "source": [
    "<div style=\"border-radius:10px;border:#254E58 solid;padding: 15px;background-color:white;font-size:110%;text-align:left\">\n",
    "    \n",
    "Created a simple user defined function to Identify and impute missing values in a DataFrame for numerical variables:\n",
    "\n",
    "<h3>Parameters</h3>\n",
    "    \n",
    "    \n",
    "<b>df</b> : pandas DataFrame containing missing values.\n",
    "    \n",
    "<b>strategy</b> : str, optional (default='mean').The imputation strategy to use. Options: 'mean', 'median', 'mode', 'constant', or None.\n",
    "    \n",
    "- `'mean'`: Fill missing values with the mean of the column.\n",
    "- `'median'`: Fill missing values with the median of the column.\n",
    "- `'mode'`: Fill missing values with the mode of the column.\n",
    "- `'constant'`: Fill missing values with a constant value provided in the `'fill_value'` parameter.\n",
    "- `None`: Do not impute missing values.\n",
    "    \n",
    "    \n",
    "<b>fill_value</b> : int, float, str, optional (default=None)\n",
    "    The constant value to use for imputation when 'strategy' is set to 'constant'. Ignored otherwise.\n",
    "\n",
    "<b>Returns</b>:\n",
    "\n",
    "- `imputed_df`: pandas DataFrame with missing values imputed based on the chosen strategy.    "
   ]
  },
  {
   "cell_type": "code",
   "execution_count": 24,
   "id": "b1717d5e",
   "metadata": {
    "execution": {
     "iopub.execute_input": "2023-10-04T02:57:27.834658Z",
     "iopub.status.busy": "2023-10-04T02:57:27.833969Z",
     "iopub.status.idle": "2023-10-04T02:57:28.594587Z",
     "shell.execute_reply": "2023-10-04T02:57:28.593481Z"
    },
    "papermill": {
     "duration": 0.780059,
     "end_time": "2023-10-04T02:57:28.596561",
     "exception": false,
     "start_time": "2023-10-04T02:57:27.816502",
     "status": "completed"
    },
    "tags": []
   },
   "outputs": [
    {
     "name": "stdout",
     "output_type": "stream",
     "text": [
      "Original DataFrame with Missing values -\n"
     ]
    },
    {
     "data": {
      "text/plain": [
       "Census Year                        0\n",
       "District                           0\n",
       "Taluka                            16\n",
       "Town/Village                    1036\n",
       "No. of households                  0\n",
       "Total population                   0\n",
       "Total male population              0\n",
       "Total female population            0\n",
       "Total 0 to 6 year children         0\n",
       "Male 0 to 6 year children          0\n",
       "Female 0 to 6 year children        0\n",
       "Total SC population                0\n",
       "Male SC population                 0\n",
       "Female SC population               0\n",
       "Total ST population                0\n",
       "Male ST population                 0\n",
       "Female ST population               0\n",
       "Total literates                    0\n",
       "Male literates                     0\n",
       "Female literates                   0\n",
       "Total iliterates               49347\n",
       "Male iliterates                49347\n",
       "Female iliterates              49347\n",
       "Total main workers                 0\n",
       "Male main workers                  0\n",
       "Female main workers                0\n",
       "Total non workers                  0\n",
       "Male non workers                   0\n",
       "Female non workers                 0\n",
       "dtype: int64"
      ]
     },
     "execution_count": 24,
     "metadata": {},
     "output_type": "execute_result"
    }
   ],
   "source": [
    "#Using MHA Population Census Dataset here for illustration\n",
    "mha_pop = pd.read_csv(\"/kaggle/input/mha-population-dataset/MHA Population Report.csv\")\n",
    "\n",
    "#Before imputation\n",
    "print(\"Original DataFrame with Missing values -\")\n",
    "mha_pop.isna().sum()"
   ]
  },
  {
   "cell_type": "code",
   "execution_count": 25,
   "id": "21cb830b",
   "metadata": {
    "execution": {
     "iopub.execute_input": "2023-10-04T02:57:28.628247Z",
     "iopub.status.busy": "2023-10-04T02:57:28.627880Z",
     "iopub.status.idle": "2023-10-04T02:57:28.714758Z",
     "shell.execute_reply": "2023-10-04T02:57:28.713591Z"
    },
    "papermill": {
     "duration": 0.105911,
     "end_time": "2023-10-04T02:57:28.717198",
     "exception": false,
     "start_time": "2023-10-04T02:57:28.611287",
     "status": "completed"
    },
    "tags": []
   },
   "outputs": [
    {
     "name": "stdout",
     "output_type": "stream",
     "text": [
      "Imputed DataFrame -\n"
     ]
    },
    {
     "data": {
      "text/plain": [
       "Census Year                       0\n",
       "District                          0\n",
       "Taluka                           16\n",
       "Town/Village                   1036\n",
       "No. of households                 0\n",
       "Total population                  0\n",
       "Total male population             0\n",
       "Total female population           0\n",
       "Total 0 to 6 year children        0\n",
       "Male 0 to 6 year children         0\n",
       "Female 0 to 6 year children       0\n",
       "Total SC population               0\n",
       "Male SC population                0\n",
       "Female SC population              0\n",
       "Total ST population               0\n",
       "Male ST population                0\n",
       "Female ST population              0\n",
       "Total literates                   0\n",
       "Male literates                    0\n",
       "Female literates                  0\n",
       "Total iliterates                  0\n",
       "Male iliterates                   0\n",
       "Female iliterates                 0\n",
       "Total main workers                0\n",
       "Male main workers                 0\n",
       "Female main workers               0\n",
       "Total non workers                 0\n",
       "Male non workers                  0\n",
       "Female non workers                0\n",
       "dtype: int64"
      ]
     },
     "execution_count": 25,
     "metadata": {},
     "output_type": "execute_result"
    }
   ],
   "source": [
    "imputed_mha_pop = impute_numerical_missing_values(mha_pop, strategy='mean')\n",
    "#After imputation\n",
    "print(\"Imputed DataFrame -\")\n",
    "imputed_mha_pop.isna().sum()"
   ]
  },
  {
   "cell_type": "markdown",
   "id": "d6b0d0b9",
   "metadata": {
    "papermill": {
     "duration": 0.015897,
     "end_time": "2023-10-04T02:57:28.748089",
     "exception": false,
     "start_time": "2023-10-04T02:57:28.732192",
     "status": "completed"
    },
    "tags": []
   },
   "source": [
    "<div style=\"border-radius:10px;border:#254E58 solid;padding: 15px;background-color:white;font-size:110%;text-align:left\">\n",
    "\n",
    "\n",
    "| columns Imputed | Total Missing rows |   \n",
    "|:---:|:---:|\n",
    "| Total iliterates | 49347 |\n",
    "| Male iliterates | 49347 |\n",
    "| Female iliterates | 49347 |"
   ]
  },
  {
   "cell_type": "markdown",
   "id": "3b80281a",
   "metadata": {
    "papermill": {
     "duration": 0.016173,
     "end_time": "2023-10-04T02:57:28.780044",
     "exception": false,
     "start_time": "2023-10-04T02:57:28.763871",
     "status": "completed"
    },
    "tags": []
   },
   "source": [
    "([Table of Contents](#-Table-of-Contents))"
   ]
  },
  {
   "cell_type": "markdown",
   "id": "cc4d03e5",
   "metadata": {
    "papermill": {
     "duration": 0.014402,
     "end_time": "2023-10-04T02:57:28.810280",
     "exception": false,
     "start_time": "2023-10-04T02:57:28.795878",
     "status": "completed"
    },
    "tags": []
   },
   "source": [
    "# **<span style='color:skyblue'>Day 7 </span><span style='color:violet'><b>:</b></span><span style='color:lightgreen'> Dealing with Missing values Part II</span>**"
   ]
  },
  {
   "cell_type": "markdown",
   "id": "34c215d3",
   "metadata": {
    "papermill": {
     "duration": 0.01655,
     "end_time": "2023-10-04T02:57:28.842448",
     "exception": false,
     "start_time": "2023-10-04T02:57:28.825898",
     "status": "completed"
    },
    "tags": []
   },
   "source": [
    "<div style=\"border-radius:10px;border:#254E58 solid;padding: 15px;background-color:white;font-size:110%;text-align:left\">\n",
    "    \n",
    "In previous section, we saw a simple user defined function which can be customised to our choice of imputation.Though I have mentioned its usage is confined to imputing numerical variables, one can use \"Mode\" (Most Frequent) option for categorical variables imputations. \n",
    "    \n",
    "In this section, we will look at a ready made and more flexible functionality available for imputation of various in-built strategies offered by **scikit-learn**.\n",
    "    "
   ]
  },
  {
   "cell_type": "code",
   "execution_count": 26,
   "id": "261761ac",
   "metadata": {
    "execution": {
     "iopub.execute_input": "2023-10-04T02:57:28.875096Z",
     "iopub.status.busy": "2023-10-04T02:57:28.874700Z",
     "iopub.status.idle": "2023-10-04T02:57:29.517031Z",
     "shell.execute_reply": "2023-10-04T02:57:29.515329Z"
    },
    "papermill": {
     "duration": 0.661632,
     "end_time": "2023-10-04T02:57:29.519806",
     "exception": false,
     "start_time": "2023-10-04T02:57:28.858174",
     "status": "completed"
    },
    "tags": []
   },
   "outputs": [],
   "source": [
    "from sklearn.experimental import enable_iterative_imputer\n",
    "from sklearn.impute import IterativeImputer,SimpleImputer\n",
    "\n",
    "def iterative_impute_mixed_data(df, random_state=0):\n",
    "\n",
    "    # Separate numerical and categorical columns\n",
    "    numeric_columns = df.select_dtypes(include=[\"number\"]).columns\n",
    "    categorical_columns = df.select_dtypes(exclude=[\"number\"]).columns\n",
    "\n",
    "    # Create a copy of the original DataFrame\n",
    "    imputed_df = df.copy()\n",
    "\n",
    "    # Impute missing values for numerical columns using IterativeImputer\n",
    "    numeric_imputer = IterativeImputer(random_state=random_state)\n",
    "    imputed_df[numeric_columns] = numeric_imputer.fit_transform(imputed_df[numeric_columns])\n",
    "\n",
    "    # Impute missing values for categorical columns using mode (most frequent value)\n",
    "    categorical_imputer = SimpleImputer(strategy=\"most_frequent\")\n",
    "    imputed_df[categorical_columns] = categorical_imputer.fit_transform(imputed_df[categorical_columns])\n",
    "\n",
    "    return imputed_df\n",
    "\n",
    "# The 'imputed_df' now contains the DataFrame with missing values imputed while preserving data types.\n"
   ]
  },
  {
   "cell_type": "code",
   "execution_count": 27,
   "id": "8ad03872",
   "metadata": {
    "execution": {
     "iopub.execute_input": "2023-10-04T02:57:29.553825Z",
     "iopub.status.busy": "2023-10-04T02:57:29.553470Z",
     "iopub.status.idle": "2023-10-04T02:57:29.620778Z",
     "shell.execute_reply": "2023-10-04T02:57:29.618598Z"
    },
    "papermill": {
     "duration": 0.088519,
     "end_time": "2023-10-04T02:57:29.623503",
     "exception": false,
     "start_time": "2023-10-04T02:57:29.534984",
     "status": "completed"
    },
    "tags": []
   },
   "outputs": [],
   "source": [
    "# Call the function to impute missing values using IterativeImputer\n",
    "imputed_df = iterative_impute_mixed_data(ca_med_rev, random_state=0)"
   ]
  },
  {
   "cell_type": "code",
   "execution_count": 28,
   "id": "05d364a6",
   "metadata": {
    "execution": {
     "iopub.execute_input": "2023-10-04T02:57:29.657853Z",
     "iopub.status.busy": "2023-10-04T02:57:29.656928Z",
     "iopub.status.idle": "2023-10-04T02:57:29.723714Z",
     "shell.execute_reply": "2023-10-04T02:57:29.722284Z"
    },
    "papermill": {
     "duration": 0.08748,
     "end_time": "2023-10-04T02:57:29.726640",
     "exception": false,
     "start_time": "2023-10-04T02:57:29.639160",
     "status": "completed"
    },
    "tags": []
   },
   "outputs": [
    {
     "name": "stdout",
     "output_type": "stream",
     "text": [
      "\n",
      "\n",
      "Original DataFrame with Missing values -\n"
     ]
    },
    {
     "data": {
      "text/plain": [
       "Reference ID                 0\n",
       "Report Year                  0\n",
       "Diagnosis Category          59\n",
       "Diagnosis Sub Category    1904\n",
       "Treatment Category         450\n",
       "Treatment Sub Category    1268\n",
       "Determination                0\n",
       "Type                         0\n",
       "Age Range                 1210\n",
       "Patient Gender            1210\n",
       "Findings                    20\n",
       "dtype: int64"
      ]
     },
     "execution_count": 28,
     "metadata": {},
     "output_type": "execute_result"
    },
    {
     "name": "stdout",
     "output_type": "stream",
     "text": [
      "\n",
      "\n",
      "Checking Original Proportions for Age-Range column : \n"
     ]
    },
    {
     "data": {
      "text/html": [
       "<div>\n",
       "<style scoped>\n",
       "    .dataframe tbody tr th:only-of-type {\n",
       "        vertical-align: middle;\n",
       "    }\n",
       "\n",
       "    .dataframe tbody tr th {\n",
       "        vertical-align: top;\n",
       "    }\n",
       "\n",
       "    .dataframe thead th {\n",
       "        text-align: right;\n",
       "    }\n",
       "</style>\n",
       "<table border=\"1\" class=\"dataframe\">\n",
       "  <thead>\n",
       "    <tr style=\"text-align: right;\">\n",
       "      <th></th>\n",
       "      <th>Age Range</th>\n",
       "      <th>count</th>\n",
       "      <th>proportion</th>\n",
       "    </tr>\n",
       "  </thead>\n",
       "  <tbody>\n",
       "    <tr>\n",
       "      <th>0</th>\n",
       "      <td>51-64</td>\n",
       "      <td>6612</td>\n",
       "      <td>34.4 %</td>\n",
       "    </tr>\n",
       "    <tr>\n",
       "      <th>1</th>\n",
       "      <td>41-50</td>\n",
       "      <td>3527</td>\n",
       "      <td>18.3 %</td>\n",
       "    </tr>\n",
       "    <tr>\n",
       "      <th>2</th>\n",
       "      <td>31-40</td>\n",
       "      <td>2080</td>\n",
       "      <td>10.8 %</td>\n",
       "    </tr>\n",
       "    <tr>\n",
       "      <th>3</th>\n",
       "      <td>11_20</td>\n",
       "      <td>1882</td>\n",
       "      <td>9.8 %</td>\n",
       "    </tr>\n",
       "    <tr>\n",
       "      <th>4</th>\n",
       "      <td>0-10</td>\n",
       "      <td>1773</td>\n",
       "      <td>9.2 %</td>\n",
       "    </tr>\n",
       "    <tr>\n",
       "      <th>5</th>\n",
       "      <td>21-30</td>\n",
       "      <td>1455</td>\n",
       "      <td>7.6 %</td>\n",
       "    </tr>\n",
       "    <tr>\n",
       "      <th>6</th>\n",
       "      <td>NaN</td>\n",
       "      <td>1210</td>\n",
       "      <td>6.3 %</td>\n",
       "    </tr>\n",
       "    <tr>\n",
       "      <th>7</th>\n",
       "      <td>65+</td>\n",
       "      <td>706</td>\n",
       "      <td>3.6999999999999997 %</td>\n",
       "    </tr>\n",
       "  </tbody>\n",
       "</table>\n",
       "</div>"
      ],
      "text/plain": [
       "  Age Range  count            proportion\n",
       "0     51-64   6612                34.4 %\n",
       "1     41-50   3527                18.3 %\n",
       "2     31-40   2080                10.8 %\n",
       "3     11_20   1882                 9.8 %\n",
       "4      0-10   1773                 9.2 %\n",
       "5     21-30   1455                 7.6 %\n",
       "6       NaN   1210                 6.3 %\n",
       "7       65+    706  3.6999999999999997 %"
      ]
     },
     "execution_count": 28,
     "metadata": {},
     "output_type": "execute_result"
    },
    {
     "name": "stdout",
     "output_type": "stream",
     "text": [
      "\n",
      "\n",
      "Imputed DataFrame -\n"
     ]
    },
    {
     "data": {
      "text/plain": [
       "Reference ID              0\n",
       "Report Year               0\n",
       "Diagnosis Category        0\n",
       "Diagnosis Sub Category    0\n",
       "Treatment Category        0\n",
       "Treatment Sub Category    0\n",
       "Determination             0\n",
       "Type                      0\n",
       "Age Range                 0\n",
       "Patient Gender            0\n",
       "Findings                  0\n",
       "dtype: int64"
      ]
     },
     "execution_count": 28,
     "metadata": {},
     "output_type": "execute_result"
    },
    {
     "name": "stdout",
     "output_type": "stream",
     "text": [
      "\n",
      "\n",
      "Checking Proportions of Age-Range column after imputation: \n"
     ]
    },
    {
     "data": {
      "text/html": [
       "<div>\n",
       "<style scoped>\n",
       "    .dataframe tbody tr th:only-of-type {\n",
       "        vertical-align: middle;\n",
       "    }\n",
       "\n",
       "    .dataframe tbody tr th {\n",
       "        vertical-align: top;\n",
       "    }\n",
       "\n",
       "    .dataframe thead th {\n",
       "        text-align: right;\n",
       "    }\n",
       "</style>\n",
       "<table border=\"1\" class=\"dataframe\">\n",
       "  <thead>\n",
       "    <tr style=\"text-align: right;\">\n",
       "      <th></th>\n",
       "      <th>Age Range</th>\n",
       "      <th>count</th>\n",
       "      <th>proportion</th>\n",
       "    </tr>\n",
       "  </thead>\n",
       "  <tbody>\n",
       "    <tr>\n",
       "      <th>0</th>\n",
       "      <td>51-64</td>\n",
       "      <td>7822</td>\n",
       "      <td>40.6 %</td>\n",
       "    </tr>\n",
       "    <tr>\n",
       "      <th>1</th>\n",
       "      <td>41-50</td>\n",
       "      <td>3527</td>\n",
       "      <td>18.3 %</td>\n",
       "    </tr>\n",
       "    <tr>\n",
       "      <th>2</th>\n",
       "      <td>31-40</td>\n",
       "      <td>2080</td>\n",
       "      <td>10.8 %</td>\n",
       "    </tr>\n",
       "    <tr>\n",
       "      <th>3</th>\n",
       "      <td>11_20</td>\n",
       "      <td>1882</td>\n",
       "      <td>9.8 %</td>\n",
       "    </tr>\n",
       "    <tr>\n",
       "      <th>4</th>\n",
       "      <td>0-10</td>\n",
       "      <td>1773</td>\n",
       "      <td>9.2 %</td>\n",
       "    </tr>\n",
       "    <tr>\n",
       "      <th>5</th>\n",
       "      <td>21-30</td>\n",
       "      <td>1455</td>\n",
       "      <td>7.6 %</td>\n",
       "    </tr>\n",
       "    <tr>\n",
       "      <th>6</th>\n",
       "      <td>65+</td>\n",
       "      <td>706</td>\n",
       "      <td>3.6999999999999997 %</td>\n",
       "    </tr>\n",
       "  </tbody>\n",
       "</table>\n",
       "</div>"
      ],
      "text/plain": [
       "  Age Range  count            proportion\n",
       "0     51-64   7822                40.6 %\n",
       "1     41-50   3527                18.3 %\n",
       "2     31-40   2080                10.8 %\n",
       "3     11_20   1882                 9.8 %\n",
       "4      0-10   1773                 9.2 %\n",
       "5     21-30   1455                 7.6 %\n",
       "6       65+    706  3.6999999999999997 %"
      ]
     },
     "execution_count": 28,
     "metadata": {},
     "output_type": "execute_result"
    }
   ],
   "source": [
    "#Before imputation\n",
    "print(\"\\n\")\n",
    "print(\"Original DataFrame with Missing values -\")\n",
    "ca_med_rev.isna().sum()\n",
    "print(\"\\n\")\n",
    "print(\"Checking Original Proportions for Age-Range column : \")\n",
    "proportions(ca_med_rev,\"Age Range\")\n",
    "\n",
    "#After imputation\n",
    "print(\"\\n\")\n",
    "print(\"Imputed DataFrame -\")\n",
    "imputed_df.isna().sum()\n",
    "print(\"\\n\")\n",
    "print(\"Checking Proportions of Age-Range column after imputation: \")\n",
    "proportions(imputed_df,\"Age Range\")"
   ]
  },
  {
   "cell_type": "markdown",
   "id": "adc610ab",
   "metadata": {
    "papermill": {
     "duration": 0.022417,
     "end_time": "2023-10-04T02:57:29.766217",
     "exception": false,
     "start_time": "2023-10-04T02:57:29.743800",
     "status": "completed"
    },
    "tags": []
   },
   "source": [
    "<div style=\"border-radius:10px;border:#254E58 solid;padding: 15px;background-color:white;font-size:110%;text-align:left\">\n",
    "\n",
    "Here's a brief explanation of Sklearn's imputers:\n",
    "\n",
    "<h3>\n",
    "    SimpleImputer:</h3>\n",
    "\n",
    "\n",
    "**`Functionality:`**\n",
    "Replaces missing values with a specified constant (e.g., 0) or statistical measures such as mean, median, or most frequent value along each column.\n",
    "Works well for handling missing values for univariate features\n",
    "\n",
    "**`Use Cases:`**\n",
    "Suitable for datasets where missing values are missing at random or can be reasonably replaced by a simple statistic.\n",
    "Useful for numerical and categorical data.\n",
    "Quick and straightforward imputation method.\n",
    "\n",
    "    \n",
    "<h3>\n",
    "    IterativeImputer:</h3>\n",
    "\n",
    "**`Functionality:`**\n",
    "Uses an iterative approach to estimate missing values based on the relationships between features in the dataset.\n",
    "It builds a predictive model for each feature with missing values, using other features as predictors.\n",
    "Iteratively refines the imputations using the model until convergence.\n",
    "\n",
    "**`Use Cases:`**\n",
    "Appropriate when the relationships between variables are complex and can be modeled.\n",
    "Works well when missing data is not missing completely at random and when imputations should be influenced by other variables.\n",
    "Suitable for numerical data.\n",
    "\n",
    "<h3>KNNImputer:</h3>\n",
    "\n",
    "**`Functionality:`**\n",
    "Imputes missing values based on the values of the k-nearest neighbors in the dataset.\n",
    "Computes the similarity (distance) between data points and replaces missing values with values from the nearest neighbors.\n",
    "\n",
    "**`Use Cases:`**\n",
    "Effective when data points with similar patterns tend to have similar values.\n",
    "Useful for both numerical and categorical data.\n",
    "Suitable for datasets with complex patterns or when the relationships between variables are not easily captured by linear models.\n",
    "Works well when the missingness mechanism is not completely at random.\n",
    "\n",
    "\n",
    "    \n",
    "For more information on Scikit-Learn's Imputation - [read documentation](https://scikit-learn.org/stable/modules/impute.html)   "
   ]
  },
  {
   "cell_type": "markdown",
   "id": "52cf3ebe",
   "metadata": {
    "papermill": {
     "duration": 0.02303,
     "end_time": "2023-10-04T02:57:29.810414",
     "exception": false,
     "start_time": "2023-10-04T02:57:29.787384",
     "status": "completed"
    },
    "tags": []
   },
   "source": [
    "([Table of Contents](#-Table-of-Contents))"
   ]
  },
  {
   "cell_type": "markdown",
   "id": "ad74defc",
   "metadata": {
    "papermill": {
     "duration": 0.017934,
     "end_time": "2023-10-04T02:57:29.850984",
     "exception": false,
     "start_time": "2023-10-04T02:57:29.833050",
     "status": "completed"
    },
    "tags": []
   },
   "source": [
    "<div style=\"border-radius:10px;border:#254E58 solid;padding: 15px;background-color:white;font-size:110%;text-align:left\">\n",
    "    \n",
    "\n",
    " This marks the end to this Kernel. If you find it interesting, do continue to Next Part - **[30 days of EDA - Week II](https://www.kaggle.com/code/prasad22/30-days-of-eda-week-ii)** \n",
    "    \n",
    "<h2>Thanks for reading!</h2>     "
   ]
  }
 ],
 "metadata": {
  "kernelspec": {
   "display_name": "Python 3",
   "language": "python",
   "name": "python3"
  },
  "language_info": {
   "codemirror_mode": {
    "name": "ipython",
    "version": 3
   },
   "file_extension": ".py",
   "mimetype": "text/x-python",
   "name": "python",
   "nbconvert_exporter": "python",
   "pygments_lexer": "ipython3",
   "version": "3.10.12"
  },
  "papermill": {
   "default_parameters": {},
   "duration": 14.281043,
   "end_time": "2023-10-04T02:57:30.694574",
   "environment_variables": {},
   "exception": null,
   "input_path": "__notebook__.ipynb",
   "output_path": "__notebook__.ipynb",
   "parameters": {},
   "start_time": "2023-10-04T02:57:16.413531",
   "version": "2.4.0"
  }
 },
 "nbformat": 4,
 "nbformat_minor": 5
}
